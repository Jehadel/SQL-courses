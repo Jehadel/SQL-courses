{
 "cells": [
  {
   "cell_type": "markdown",
   "id": "84d2aa1e-b492-472d-bfc1-ed2c9efeaf2e",
   "metadata": {},
   "source": [
    "# SQL basics (2)"
   ]
  },
  {
   "cell_type": "code",
   "execution_count": 1,
   "id": "05c0c7d3-27c9-43b1-b819-e54d3d69c590",
   "metadata": {},
   "outputs": [],
   "source": [
    "import sqlite3\n",
    "import pandas as pd"
   ]
  },
  {
   "cell_type": "code",
   "execution_count": 2,
   "id": "575078a7-ee90-4bb9-a7f6-4df7802a19ef",
   "metadata": {},
   "outputs": [],
   "source": [
    "conn = sqlite3.connect('data/european-soccer.sqlite')\n",
    "c = conn.cursor()"
   ]
  },
  {
   "cell_type": "code",
   "execution_count": 7,
   "id": "4332795d-db33-40a7-be6c-decfa1268443",
   "metadata": {},
   "outputs": [],
   "source": [
    "def exe(cursor: object, query: 'string'):\n",
    "    cursor.execute(query)\n",
    "    for row in  cursor.fetchall():\n",
    "        print(row)"
   ]
  },
  {
   "cell_type": "code",
   "execution_count": 4,
   "id": "81ce5b32-6214-48f4-89c7-37acb1b580e1",
   "metadata": {},
   "outputs": [
    {
     "name": "stdout",
     "output_type": "stream",
     "text": [
      "(1, 'Belgium')\n",
      "(1729, 'England')\n",
      "(4769, 'France')\n",
      "(7809, 'Germany')\n",
      "(10257, 'Italy')\n",
      "(13274, 'Netherlands')\n",
      "(15722, 'Poland')\n",
      "(17642, 'Portugal')\n",
      "(19694, 'Scotland')\n",
      "(21518, 'Spain')\n",
      "(24558, 'Switzerland')\n"
     ]
    }
   ],
   "source": [
    "query = '''\n",
    "SELECT *\n",
    "FROM Country;\n",
    "'''\n",
    "\n",
    "exe(c, query)"
   ]
  },
  {
   "cell_type": "markdown",
   "id": "4f7353c2-2293-4e4c-a70b-131402318fab",
   "metadata": {},
   "source": [
    "##### Explore the database\n",
    "\n",
    "Having the possibility of asking the list of the tables and their columns in a database is useful. Halas there is no standardised instructions to do that in SQL, access the metadata of the database is rather an action executed at the level of the DBMS. Each DBMS has a different method. For exemple the commands – after logging into user account – `\\dt` or `\\dt+` in PostgreSQL, `show tables;` in MySQL, `.tables` in SQLite, `SELECT table_name FROM dba_tables;` in Oracle, `db2 list tables for schema schema_name` in IBM db2 or `SELECT * FROM information_schema.tables;` in Microsoft SQL Server. \n",
    "\n",
    "When using SQLite with Python there are other method to get those metadata, some or them are powerful, but you should expect to learn specific instructions that fit the environment and DBMS you will be working with in your project, company or client. Keep in mind that if even if SQLite is widely used – and that’s why you should know it –, it is not designed for a scalable production environment.\n",
    "\n",
    "### `PRAGMA` statements\n",
    "\n",
    "SQLite uses [PRAGMAs](https://www.sqlite.org/pragma.html) to define or changes some behavior of the engine. For example, the instruction `PRAGMA case_sensitive_like = TRUE` makes SQLite engine case sensitive (when using `LIKE` for example). You can also use `PRAGMA` to access to metadatas.\n",
    "\n",
    "#### Get the list of tables"
   ]
  },
  {
   "cell_type": "code",
   "execution_count": 5,
   "id": "c05c065e-05d1-4f6a-a94c-4f23b2318100",
   "metadata": {},
   "outputs": [
    {
     "name": "stdout",
     "output_type": "stream",
     "text": [
      "('main', 'Team_Attributes', 'table', 25, 0, 0)\n",
      "('main', 'Team', 'table', 5, 0, 0)\n",
      "('main', 'Country', 'table', 2, 0, 0)\n",
      "('main', 'League', 'table', 3, 0, 0)\n",
      "('main', 'Match', 'table', 115, 0, 0)\n",
      "('main', 'Player', 'table', 7, 0, 0)\n",
      "('main', 'Player_Attributes', 'table', 42, 0, 0)\n",
      "('main', 'sqlite_sequence', 'table', 2, 0, 0)\n",
      "('main', 'sqlite_schema', 'table', 5, 0, 0)\n",
      "('temp', 'sqlite_temp_schema', 'table', 5, 0, 0)\n"
     ]
    }
   ],
   "source": [
    "query = '''\n",
    "PRAGMA table_list;\n",
    "'''\n",
    "\n",
    "exe(c, query)"
   ]
  },
  {
   "cell_type": "markdown",
   "id": "9374fa83-2e14-4d2e-b39d-29346d9df2c4",
   "metadata": {},
   "source": [
    "1. The first column is the [schema](https://database.guide/what-is-a-database-schema/) to which the table belong\n",
    "2. The 2d column is the tables names\n",
    "3. The 3d column is the table type. Most common are `table` and `view`. A view is a query written that is saved as… a view\n",
    "4. The 4th column is the number of fields in tables\n",
    "5. The 5th and 6th columns are options defined at the creation of the tables, no need to go that deep for the moment in this introductory course.\n",
    "\n",
    "#### Get columns metadatas"
   ]
  },
  {
   "cell_type": "markdown",
   "id": "2bb30188-b2d9-432e-8339-077bb83d7cb7",
   "metadata": {},
   "source": [
    "The `PRAGMA table_info(<table_name>)` is used to get infos about columns metadatas of the table passed as argument :"
   ]
  },
  {
   "cell_type": "code",
   "execution_count": 6,
   "id": "b5413b75-99ac-47d1-a923-ff6b01bd3f60",
   "metadata": {},
   "outputs": [
    {
     "name": "stdout",
     "output_type": "stream",
     "text": [
      "(0, 'id', 'INTEGER', 0, None, 1)\n",
      "(1, 'name', 'TEXT', 0, None, 0)\n"
     ]
    }
   ],
   "source": [
    "query = '''\n",
    "PRAGMA table_info(Country)\n",
    "'''\n",
    "\n",
    "exe(c, query)"
   ]
  },
  {
   "cell_type": "markdown",
   "id": "e20e12b5-95d9-46e1-9bc1-e3024895a8ab",
   "metadata": {},
   "source": [
    "1. The first column is the columns indexes\n",
    "2. The 2d is the columns names\n",
    "3. The 3d is the columns types\n",
    "4. The 4th indicates if the columns can be NULL (0 = False = no, 1 = True = yes)\n",
    "5. The 5th gives the columns default values (when defined)\n",
    "6. The 6th indicates if the columns are primary keys"
   ]
  },
  {
   "cell_type": "markdown",
   "id": "5e58c650-0e72-4ad8-81e1-a166c0afff51",
   "metadata": {},
   "source": [
    "### Access to metadatas with Python\n",
    "\n",
    "The Cursor() class has a `.description` attribute that corresponds to `table_info()` and thus contains the columns name :"
   ]
  },
  {
   "cell_type": "code",
   "execution_count": 7,
   "id": "4b5b3354-c022-4fc5-9928-514194b39c05",
   "metadata": {},
   "outputs": [
    {
     "data": {
      "text/plain": [
       "(('cid', None, None, None, None, None, None),\n",
       " ('name', None, None, None, None, None, None),\n",
       " ('type', None, None, None, None, None, None),\n",
       " ('notnull', None, None, None, None, None, None),\n",
       " ('dflt_value', None, None, None, None, None, None),\n",
       " ('pk', None, None, None, None, None, None))"
      ]
     },
     "execution_count": 7,
     "metadata": {},
     "output_type": "execute_result"
    }
   ],
   "source": [
    "c.description"
   ]
  },
  {
   "cell_type": "markdown",
   "id": "76225541-b3c1-447a-b6ea-e783c2ae40db",
   "metadata": {},
   "source": [
    "It contains nothing until you place the cursor on a table by sending it a query (we will add a `LIMIT 0` to the query : we don’t really want an output, just place the cursor on the table we want to inspect)."
   ]
  },
  {
   "cell_type": "code",
   "execution_count": 8,
   "id": "10921765-30bc-43b0-bf7a-adc45e6f19ec",
   "metadata": {},
   "outputs": [
    {
     "data": {
      "text/plain": [
       "(('id', None, None, None, None, None, None),\n",
       " ('name', None, None, None, None, None, None))"
      ]
     },
     "execution_count": 8,
     "metadata": {},
     "output_type": "execute_result"
    }
   ],
   "source": [
    "c.execute('SELECT * FROM Country LIMIT 0')\n",
    "c.description"
   ]
  },
  {
   "cell_type": "markdown",
   "id": "8c5dc8e1-05b8-4633-82e5-b818559a06d0",
   "metadata": {},
   "source": [
    "We can extract column names with a comprehensive list to get a one-liner (we could have done the same with the `PRAGMA` method, of course) :"
   ]
  },
  {
   "cell_type": "code",
   "execution_count": 9,
   "id": "fdc83df4-0f80-42d8-a1d8-e9d8eba900b4",
   "metadata": {},
   "outputs": [
    {
     "data": {
      "text/plain": [
       "['id', 'name']"
      ]
     },
     "execution_count": 9,
     "metadata": {},
     "output_type": "execute_result"
    }
   ],
   "source": [
    "columns_names = [description[0] for description in c.description]\n",
    "columns_names"
   ]
  },
  {
   "cell_type": "markdown",
   "id": "ada70ff2-a528-42c0-9cd6-8781af77d00a",
   "metadata": {},
   "source": [
    "The ability to get the columns list from within our script (whether via `PRAGMA` or Cursor() class) give us the possibility to adapt dynamically our queries to the current state of the database. There is numerous usecases when an app has to change the schema of a database it uses. In this case we can easily adapt automatically our queries to the modified schema. For exemple we don’t even know all the fields in the `Matches` table, we can automatically generate a query calling those columns :"
   ]
  },
  {
   "cell_type": "code",
   "execution_count": 10,
   "id": "481a751b-b5a5-40e8-bb06-a6002057dfc1",
   "metadata": {},
   "outputs": [
    {
     "name": "stdout",
     "output_type": "stream",
     "text": [
      "SELECT id, country_id, league_id, season, stage, date, match_api_id, home_team_api_id, away_team_api_id, home_team_goal, away_team_goal, home_player_X1, home_player_X2, home_player_X3, home_player_X4, home_player_X5, home_player_X6, home_player_X7, home_player_X8, home_player_X9, home_player_X10, home_player_X11, away_player_X1, away_player_X2, away_player_X3, away_player_X4, away_player_X5, away_player_X6, away_player_X7, away_player_X8, away_player_X9, away_player_X10, away_player_X11, home_player_Y1, home_player_Y2, home_player_Y3, home_player_Y4, home_player_Y5, home_player_Y6, home_player_Y7, home_player_Y8, home_player_Y9, home_player_Y10, home_player_Y11, away_player_Y1, away_player_Y2, away_player_Y3, away_player_Y4, away_player_Y5, away_player_Y6, away_player_Y7, away_player_Y8, away_player_Y9, away_player_Y10, away_player_Y11, home_player_1, home_player_2, home_player_3, home_player_4, home_player_5, home_player_6, home_player_7, home_player_8, home_player_9, home_player_10, home_player_11, away_player_1, away_player_2, away_player_3, away_player_4, away_player_5, away_player_6, away_player_7, away_player_8, away_player_9, away_player_10, away_player_11, goal, shoton, shotoff, foulcommit, card, cross, corner, possession, B365H, B365D, B365A, BWH, BWD, BWA, IWH, IWD, IWA, LBH, LBD, LBA, PSH, PSD, PSA, WHH, WHD, WHA, SJH, SJD, SJA, VCH, VCD, VCA, GBH, GBD, GBA, BSH, BSD, BSA FROM Match\n"
     ]
    }
   ],
   "source": [
    "c.execute('SELECT * FROM Match LIMIT 0')\n",
    "columns_names = [description[0] for description in c.description]\n",
    "query = 'SELECT ' + ', '.join(columns_names) + ' FROM Match'\n",
    "print(query)"
   ]
  },
  {
   "cell_type": "markdown",
   "id": "0677de7e-0801-4559-a3d8-ed181c452e1b",
   "metadata": {},
   "source": [
    "Of course selecting all columns that way is useless, but we could write a more elaborated script that select only the columns beginning by `'home_'` for example. Try to do this as an exercise ! (modify the line where columns_names is assigned)."
   ]
  },
  {
   "cell_type": "code",
   "execution_count": 11,
   "id": "71ef08d4-49eb-41b8-8eee-d1ceeb2b14a9",
   "metadata": {},
   "outputs": [],
   "source": [
    "# your code here\n",
    "\n",
    "\n"
   ]
  },
  {
   "cell_type": "markdown",
   "id": "3d5c4d05-43a6-4034-9374-e2ccc3cfe71a",
   "metadata": {},
   "source": [
    "Another exercice : create a function to get tables in a data base, and another to get columns in a table"
   ]
  },
  {
   "cell_type": "code",
   "execution_count": 12,
   "id": "f0993667-9092-4400-a503-85d63bb3c989",
   "metadata": {},
   "outputs": [],
   "source": [
    "# your code here\n",
    "\n",
    "\n"
   ]
  },
  {
   "cell_type": "markdown",
   "id": "5bfde1d3-bbc7-4e70-a196-c9c798ddf6f4",
   "metadata": {},
   "source": [
    "Test your function, and then close the connector and cursor."
   ]
  },
  {
   "cell_type": "code",
   "execution_count": 13,
   "id": "272b7f8e-fb6d-441e-97c9-c3c6e4949faf",
   "metadata": {},
   "outputs": [],
   "source": [
    "c.close()\n",
    "conn.close()"
   ]
  },
  {
   "cell_type": "markdown",
   "id": "25af97f1-67cd-421a-9c31-1cee5aa24388",
   "metadata": {},
   "source": [
    "## Create a database\n",
    "\n",
    "### From scratch"
   ]
  },
  {
   "cell_type": "markdown",
   "id": "f7cdd6ed-8d4c-46bf-aa96-8691fae974de",
   "metadata": {},
   "source": [
    "Let’s create a database about movies. The database will be made of two tables : the table movies, which contains information like Title, budget, vote obtained… and the table credits, which contains information about the cast, the producer…\n",
    "\n",
    "Here the ERD :\n",
    "\n",
    "\n",
    "\n",
    "The steps to create a database from scratch are :\n",
    "\n",
    "1. Create the base along with a connector\n",
    "2. Create a cursor\n",
    "3. Execute `CREATE TABLE` instructions, specifying fields/column names, their type, and if needed if a column is a `PRIMARY KEY` and other options\n",
    "4. In comparison of queries, you don’t just execute a `CREATE TABLE` instruction, you hav to \"commit\" it, transmit it to the database via the connector with the `.commit()` methods\n",
    "5. Once the table is created, it’s just a container : content (data) must be gathered and inserted into the database wit the `INSERT INTO` instructions indicating the `VALUES` to be inserted\n",
    "\n",
    "Note : SQLite has very limited dataypes (5 classes) : `NULL`, `INTEGER`, `REAL`(float), `TEXT` and `BLOB`, while you have aroud 45 types in PostgreSQL for example, several types of int, float, char, byte types, and more structured types like timestamp, geometry and even XML, JSON, IP address… Such precision about the type (for example int of different sizes : from two bytes to height) improves security and efficiency : it saves a lot of space to use int on 2 bytes rather 8 if it represents small enough values…\n",
    "\n",
    "Blobs is for data stored exactly as it was input. Dates can be stored as int, real or text, according to different methods and functions available, respectivelly as Unix Time (number of seconds since first of january 1970), as Julian day number or ISO8601 strings (`'YYYY-MM-DD HH:MM:SS,SSS'`)"
   ]
  },
  {
   "cell_type": "code",
   "execution_count": 14,
   "id": "2017c59d-7d80-4b5a-92fd-7cd126033809",
   "metadata": {},
   "outputs": [],
   "source": [
    "# connector creation\n",
    "conn_mdb = sqlite3.connect('data/movies.db')\n",
    "# cursor creation\n",
    "c_mdb = conn_mdb.cursor()"
   ]
  },
  {
   "cell_type": "markdown",
   "id": "6c5fd24b-4daa-4acb-b144-778fb5c69351",
   "metadata": {},
   "source": [
    "Instructions to create the `Movies` table :"
   ]
  },
  {
   "cell_type": "code",
   "execution_count": 15,
   "id": "c7611145-415e-4ca5-b004-2d93d15fbd27",
   "metadata": {},
   "outputs": [],
   "source": [
    "creation_instructions = '''\n",
    "CREATE TABLE IF NOT EXISTS Movies(\n",
    "    Id INTEGER PRIMARY KEY AUTOINCREMENT UNIQUE,\n",
    "    Title TEXT,\n",
    "    Date TEXT,\n",
    "    Duration INTEGER,\n",
    "    Budget INTEGER,\n",
    "    First_week_viewers INTEGER,\n",
    "    Votes REAl\n",
    "    );\n",
    "'''"
   ]
  },
  {
   "cell_type": "markdown",
   "id": "21faa468-1a43-4c70-8ac6-341135c2efb2",
   "metadata": {},
   "source": [
    "Some keywords explanations :\n",
    "\n",
    "* `IF NOT EXISTS` : the table is created only if it doesn’t exist yet\n",
    "* `PRIMARY KEY` : identifies the field as a primary key (thank you captain obvious !)\n",
    "* `AUTOINCREMENT` : if a new line is created or added, the primary key (PK) value will be automatically incremented by one\n",
    "* `UNIQUE` : puts a constraint ont this field, each Id value must be unique (by definition of a PK) so if you add a line where the Id is a value already used, it will return an error. A lot of keyword at this stage are just constrains to avoid mistake or incoherence.\n",
    "\n",
    "Once the isntructions are written, execute those instructions and commit them to the database :\n"
   ]
  },
  {
   "cell_type": "code",
   "execution_count": 16,
   "id": "7a10cb1e-da2a-4ca4-857a-0becdae01c7e",
   "metadata": {},
   "outputs": [],
   "source": [
    "c_mdb.execute(creation_instructions)\n",
    "conn_mdb.commit()"
   ]
  },
  {
   "cell_type": "markdown",
   "id": "2170a872-f432-4123-a438-974b489841be",
   "metadata": {},
   "source": [
    "Verify that we now have a database and a `Movies` table (replace the cell with a call to your function written in the exercices above):"
   ]
  },
  {
   "cell_type": "code",
   "execution_count": 17,
   "id": "47b65d0f-8097-4712-b09e-0c6252f239b8",
   "metadata": {},
   "outputs": [
    {
     "name": "stdout",
     "output_type": "stream",
     "text": [
      "('main', 'Movies', 'table', 7, 0, 0)\n",
      "('main', 'sqlite_sequence', 'table', 2, 0, 0)\n",
      "('main', 'sqlite_schema', 'table', 5, 0, 0)\n",
      "('temp', 'sqlite_temp_schema', 'table', 5, 0, 0)\n"
     ]
    }
   ],
   "source": [
    "query = '''\n",
    "PRAGMA table_list;\n",
    "'''\n",
    "\n",
    "exe(c_mdb, query)"
   ]
  },
  {
   "cell_type": "markdown",
   "id": "cd2362cd-2c49-401d-b43f-764f07584c2a",
   "metadata": {},
   "source": [
    "Now verify the columns of the `Movies` table (replace the cell with a call to your other function written in the exercices above):"
   ]
  },
  {
   "cell_type": "code",
   "execution_count": 18,
   "id": "f6e46ed3-937f-4b42-8be2-1e989cc977ce",
   "metadata": {},
   "outputs": [
    {
     "name": "stdout",
     "output_type": "stream",
     "text": [
      "(0, 'Id', 'INTEGER', 0, None, 1)\n",
      "(1, 'Title', 'TEXT', 0, None, 0)\n",
      "(2, 'Date', 'TEXT', 0, None, 0)\n",
      "(3, 'Duration', 'INTEGER', 0, None, 0)\n",
      "(4, 'Budget', 'INTEGER', 0, None, 0)\n",
      "(5, 'First_week_viewers', 'INTEGER', 0, None, 0)\n",
      "(6, 'Votes', 'REAL', 0, None, 0)\n"
     ]
    }
   ],
   "source": [
    "query = '''\n",
    "PRAGMA table_info(Movies);\n",
    "'''\n",
    "\n",
    "exe(c_mdb, query)"
   ]
  },
  {
   "cell_type": "markdown",
   "id": "a10a0a11-df64-4766-a6ba-636c0bbc08fa",
   "metadata": {},
   "source": [
    "Let’s put some data in it ! Remember : a record (a line) in a table is a *tuple*, data will be a list of tuple :"
   ]
  },
  {
   "cell_type": "code",
   "execution_count": 19,
   "id": "5d837e83-820e-4cb0-a5c9-d92f62626caa",
   "metadata": {},
   "outputs": [],
   "source": [
    "data = [(1, 'A good movie', '2024-12-04', 120, 2000000, 259023, 4.36),\n",
    "        (2, 'Another good movie, slightly better', '2024-12-05', 110, 500000, 354352, 4.63),\n",
    "        (3, 'A bad movie, but with some success', '1985-01-01', 84, 600000, 165904, 4.26),\n",
    "        (4, 'A very bad movie', '2005-04-25', 93, 1000000, 235, 2.86),\n",
    "        (5, 'A not so bad movie', '2019-03-23', 104, 1500000, 40334, 3.86)]"
   ]
  },
  {
   "cell_type": "markdown",
   "id": "bf7086f9-7fbe-4042-82e4-f4a2da1a9cd1",
   "metadata": {},
   "source": [
    "Data will be inserted line by line (using a for loop) with the command `INSERT INTO`:"
   ]
  },
  {
   "cell_type": "code",
   "execution_count": 20,
   "id": "7d968250-cbca-4ab8-96bd-466ff9fb7c72",
   "metadata": {},
   "outputs": [],
   "source": [
    "for d in data:\n",
    "    c_mdb.execute('''\n",
    "    INSERT INTO Movies(id, Title, Date, Duration, Budget, First_week_viewers, Votes)\n",
    "    VALUES(?, ?, ?, ?, ?, ?, ?);''', d)"
   ]
  },
  {
   "cell_type": "markdown",
   "id": "94340f76-9271-4ee6-8686-6beb1d6d5c4c",
   "metadata": {},
   "source": [
    "Don’t forget to commit:"
   ]
  },
  {
   "cell_type": "code",
   "execution_count": 21,
   "id": "c94e1e4a-bfa7-4943-87b2-86be11ec7179",
   "metadata": {},
   "outputs": [],
   "source": [
    "conn_mdb.commit()"
   ]
  },
  {
   "cell_type": "markdown",
   "id": "13c59ff8-7adf-4f8e-b3d8-907e41f0bd75",
   "metadata": {},
   "source": [
    "Of course we don’t forget to close connector and cursor :"
   ]
  },
  {
   "cell_type": "code",
   "execution_count": 22,
   "id": "eba9dde5-7cbd-46bb-8a21-09b3530e3d98",
   "metadata": {},
   "outputs": [],
   "source": [
    "c_mdb.close()\n",
    "conn_mdb.close()"
   ]
  },
  {
   "cell_type": "markdown",
   "id": "3bfca03f-b260-4ed6-94b1-087a5cfa925c",
   "metadata": {},
   "source": [
    "Let’s verify nothing went wrong by printing the content of the table : "
   ]
  },
  {
   "cell_type": "code",
   "execution_count": 23,
   "id": "3574f005-d445-4b99-af73-c90cb0bc298b",
   "metadata": {},
   "outputs": [
    {
     "name": "stdout",
     "output_type": "stream",
     "text": [
      "(1, 'A good movie', '2024-12-04', 120, 2000000, 259023, 4.36)\n",
      "(2, 'Another good movie, slightly better', '2024-12-05', 110, 500000, 354352, 4.63)\n",
      "(3, 'A bad movie, but with some success', '1985-01-01', 84, 600000, 165904, 4.26)\n",
      "(4, 'A very bad movie', '2005-04-25', 93, 1000000, 235, 2.86)\n",
      "(5, 'A not so bad movie', '2019-03-23', 104, 1500000, 40334, 3.86)\n"
     ]
    }
   ],
   "source": [
    "# re-open the database\n",
    "conn_mdb = sqlite3.connect('data/movies.db')\n",
    "c_mdb = conn_mdb.cursor()\n",
    "\n",
    "#query all the lines\n",
    "query = 'SELECT * FROM Movies'\n",
    "exe(c_mdb, query)"
   ]
  },
  {
   "cell_type": "markdown",
   "id": "172adfd6-4646-4d67-a405-68bc9874d2c3",
   "metadata": {},
   "source": [
    "### From a .csv file"
   ]
  },
  {
   "cell_type": "markdown",
   "id": "b271c9ee-c6ae-48f2-bdb8-13db1c965783",
   "metadata": {},
   "source": [
    "If it can be in some situation convenient to add few data to a table by hardcoding them in a script, it becomes quickly boring and confusing. In most cases, data are availables in flatfiles like `.csv` that favorises accessibility by its simplicity. Pull the data from a `.csv` in a database secures and improves the efficiency of data processing and diffusion.\n",
    "\n",
    "The `Credits` table contains 8 columns :\n",
    "```\n",
    "Id;Movie_id;Direction;Producer;Studio;Playscreen;Cast;Country\n",
    "1;3;\"Big director\";\"Big producer\";\"Big studio\";\"Big screenwriter\";\"Big Actor 1, Big Actor 2, Other big actors\";\"Big country\"\n",
    "2;1;\"Unknown director\";\"Unknown producteur\";\"Unknown studio\";\"Unknown screenwriter\";\"Unknown actor 1, Unknown acteur 2, Other unknown actors\";\"Unknown country\"\n",
    "3;2;\"Small director\";\"Small producer\";\"Small studio\";\"Small screenwriter\";\"Small actor 1, Small actor 2, Small other actors\";\"Small country\"\n",
    "4;5;\"Acceptable director\";\"Acceptable producer\";\"Acceptable studio\";\"Acceptable screenwriter\";\"Acceptable actor 1, Acceptable actor 2, Other acceptable actors\";\"Acceptable country\"\n",
    "5;4;\"Incompetent director\";\"Incompetent producer\";\"Incompetent studio\"; \"Incompetent screenwriter\";\"Incompetente actor 1, Incompetent actor 2, Other incompetent actors\";\"Incompetent country\"\n",
    "```\n",
    "\n",
    "Let’s see how we can get the data for our second table, `Credits`, from this `.csv` file. The difficult part is that we have to parse data (identify which part of the files corresponds to what information and where it should go in the database). Each line must be decomposed in values matching the fields and their types. Everything in the file will be loaded as a string type ! We’ll have to split and cast. \n",
    "\n",
    "1. Declare data as an empty list : it will be a list of lists, each column will be stored as list\n",
    "2. Open the `data/credits.csv` file, get rid of the headers, reading it line by line, split each line (separator is `';'` in our example) and\n",
    "3. Create the Movies table. Declare all the column as before, indicating their type, even the column that will be the foreign key (`Movies_id`). We’ll just add the constraint `NOT NULL` to this declaration, to be sure that we dont have credits records in this table and no related movie in the table `Movies`.\n",
    "4. To declare the `Movies_id` column as a foreign key (FK), we write another line with the keywords `FOREIGN KEY`, specifying between parentheses which column is the FK, then indicate with the keyword `REFERENCES` to which table and PK it relates :"
   ]
  },
  {
   "cell_type": "code",
   "execution_count": 24,
   "id": "58aff526-e93e-4202-9991-070c943b4616",
   "metadata": {},
   "outputs": [],
   "source": [
    "data = [] \n",
    "with open('data/credits.csv', 'r') as f:\n",
    "    f.readline() # get rid of the first line containing headers - we could test if headers match columns name\n",
    "    for line in f:\n",
    "        data.append(line.rstrip().split(';')) \n",
    "\n",
    "for d in data:\n",
    "    d[0] = int(d[0]) # cast the id (primary key) to int \n",
    "    d[1] = int(d[1]) # cast the movie_id (foreign key) to int \n",
    "\n",
    "# creation instructions \n",
    "create_moviestable = '''\n",
    "CREATE TABLE IF NOT EXISTS Credits(\n",
    "    Id INTEGER PRIMARY KEY AUTOINCREMENT UNIQUE,\n",
    "    Movie_id INTEGER NOT NULL,\n",
    "    Direction TEXT,\n",
    "    Producer TEXT,\n",
    "    Studio TEXT,\n",
    "    Playscreen TEXT,\n",
    "    Cast TEXT,\n",
    "    Country TEXT,\n",
    "    FOREIGN KEY (Movie_id)\n",
    "        REFERENCES Movies (Id);\n",
    ")\n",
    "''' \n",
    "\n",
    "# table creation\n",
    "c_mdb.execute(create_moviestable)\n",
    "conn_mdb.commit()\n",
    "\n",
    "# pull data in database\n",
    "\n",
    "# instructions\n",
    "insert_instructions = '''\n",
    "INSERT INTO Credits(Id,\n",
    "                    Movie_id,\n",
    "                    Direction,\n",
    "                    Producer,\n",
    "                    Studio,\n",
    "                    Playscreen,\n",
    "                    Cast,\n",
    "                    Country)\n",
    "    VALUES(?, ?, ?, ?, ?, ?, ?, ?);\n",
    "'''\n",
    "for d in data:\n",
    "    c_mdb.execute(insert_instructions, d)\n",
    "conn_mdb.commit()"
   ]
  },
  {
   "cell_type": "code",
   "execution_count": 27,
   "id": "002a4fe7-69da-46eb-a2ff-7259b5e5e9d1",
   "metadata": {},
   "outputs": [
    {
     "name": "stdout",
     "output_type": "stream",
     "text": [
      "(1, 3, '\"Big director\"', '\"Big producer\"', '\"Big studio\"', '\"Big screenwriter\"', '\"Big Actor 1, Big Actor 2, Other big actors\"', '\"Big country\"')\n",
      "(2, 1, '\"Unknown director\"', '\"Unknown producteur\"', '\"Unknown studio\"', '\"Unknown screenwriter\"', '\"Unknown actor 1, Unknown acteur 2, Other unknown actors\"', '\"Unknown country\"')\n",
      "(3, 2, '\"Small director\"', '\"Small producer\"', '\"Small studio\"', '\"Small screenwriter\"', '\"Small actor 1, Small actor 2, Small other actors\"', '\"Small country\"')\n",
      "(4, 5, '\"Acceptable director\"', '\"Acceptable producer\"', '\"Acceptable studio\"', '\"Acceptable screenwriter\"', '\"Acceptable actor 1, Acceptable actor 2, Other acceptable actors\"', '\"Acceptable country\"')\n",
      "(5, 4, '\"Incompetent director\"', '\"Incompetent producer\"', '\"Incompetent studio\"', ' \"Incompetent screenwriter\"', '\"Incompetente actor 1, Incompetent actor 2, Other incompetent actors\"', '\"Incompetent country\"')\n"
     ]
    }
   ],
   "source": [
    "query = 'SELECT * FROM Credits'\n",
    "exe(c_mdb, query)"
   ]
  },
  {
   "cell_type": "markdown",
   "id": "db8b6b8a-c821-42fc-a509-ff5e92df6e14",
   "metadata": {},
   "source": [
    "Of course we close connector and cursor :"
   ]
  },
  {
   "cell_type": "code",
   "execution_count": 28,
   "id": "94c85086-7247-41fd-bef0-c7dab8da4a64",
   "metadata": {},
   "outputs": [],
   "source": [
    "c_mdb.close()\n",
    "conn_mdb.close()"
   ]
  },
  {
   "cell_type": "markdown",
   "id": "5cc91382-e212-4a47-995f-d9b9bb97dca9",
   "metadata": {},
   "source": [
    "### From a dataframe"
   ]
  },
  {
   "cell_type": "markdown",
   "id": "82191828-5216-41b5-b359-e4c462dd0721",
   "metadata": {},
   "source": [
    "We will process most of the data using dataframes. Moreover, `pandas` allows to load data from multiple sources − saving us from writing boilerplate to load different formats and address a lot of exceptions, difficulties, etc. Therefore it is important to know how to push data to a database directly from a dataframe.\n",
    "`df.to_sql(<table name>, <connector name>)` is a method to , providing the table name and connector to the database. Providing wo other optionnal arguments may be useful : `if_exists='replace'` to replace the table if a table with the same name already exists (`'fail'` by default, you can also chose `'append'`), and `index=False` if the dataframe index has no interest (`True` by defaults, a column `index_label` will be created).\n",
    "\n",
    "1. load data in a dataframe (if it does not already exists)\n",
    "2. create a connector to a database (will be created if doesn’t exist yet)\n",
    "3. use the method `.to_sql()`. Returns the number of rows written.\n",
    "\n",
    "Let’s forget mock-up data for this part, and download real data on [Kaggle](https://www.kaggle.com/datasets/tmdb/tmdb-movie-metadata?resource=download). Take the time to read context and metadata."
   ]
  },
  {
   "cell_type": "code",
   "execution_count": 5,
   "id": "fce032d8-44b9-4444-a20d-f42e247e38f5",
   "metadata": {},
   "outputs": [
    {
     "data": {
      "text/plain": [
       "4803"
      ]
     },
     "execution_count": 5,
     "metadata": {},
     "output_type": "execute_result"
    }
   ],
   "source": [
    "df = pd.read_csv(\"data/TMDB-moviedatabase/tmdb_5000_movies.csv\")\n",
    "\n",
    "conn_mdb = sqlite3.connect('data/tmdb_movies.db')\n",
    "df.to_sql('Movies', conn_mdb, if_exists='replace', index=False)"
   ]
  },
  {
   "cell_type": "code",
   "execution_count": 10,
   "id": "62a2d065-8d15-4abf-a85a-9d9f7ae59828",
   "metadata": {},
   "outputs": [
    {
     "name": "stdout",
     "output_type": "stream",
     "text": [
      "(237000000, '[{\"id\": 28, \"name\": \"Action\"}, {\"id\": 12, \"name\": \"Adventure\"}, {\"id\": 14, \"name\": \"Fantasy\"}, {\"id\": 878, \"name\": \"Science Fiction\"}]', 'http://www.avatarmovie.com/', 19995, '[{\"id\": 1463, \"name\": \"culture clash\"}, {\"id\": 2964, \"name\": \"future\"}, {\"id\": 3386, \"name\": \"space war\"}, {\"id\": 3388, \"name\": \"space colony\"}, {\"id\": 3679, \"name\": \"society\"}, {\"id\": 3801, \"name\": \"space travel\"}, {\"id\": 9685, \"name\": \"futuristic\"}, {\"id\": 9840, \"name\": \"romance\"}, {\"id\": 9882, \"name\": \"space\"}, {\"id\": 9951, \"name\": \"alien\"}, {\"id\": 10148, \"name\": \"tribe\"}, {\"id\": 10158, \"name\": \"alien planet\"}, {\"id\": 10987, \"name\": \"cgi\"}, {\"id\": 11399, \"name\": \"marine\"}, {\"id\": 13065, \"name\": \"soldier\"}, {\"id\": 14643, \"name\": \"battle\"}, {\"id\": 14720, \"name\": \"love affair\"}, {\"id\": 165431, \"name\": \"anti war\"}, {\"id\": 193554, \"name\": \"power relations\"}, {\"id\": 206690, \"name\": \"mind and soul\"}, {\"id\": 209714, \"name\": \"3d\"}]', 'en', 'Avatar', 'In the 22nd century, a paraplegic Marine is dispatched to the moon Pandora on a unique mission, but becomes torn between following orders and protecting an alien civilization.', 150.437577, '[{\"name\": \"Ingenious Film Partners\", \"id\": 289}, {\"name\": \"Twentieth Century Fox Film Corporation\", \"id\": 306}, {\"name\": \"Dune Entertainment\", \"id\": 444}, {\"name\": \"Lightstorm Entertainment\", \"id\": 574}]', '[{\"iso_3166_1\": \"US\", \"name\": \"United States of America\"}, {\"iso_3166_1\": \"GB\", \"name\": \"United Kingdom\"}]', '2009-12-10', 2787965087, 162.0, '[{\"iso_639_1\": \"en\", \"name\": \"English\"}, {\"iso_639_1\": \"es\", \"name\": \"Espa\\\\u00f1ol\"}]', 'Released', 'Enter the World of Pandora.', 'Avatar', 7.2, 11800)\n"
     ]
    }
   ],
   "source": [
    "c_mdb = conn_mdb.cursor()\n",
    "show = 'SELECT * FROM Movies LIMIT 1' # always put a limit \n",
    "exe(c_mdb, show)"
   ]
  },
  {
   "cell_type": "code",
   "execution_count": 11,
   "id": "dcaa58a4-25d0-4942-858a-e2a74a9b8e1e",
   "metadata": {},
   "outputs": [
    {
     "name": "stdout",
     "output_type": "stream",
     "text": [
      "(0, 'budget', 'INTEGER', 0, None, 0)\n",
      "(1, 'genres', 'TEXT', 0, None, 0)\n",
      "(2, 'homepage', 'TEXT', 0, None, 0)\n",
      "(3, 'id', 'INTEGER', 0, None, 0)\n",
      "(4, 'keywords', 'TEXT', 0, None, 0)\n",
      "(5, 'original_language', 'TEXT', 0, None, 0)\n",
      "(6, 'original_title', 'TEXT', 0, None, 0)\n",
      "(7, 'overview', 'TEXT', 0, None, 0)\n",
      "(8, 'popularity', 'REAL', 0, None, 0)\n",
      "(9, 'production_companies', 'TEXT', 0, None, 0)\n",
      "(10, 'production_countries', 'TEXT', 0, None, 0)\n",
      "(11, 'release_date', 'TEXT', 0, None, 0)\n",
      "(12, 'revenue', 'INTEGER', 0, None, 0)\n",
      "(13, 'runtime', 'REAL', 0, None, 0)\n",
      "(14, 'spoken_languages', 'TEXT', 0, None, 0)\n",
      "(15, 'status', 'TEXT', 0, None, 0)\n",
      "(16, 'tagline', 'TEXT', 0, None, 0)\n",
      "(17, 'title', 'TEXT', 0, None, 0)\n",
      "(18, 'vote_average', 'REAL', 0, None, 0)\n",
      "(19, 'vote_count', 'INTEGER', 0, None, 0)\n"
     ]
    }
   ],
   "source": [
    "columns = 'PRAGMA table_info(Movies)' # always put a limit \n",
    "exe(c_mdb, columns)"
   ]
  },
  {
   "cell_type": "code",
   "execution_count": 12,
   "id": "9e546f54-9b5a-4008-a750-029859cb8cc8",
   "metadata": {},
   "outputs": [],
   "source": [
    "c_mdb.close()\n",
    "conn_mdb.close()"
   ]
  },
  {
   "cell_type": "markdown",
   "id": "818f2838-496d-45cf-a3d4-fb2624381a5d",
   "metadata": {},
   "source": [
    "Of course, the reverse is also possible, you can read data from a database and store it into a dataframe, with the `pd.read_sql()` method, providing it a query and a connector. A useful optional argument is `index_col`, column(s) to set as dataframe index :"
   ]
  },
  {
   "cell_type": "code",
   "execution_count": 19,
   "id": "cd594fd7-8f7f-4fd0-9300-f09282f95813",
   "metadata": {},
   "outputs": [
    {
     "data": {
      "text/html": [
       "<div>\n",
       "<style scoped>\n",
       "    .dataframe tbody tr th:only-of-type {\n",
       "        vertical-align: middle;\n",
       "    }\n",
       "\n",
       "    .dataframe tbody tr th {\n",
       "        vertical-align: top;\n",
       "    }\n",
       "\n",
       "    .dataframe thead th {\n",
       "        text-align: right;\n",
       "    }\n",
       "</style>\n",
       "<table border=\"1\" class=\"dataframe\">\n",
       "  <thead>\n",
       "    <tr style=\"text-align: right;\">\n",
       "      <th></th>\n",
       "      <th>name</th>\n",
       "    </tr>\n",
       "    <tr>\n",
       "      <th>id</th>\n",
       "      <th></th>\n",
       "    </tr>\n",
       "  </thead>\n",
       "  <tbody>\n",
       "    <tr>\n",
       "      <th>1</th>\n",
       "      <td>Belgium</td>\n",
       "    </tr>\n",
       "    <tr>\n",
       "      <th>1729</th>\n",
       "      <td>England</td>\n",
       "    </tr>\n",
       "    <tr>\n",
       "      <th>4769</th>\n",
       "      <td>France</td>\n",
       "    </tr>\n",
       "    <tr>\n",
       "      <th>7809</th>\n",
       "      <td>Germany</td>\n",
       "    </tr>\n",
       "    <tr>\n",
       "      <th>10257</th>\n",
       "      <td>Italy</td>\n",
       "    </tr>\n",
       "    <tr>\n",
       "      <th>13274</th>\n",
       "      <td>Netherlands</td>\n",
       "    </tr>\n",
       "    <tr>\n",
       "      <th>15722</th>\n",
       "      <td>Poland</td>\n",
       "    </tr>\n",
       "    <tr>\n",
       "      <th>17642</th>\n",
       "      <td>Portugal</td>\n",
       "    </tr>\n",
       "    <tr>\n",
       "      <th>19694</th>\n",
       "      <td>Scotland</td>\n",
       "    </tr>\n",
       "    <tr>\n",
       "      <th>21518</th>\n",
       "      <td>Spain</td>\n",
       "    </tr>\n",
       "    <tr>\n",
       "      <th>24558</th>\n",
       "      <td>Switzerland</td>\n",
       "    </tr>\n",
       "  </tbody>\n",
       "</table>\n",
       "</div>"
      ],
      "text/plain": [
       "              name\n",
       "id                \n",
       "1          Belgium\n",
       "1729       England\n",
       "4769        France\n",
       "7809       Germany\n",
       "10257        Italy\n",
       "13274  Netherlands\n",
       "15722       Poland\n",
       "17642     Portugal\n",
       "19694     Scotland\n",
       "21518        Spain\n",
       "24558  Switzerland"
      ]
     },
     "execution_count": 19,
     "metadata": {},
     "output_type": "execute_result"
    }
   ],
   "source": [
    "conn_sdb = sqlite3.connect('data/european-soccer.sqlite')\n",
    "c_sdb = conn_sdb.cursor()\n",
    "\n",
    "selection = '''\n",
    "SELECT *\n",
    "FROM Country;\n",
    "'''\n",
    "\n",
    "df = pd.read_sql(select, conn_sdb, index_col='id')\n",
    "df"
   ]
  },
  {
   "cell_type": "markdown",
   "id": "1459e812-20aa-4531-a85e-c31ad9553797",
   "metadata": {},
   "source": [
    "With a more complex query : "
   ]
  },
  {
   "cell_type": "code",
   "execution_count": 22,
   "id": "bfe1cf25-92df-446f-a889-f89347979e8e",
   "metadata": {},
   "outputs": [
    {
     "data": {
      "text/html": [
       "<div>\n",
       "<style scoped>\n",
       "    .dataframe tbody tr th:only-of-type {\n",
       "        vertical-align: middle;\n",
       "    }\n",
       "\n",
       "    .dataframe tbody tr th {\n",
       "        vertical-align: top;\n",
       "    }\n",
       "\n",
       "    .dataframe thead th {\n",
       "        text-align: right;\n",
       "    }\n",
       "</style>\n",
       "<table border=\"1\" class=\"dataframe\">\n",
       "  <thead>\n",
       "    <tr style=\"text-align: right;\">\n",
       "      <th></th>\n",
       "      <th>player_name</th>\n",
       "      <th>overall_rating</th>\n",
       "    </tr>\n",
       "  </thead>\n",
       "  <tbody>\n",
       "    <tr>\n",
       "      <th>0</th>\n",
       "      <td>Manu Molina</td>\n",
       "      <td>91</td>\n",
       "    </tr>\n",
       "    <tr>\n",
       "      <th>1</th>\n",
       "      <td>Manu Torres</td>\n",
       "      <td>91</td>\n",
       "    </tr>\n",
       "    <tr>\n",
       "      <th>2</th>\n",
       "      <td>Fede Vico</td>\n",
       "      <td>89</td>\n",
       "    </tr>\n",
       "    <tr>\n",
       "      <th>3</th>\n",
       "      <td>Manu Lanzarote</td>\n",
       "      <td>88</td>\n",
       "    </tr>\n",
       "    <tr>\n",
       "      <th>4</th>\n",
       "      <td>Lorenzo Pique</td>\n",
       "      <td>87</td>\n",
       "    </tr>\n",
       "    <tr>\n",
       "      <th>5</th>\n",
       "      <td>Lorenzo Squizzi</td>\n",
       "      <td>87</td>\n",
       "    </tr>\n",
       "    <tr>\n",
       "      <th>6</th>\n",
       "      <td>Lorenzo Stovini</td>\n",
       "      <td>87</td>\n",
       "    </tr>\n",
       "    <tr>\n",
       "      <th>7</th>\n",
       "      <td>Lorenzo Tonelli</td>\n",
       "      <td>87</td>\n",
       "    </tr>\n",
       "    <tr>\n",
       "      <th>8</th>\n",
       "      <td>Miguel Portillo</td>\n",
       "      <td>87</td>\n",
       "    </tr>\n",
       "    <tr>\n",
       "      <th>9</th>\n",
       "      <td>Faysel Kasmi</td>\n",
       "      <td>86</td>\n",
       "    </tr>\n",
       "    <tr>\n",
       "      <th>10</th>\n",
       "      <td>Fazli Kocabas</td>\n",
       "      <td>86</td>\n",
       "    </tr>\n",
       "    <tr>\n",
       "      <th>11</th>\n",
       "      <td>Lorenzo Pellegrini</td>\n",
       "      <td>86</td>\n",
       "    </tr>\n",
       "    <tr>\n",
       "      <th>12</th>\n",
       "      <td>Miguel Pedro</td>\n",
       "      <td>86</td>\n",
       "    </tr>\n",
       "    <tr>\n",
       "      <th>13</th>\n",
       "      <td>Pawel Wszolek</td>\n",
       "      <td>86</td>\n",
       "    </tr>\n",
       "    <tr>\n",
       "      <th>14</th>\n",
       "      <td>Pawel Zielinski</td>\n",
       "      <td>86</td>\n",
       "    </tr>\n",
       "    <tr>\n",
       "      <th>15</th>\n",
       "      <td>Pecks</td>\n",
       "      <td>86</td>\n",
       "    </tr>\n",
       "    <tr>\n",
       "      <th>16</th>\n",
       "      <td>Pedrao</td>\n",
       "      <td>86</td>\n",
       "    </tr>\n",
       "    <tr>\n",
       "      <th>17</th>\n",
       "      <td>Pedrinho</td>\n",
       "      <td>86</td>\n",
       "    </tr>\n",
       "    <tr>\n",
       "      <th>18</th>\n",
       "      <td>Pedro Alves</td>\n",
       "      <td>86</td>\n",
       "    </tr>\n",
       "    <tr>\n",
       "      <th>19</th>\n",
       "      <td>Pedro Moreira</td>\n",
       "      <td>86</td>\n",
       "    </tr>\n",
       "  </tbody>\n",
       "</table>\n",
       "</div>"
      ],
      "text/plain": [
       "           player_name  overall_rating\n",
       "0          Manu Molina              91\n",
       "1          Manu Torres              91\n",
       "2            Fede Vico              89\n",
       "3       Manu Lanzarote              88\n",
       "4        Lorenzo Pique              87\n",
       "5      Lorenzo Squizzi              87\n",
       "6      Lorenzo Stovini              87\n",
       "7      Lorenzo Tonelli              87\n",
       "8      Miguel Portillo              87\n",
       "9         Faysel Kasmi              86\n",
       "10       Fazli Kocabas              86\n",
       "11  Lorenzo Pellegrini              86\n",
       "12        Miguel Pedro              86\n",
       "13       Pawel Wszolek              86\n",
       "14     Pawel Zielinski              86\n",
       "15               Pecks              86\n",
       "16              Pedrao              86\n",
       "17            Pedrinho              86\n",
       "18         Pedro Alves              86\n",
       "19       Pedro Moreira              86"
      ]
     },
     "execution_count": 22,
     "metadata": {},
     "output_type": "execute_result"
    }
   ],
   "source": [
    "selection = '''\n",
    "SELECT p.player_name, pa.overall_rating\n",
    "FROM Player_Attributes AS pa\n",
    "JOIN Player AS p ON pa.id = p.id\n",
    "ORDER BY overall_rating DESC\n",
    "LIMIT 20;\n",
    "'''\n",
    "\n",
    "df = pd.read_sql(selection, conn_sdb)\n",
    "df"
   ]
  },
  {
   "cell_type": "markdown",
   "id": "d901af09-e1eb-4de4-8853-09d85c7f6d07",
   "metadata": {},
   "source": [
    "If you expect to need or plan to use Pandas and relationnal databases, you should get familiar with [SQLalchemy](https://www.sqlalchemy.org/), an [Object Relational Mapper](https://en.wikipedia.org/wiki/Object%E2%80%93relational_mapping). That’s true for any context implying a database with Python, actually."
   ]
  },
  {
   "cell_type": "markdown",
   "id": "acf7821a-b4ee-495a-957b-fcb3e4708af3",
   "metadata": {},
   "source": [
    "## The big part : `join`\n",
    "\n",
    "We do a join when we query several tables at once, tables beeing linked by relationships between keys, the primary key in one table being a foreign key in the other. A join operation selects records for which the primary key value in one table is equal to the value of a foreign key in another table, and output this matching data. That’s where the different kind of relationships (one-to-one, one-to-many, etc.) have an impact. \n",
    "\n",
    "In the first lecture, we outlined how much the underlying model of databases where formally inspired by set theory. Joins can be seen as operation on sets (of data). Each operation define a different way to cross-reference, or match, data from different tables. The different joins are :\n",
    "\n",
    "* inner join\n",
    "* left and right join\n",
    "* outer join (or exclusive join)\n",
    "* cross join\n",
    "* self join\n",
    "\n",
    "and we can represent most of them with Wenn diagramms.\n",
    "\n",
    "![Wenn diagramm of joins](./images/sql_joins.png)\n",
    "\n",
    "Those are theoretical joins, not all of them are implemented in all DBMS. For example `LEFT JOIN` is rarelly implemented as it is equivalent to a `RIGHT JOIN` (with the tables taken in reverse order). Same for the different `OUTER JOIN` as they can be implemented just by adding a `WHERE` clause. For example SQLite do not implement `FULL OUTER JOIN` (called here `EXCLUSIVE FULL JOIN`).\n",
    "\n",
    "Let’s see the differences in details with SQLite."
   ]
  },
  {
   "cell_type": "code",
   "execution_count": 5,
   "id": "307c3fb3-2140-41c4-9344-424f64172a8b",
   "metadata": {},
   "outputs": [],
   "source": [
    "conn_sdb = sqlite3.connect('data/european-soccer.sqlite')\n",
    "c_sdb = conn_sdb.cursor()"
   ]
  },
  {
   "cell_type": "markdown",
   "id": "68c61430-7361-4dd7-a2e9-7f13c561075f",
   "metadata": {},
   "source": [
    "### Inner Join"
   ]
  },
  {
   "cell_type": "markdown",
   "id": "fa68a517-0048-43ed-90ce-5a3c14f26369",
   "metadata": {},
   "source": [
    "The default join. Only returns the elements where matching foreign and primary key. Element in B or A without counterparts in the other table are ignored.\n",
    "\n",
    "Recall of the columns name :"
   ]
  },
  {
   "cell_type": "code",
   "execution_count": 13,
   "id": "f5d4832f-27b3-4bbb-98f2-ff10a3e28d21",
   "metadata": {},
   "outputs": [
    {
     "name": "stdout",
     "output_type": "stream",
     "text": [
      "(0, 'id', 'INTEGER', 0, None, 1)\n",
      "(1, 'name', 'TEXT', 0, None, 0)\n"
     ]
    }
   ],
   "source": [
    "query = '''\n",
    "PRAGMA table_info(Country);\n",
    "'''\n",
    "\n",
    "exe(c_sdb, query)"
   ]
  },
  {
   "cell_type": "code",
   "execution_count": 9,
   "id": "134f6462-ff62-456b-9c2f-3ecb274f8140",
   "metadata": {},
   "outputs": [
    {
     "name": "stdout",
     "output_type": "stream",
     "text": [
      "(1, 'Belgium')\n",
      "(1729, 'England')\n",
      "(4769, 'France')\n",
      "(7809, 'Germany')\n",
      "(10257, 'Italy')\n",
      "(13274, 'Netherlands')\n",
      "(15722, 'Poland')\n",
      "(17642, 'Portugal')\n",
      "(19694, 'Scotland')\n",
      "(21518, 'Spain')\n",
      "(24558, 'Switzerland')\n"
     ]
    }
   ],
   "source": [
    "query = 'SELECT * FROM Country;'\n",
    "exe(c_sdb, query)"
   ]
  },
  {
   "cell_type": "markdown",
   "id": "53bcce51-60b6-49c1-98da-b97aa2a73937",
   "metadata": {},
   "source": [
    "Recall of the columns name :"
   ]
  },
  {
   "cell_type": "code",
   "execution_count": 15,
   "id": "a7c1939f-bf2c-4748-b449-7b84124dd1f5",
   "metadata": {},
   "outputs": [
    {
     "name": "stdout",
     "output_type": "stream",
     "text": [
      "(0, 'id', 'INTEGER', 0, None, 1)\n",
      "(1, 'country_id', 'INTEGER', 0, None, 0)\n",
      "(2, 'name', 'TEXT', 0, None, 0)\n"
     ]
    }
   ],
   "source": [
    "query = '''\n",
    "PRAGMA table_info(League);\n",
    "'''\n",
    "\n",
    "exe(c_sdb, query)"
   ]
  },
  {
   "cell_type": "code",
   "execution_count": 11,
   "id": "5fa7695b-6ee3-4372-8df4-ba66213954c9",
   "metadata": {},
   "outputs": [
    {
     "name": "stdout",
     "output_type": "stream",
     "text": [
      "(1, 1, 'Belgium Jupiler League')\n",
      "(1729, 1729, 'England Premier League')\n",
      "(4769, 4769, 'France Ligue 1')\n",
      "(7809, 7809, 'Germany 1. Bundesliga')\n",
      "(10257, 10257, 'Italy Serie A')\n",
      "(13274, 13274, 'Netherlands Eredivisie')\n",
      "(15722, 15722, 'Poland Ekstraklasa')\n",
      "(17642, 17642, 'Portugal Liga ZON Sagres')\n",
      "(19694, 19694, 'Scotland Premier League')\n",
      "(21518, 21518, 'Spain LIGA BBVA')\n",
      "(24558, 24558, 'Switzerland Super League')\n"
     ]
    }
   ],
   "source": [
    "query = 'SELECT * FROM League'\n",
    "exe(c_sdb, query)"
   ]
  },
  {
   "cell_type": "markdown",
   "id": "ded2e544-317d-45d6-8a6c-e51f5f6249ae",
   "metadata": {},
   "source": [
    "Execution of the inner join to show which League takes place in which country :"
   ]
  },
  {
   "cell_type": "code",
   "execution_count": 27,
   "id": "e9a92468-00f4-4fc8-ade3-80a6a3790bca",
   "metadata": {},
   "outputs": [
    {
     "name": "stdout",
     "output_type": "stream",
     "text": [
      "('Belgium Jupiler League', 'Belgium')\n",
      "('England Premier League', 'England')\n",
      "('France Ligue 1', 'France')\n",
      "('Germany 1. Bundesliga', 'Germany')\n",
      "('Italy Serie A', 'Italy')\n",
      "('Netherlands Eredivisie', 'Netherlands')\n",
      "('Poland Ekstraklasa', 'Poland')\n",
      "('Portugal Liga ZON Sagres', 'Portugal')\n",
      "('Scotland Premier League', 'Scotland')\n",
      "('Spain LIGA BBVA', 'Spain')\n",
      "('Switzerland Super League', 'Switzerland')\n"
     ]
    }
   ],
   "source": [
    "inner_join = '''\n",
    "SELECT l.name, c.name\n",
    "FROM League AS l\n",
    "JOIN Country AS c ON l.country_id = c.id;\n",
    "'''\n",
    "exe(c_sdb, inner_join)"
   ]
  },
  {
   "cell_type": "markdown",
   "id": "3a3df428-d24b-43fc-a18b-b6b2d86dbcee",
   "metadata": {},
   "source": [
    "A country without associated League would not have been listed here (same for league, but it would be strange to have a league not associated with a country). Let’s build a table League_null with missing countries. That will be an excuse to see how to copy a table, and to change some values.\n",
    "1. Create a new table\n",
    "2. Copy the value by selecting them in the original table "
   ]
  },
  {
   "cell_type": "code",
   "execution_count": 20,
   "id": "06457e0c-4227-4259-8c58-c5d31238e589",
   "metadata": {},
   "outputs": [],
   "source": [
    "create = '''\n",
    "CREATE TABLE IF NOT EXISTS League_null\n",
    "(\n",
    "Id INTEGER,\n",
    "Country_id INTEGER,\n",
    "Name TEXT\n",
    ");\n",
    "'''\n",
    "exe(c_sdb, create)\n",
    "conn_sdb.commit()\n",
    "\n",
    "copy = '''\n",
    "INSERT INTO League_null\n",
    "(\n",
    "Id,\n",
    "Country_id,\n",
    "Name\n",
    ")\n",
    "\n",
    "SELECT Id, Country_id, Name\n",
    "FROM League;\n",
    "'''\n",
    "exe(c_sdb, copy)\n",
    "conn_sdb.commit()"
   ]
  },
  {
   "cell_type": "code",
   "execution_count": 22,
   "id": "784273f0-1fbf-489a-bc7b-3137b57ddf21",
   "metadata": {},
   "outputs": [
    {
     "name": "stdout",
     "output_type": "stream",
     "text": [
      "(1, 1, 'Belgium Jupiler League')\n",
      "(1729, 1729, 'England Premier League')\n",
      "(4769, 4769, 'France Ligue 1')\n",
      "(7809, 7809, 'Germany 1. Bundesliga')\n",
      "(10257, 10257, 'Italy Serie A')\n",
      "(13274, 13274, 'Netherlands Eredivisie')\n",
      "(15722, 15722, 'Poland Ekstraklasa')\n",
      "(17642, 17642, 'Portugal Liga ZON Sagres')\n",
      "(19694, 19694, 'Scotland Premier League')\n",
      "(21518, 21518, 'Spain LIGA BBVA')\n",
      "(24558, 24558, 'Switzerland Super League')\n"
     ]
    }
   ],
   "source": [
    "show = 'SELECT * FROM League_null'\n",
    "exe(c_sdb, query)"
   ]
  },
  {
   "cell_type": "markdown",
   "id": "3f6a0ddf-653d-4554-9a9e-9480b64d1b42",
   "metadata": {},
   "source": [
    "3. modifying some values (we set 2 values in `Country_id` at `NULL` :"
   ]
  },
  {
   "cell_type": "code",
   "execution_count": 24,
   "id": "fee20a65-bf55-4b72-82f1-3c05da488664",
   "metadata": {},
   "outputs": [
    {
     "name": "stdout",
     "output_type": "stream",
     "text": [
      "(1, 1, 'Belgium Jupiler League')\n",
      "(1729, None, 'England Premier League')\n",
      "(4769, None, 'France Ligue 1')\n",
      "(7809, 7809, 'Germany 1. Bundesliga')\n",
      "(10257, 10257, 'Italy Serie A')\n",
      "(13274, 13274, 'Netherlands Eredivisie')\n",
      "(15722, 15722, 'Poland Ekstraklasa')\n",
      "(17642, 17642, 'Portugal Liga ZON Sagres')\n",
      "(19694, 19694, 'Scotland Premier League')\n",
      "(21518, 21518, 'Spain LIGA BBVA')\n",
      "(24558, 24558, 'Switzerland Super League')\n"
     ]
    }
   ],
   "source": [
    "modify = '''\n",
    "UPDATE League_null\n",
    "SET Country_id = NULL\n",
    "WHERE Id = 1729 OR Id = 4769\n",
    "ORDER BY Id\n",
    "LIMIT -1;\n",
    "'''\n",
    "exe(c_sdb, modify)\n",
    "conn_sdb.commit()\n",
    "exe(c_sdb, show)"
   ]
  },
  {
   "cell_type": "markdown",
   "id": "ae42f0a0-385c-4733-ac9f-dc70e2ae7efd",
   "metadata": {},
   "source": [
    "* `UPDATE <table name>` : this keyword introduce a modification of a value in the named table\n",
    "* `SET <column_1> = <new_value_1>, <column_2> = <new_value_2>` : we set the new values (we can update several columns)\n",
    "* `WHERE <conditions>` : select the lines to update according to our conditions\n",
    "* `GROUP BY <column>` : **mandatory** as we don’t know in which order are stored the lines in the database, we have to ask an order in which the lines will be processed\n",
    "* `LIMIT <number of lines` : **mandatory** we have to set a limit of the number of lines that will be processed. If we want to process all the rows, set a negative value : every row that meet the conditions will be updated.\n",
    "\n",
    "Exercice : make an inner join between the `Country` table and the `League_null` table. Note the difference : which lines disappeared ?"
   ]
  },
  {
   "cell_type": "code",
   "execution_count": 30,
   "id": "57815a48-f3f3-40de-acbf-257fdf8e65e9",
   "metadata": {},
   "outputs": [],
   "source": [
    "# Your code here\n"
   ]
  },
  {
   "cell_type": "markdown",
   "id": "ec4637b3-57aa-4811-aad8-1dfa15eb5387",
   "metadata": {},
   "source": [
    "### Left/Right Join"
   ]
  },
  {
   "cell_type": "code",
   "execution_count": null,
   "id": "ea6d5947-13f5-447e-b056-bbdbe3ba306c",
   "metadata": {},
   "outputs": [],
   "source": []
  },
  {
   "cell_type": "markdown",
   "id": "9e02a422-93f3-487d-8b33-db75c89f218e",
   "metadata": {},
   "source": [
    "### Outer join"
   ]
  },
  {
   "cell_type": "code",
   "execution_count": null,
   "id": "f2ab603f-f05d-49ed-8fda-f4b7d88f30bf",
   "metadata": {},
   "outputs": [],
   "source": []
  },
  {
   "cell_type": "markdown",
   "id": "04850614-a5c7-4da9-924c-663c127bbb9d",
   "metadata": {},
   "source": [
    "### Self join"
   ]
  },
  {
   "cell_type": "code",
   "execution_count": null,
   "id": "6387b2ba-1ee4-4c46-9ba0-1063100e1781",
   "metadata": {},
   "outputs": [],
   "source": []
  },
  {
   "cell_type": "markdown",
   "id": "6598088e-5a4e-43bd-8cb9-7f898fa66332",
   "metadata": {},
   "source": [
    "## Sub-query : `WITH`"
   ]
  },
  {
   "cell_type": "code",
   "execution_count": null,
   "id": "1a55c5de-7563-42a6-ab16-838f690905ff",
   "metadata": {},
   "outputs": [],
   "source": []
  },
  {
   "cell_type": "markdown",
   "id": "b36e082a-a2b1-4de2-828f-f369e394aa34",
   "metadata": {},
   "source": [
    "## Conditions (2) : `CASE WHEN`"
   ]
  },
  {
   "cell_type": "code",
   "execution_count": null,
   "id": "f61d1c78-4e92-4d4e-ae5c-053bc3de0bf4",
   "metadata": {},
   "outputs": [],
   "source": []
  },
  {
   "cell_type": "markdown",
   "id": "a1a8acbc-fb6a-433a-b1dd-0f21a6fb2746",
   "metadata": {},
   "source": [
    "## Window Function (`OVER`)"
   ]
  },
  {
   "cell_type": "markdown",
   "id": "98f54131-26be-4d3d-bd66-2f88bbb8def0",
   "metadata": {},
   "source": [
    "## Other SQL keywords\n",
    "\n",
    "\n",
    "\n"
   ]
  },
  {
   "cell_type": "markdown",
   "id": "c682c2ad-63b9-4b8b-92a0-74f50dbbaf99",
   "metadata": {},
   "source": [
    "### `UPDATE`"
   ]
  },
  {
   "cell_type": "markdown",
   "id": "5e6d88c4-65a2-4f1d-b06e-4c2fb6a25454",
   "metadata": {},
   "source": [
    "### `DELETE`"
   ]
  },
  {
   "cell_type": "markdown",
   "id": "2b2e291c-6a4d-4766-a82f-9821394069b3",
   "metadata": {},
   "source": [
    "### `UNION`"
   ]
  },
  {
   "cell_type": "markdown",
   "id": "6ac8c5f8-608e-492f-945b-17e696995ef5",
   "metadata": {},
   "source": [
    "### String functions"
   ]
  },
  {
   "cell_type": "markdown",
   "id": "4f29292c-5820-4506-8507-62bf18cfb54a",
   "metadata": {},
   "source": [
    "## Exercices"
   ]
  },
  {
   "cell_type": "code",
   "execution_count": null,
   "id": "f9d5e7d9-6292-4c65-8a64-0e27d6b833bc",
   "metadata": {},
   "outputs": [],
   "source": []
  }
 ],
 "metadata": {
  "kernelspec": {
   "display_name": "Python 3 (ipykernel)",
   "language": "python",
   "name": "python3"
  },
  "language_info": {
   "codemirror_mode": {
    "name": "ipython",
    "version": 3
   },
   "file_extension": ".py",
   "mimetype": "text/x-python",
   "name": "python",
   "nbconvert_exporter": "python",
   "pygments_lexer": "ipython3",
   "version": "3.11.2"
  }
 },
 "nbformat": 4,
 "nbformat_minor": 5
}
