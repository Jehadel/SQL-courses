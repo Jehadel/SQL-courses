{
 "cells": [
  {
   "cell_type": "markdown",
   "id": "ab8a1b54-696e-4766-9f1b-7850c86d5ab0",
   "metadata": {},
   "source": [
    "# DM - cours DATA partie SQL - 2025"
   ]
  },
  {
   "cell_type": "markdown",
   "id": "f455b3ee-6bbb-43af-9403-1cea71fb7981",
   "metadata": {},
   "source": [
    "The notebook must be returned completed before May 2, 2025 to jean.delpech@adalab.fr\n",
    "\n",
    "I repeat (again) :\n",
    "- always build your queries step by step : start small, and make them more and more elaborate\n",
    "- read the course\n",
    "- first formulate the operations you want to perform in order, then look for how to implement them in SQL (course, tutorial, doc, stackoverflow, etc.)\n",
    "\n",
    "You will find 5 `.csv` files in the folder data/DM-SQL. \n",
    "\n",
    "## 1. Load them in a database by a method of your choice :"
   ]
  },
  {
   "cell_type": "code",
   "execution_count": 1,
   "id": "2ad8cced-80f0-4a32-95dc-db3abd153ae8",
   "metadata": {},
   "outputs": [],
   "source": [
    "# your code here\n"
   ]
  },
  {
   "cell_type": "markdown",
   "id": "568a4b85-5cdb-4d77-94af-4fc8a8269d46",
   "metadata": {},
   "source": [
    "Then answer the questions :"
   ]
  },
  {
   "cell_type": "markdown",
   "id": "da3d769f-ec45-4833-bb70-b5f4c2975469",
   "metadata": {},
   "source": [
    "## 2. List the tables and columns in each table. Create an ERD. Indicate the primary key and any foreign keys for each table. Write down the different relationships and their types (one-to-one, one-to-many, etc.)"
   ]
  },
  {
   "cell_type": "code",
   "execution_count": 2,
   "id": "219d0717-7736-43f3-8fd7-139a2b19728f",
   "metadata": {},
   "outputs": [],
   "source": [
    "# your code here (load the data)\n"
   ]
  },
  {
   "cell_type": "code",
   "execution_count": 5,
   "id": "dc6415a4-c843-4c13-aaf9-f4bc0f74141c",
   "metadata": {},
   "outputs": [],
   "source": [
    "# your code here (list tables and columns)\n"
   ]
  },
  {
   "cell_type": "code",
   "execution_count": 6,
   "id": "a882cc94-c425-48cb-9989-10b415a11ba3",
   "metadata": {},
   "outputs": [],
   "source": [
    "# your code here (code for the ERD)\n"
   ]
  },
  {
   "cell_type": "markdown",
   "id": "03d2cf5d-16c6-4e76-a783-7a04752a8c7c",
   "metadata": {},
   "source": [
    "Your responses :\n",
    "- relationship 1 between … … of type …\n",
    "- relationship 2 …"
   ]
  },
  {
   "cell_type": "markdown",
   "id": "133eb11a-2a79-4165-8e78-7333a1e076ad",
   "metadata": {},
   "source": [
    "## 3. How many hospitals is there in the database ?"
   ]
  },
  {
   "cell_type": "code",
   "execution_count": 7,
   "id": "0ce33cb7-dbfd-48a7-a28b-edc37c5b9c74",
   "metadata": {},
   "outputs": [],
   "source": [
    "# your code here\n"
   ]
  },
  {
   "cell_type": "markdown",
   "id": "7962590a-c027-44aa-b0de-1b2f33d7d46b",
   "metadata": {},
   "source": [
    "## 4.How many hospital units of each type are there, overall (all hospitals combined)?\n",
    "\n",
    "ex. output:\n",
    "```\n",
    "('Cardiologie', 17)\n",
    "('Gastro-entérologie', 12)\n",
    "etc.\n",
    "```"
   ]
  },
  {
   "cell_type": "code",
   "execution_count": 8,
   "id": "cd67e34a-cbbb-4224-a141-ddbd2099c681",
   "metadata": {},
   "outputs": [],
   "source": [
    "# your code here\n",
    "\n"
   ]
  },
  {
   "cell_type": "markdown",
   "id": "344a31f9-7a0b-4c7d-9eca-74238a7088ea",
   "metadata": {},
   "source": [
    "## 5. List the different units by hospitals (hospitals names and units names should both appear in the list) :\n",
    "\n",
    "ex. output :\n",
    "\n",
    "```\n",
    "('Centre Hospitalier Universitaire de Bordeaux', 'Cardiologie')\n",
    "('Centre Hospitalier Universitaire de Bordeaux', 'Gastro-entérologie')\n",
    "('Centre Hospitalier Universitaire de Bordeaux', 'ORL')\n",
    "('Centre Hospitalier Universitaire de Bordeaux', 'Psychiatrie')\n",
    "('Hôpital Saint-Louis', 'Cardiologie')\n",
    "('Hôpital Saint-Louis', 'Gastro-entérologie')\n",
    "etc.\n",
    "``` "
   ]
  },
  {
   "cell_type": "code",
   "execution_count": 9,
   "id": "fb0416b4-f3f0-454b-8e5b-d35f7e111fa5",
   "metadata": {},
   "outputs": [],
   "source": [
    "# your code here\n",
    "\n",
    "\n"
   ]
  },
  {
   "cell_type": "markdown",
   "id": "284c4253-dd69-46ce-84ec-637ad02d71b0",
   "metadata": {},
   "source": [
    "## 6. How many units in each hospital :\n",
    "\n",
    "ex. output :\n",
    "\n",
    "```\n",
    "('Centre Hospitalier Universitaire de Bordeaux', 4)\n",
    "('Centre Hospitalier Universitaire de Caen', 5)\n",
    "('Centre Hospitalier Universitaire de Clermont-Ferrand', 3)\n",
    "etc.\n",
    "```"
   ]
  },
  {
   "cell_type": "code",
   "execution_count": 10,
   "id": "b0ef5db7-ee3c-4160-b9b6-d37081946657",
   "metadata": {},
   "outputs": [],
   "source": [
    "# your code here\n"
   ]
  },
  {
   "cell_type": "markdown",
   "id": "f27fe81e-9bbd-4807-8804-b0cc957821e1",
   "metadata": {},
   "source": [
    "## 7. There are two ways to answer this question: a complex one that yields a bonus, and a longer but easier one (so no bonus). Choose between A or B:\n",
    "\n",
    "**A.** Write a query that associates each hospital with its department of origin (number):\n",
    "\n",
    "* You need to extract the first two digits of the postal code (address column)\n",
    "* Hint 1: To determine the position of the postal code in the address, observe the text and see if a character, always placed in the same location, would allow you to identify the position of the postal code\n",
    "* Hint 2: The postal code is always 5 characters long, and we're interested in the first two\n",
    "* Hint 3: You may need to use the same function twice to indicate where the substring begins and ends\n",
    "\n",
    "Recommendation: When writing a complex query, work your way through it.\n",
    "* Start by writing a query that lists the hospital addresses\n",
    "* Then add instructions to this query that remove the beginning of the text up to the postal code\n",
    "* Then add instructions to display only the portion of text (numbers) you want\n",
    "* Etc.\n",
    "\n",
    "**B.** If you can't answer this question the first way (A, which is difficult), add a \"department\" column by hand to the hospital table (using the appropriate queries of course)\n",
    "\n",
    "ex. output :\n",
    "\n",
    "```\n",
    "('Centre Hospitalier Universitaire de Bordeaux', '33')\n",
    "('Hôpital Saint-Louis', '75')\n",
    "('Centre Hospitalier Universitaire de Strasbourg', '67')\n",
    "('Centre Hospitalier Universitaire de Montpellier', '34')\n",
    "etc.\n",
    "```"
   ]
  },
  {
   "cell_type": "code",
   "execution_count": 11,
   "id": "2b721935-8343-4849-81b0-c0e89c5e87d7",
   "metadata": {},
   "outputs": [],
   "source": [
    "# your code here\n"
   ]
  },
  {
   "cell_type": "markdown",
   "id": "e6f2e546-0cde-4540-bcff-0a89e44cbe97",
   "metadata": {},
   "source": [
    "## 8. Are there multiple hospitals in the same departments? List the number of hospitals per department, listed in ascending order by department number:\n",
    "\n",
    "ex. output :\n",
    "\n",
    "```\n",
    "('06', 1)\n",
    "('13', 1)\n",
    "('14', 1)\n",
    "('21', 1)\n",
    "etc.\n",
    "```"
   ]
  },
  {
   "cell_type": "code",
   "execution_count": 12,
   "id": "33eaab40-fdc5-4da1-bb77-72e16a1c8ef3",
   "metadata": {},
   "outputs": [],
   "source": [
    "# your code here\n"
   ]
  },
  {
   "cell_type": "markdown",
   "id": "54b4628c-9ba3-43bd-9b10-29330101f741",
   "metadata": {},
   "source": [
    "## 9. List the number of hospital services in each department, and only display those with more than 4 (order the results by decreasing number of services):\n",
    "\n",
    "ex. output:\n",
    "\n",
    "```\n",
    "('75', 20)\n",
    "('87', 6)\n",
    "('67', 6)\n",
    "etc.\n",
    "```"
   ]
  },
  {
   "cell_type": "code",
   "execution_count": 13,
   "id": "51c18234-58fc-4626-85d7-25b5d7609093",
   "metadata": {},
   "outputs": [],
   "source": [
    "# your code here\n"
   ]
  },
  {
   "cell_type": "markdown",
   "id": "afe4e3e3-1211-4c0d-9a1a-0906ae045c34",
   "metadata": {},
   "source": [
    "## 10. Admissions have a date of entry into the hospital, and a date of discharge / release. Calculate the average length (duration) of all admissions recorded in the database (in days, rounded to one decimal place)."
   ]
  },
  {
   "cell_type": "code",
   "execution_count": 14,
   "id": "ae19fd6e-ae6c-4271-abcd-00540f8e4de3",
   "metadata": {},
   "outputs": [],
   "source": [
    "# your code here\n"
   ]
  },
  {
   "cell_type": "markdown",
   "id": "cb8eeef0-f757-4970-b478-bdf7b28a5d4c",
   "metadata": {},
   "source": [
    "## 11. Calculate the average length of a cardiology admission (all hospitals combined)."
   ]
  },
  {
   "cell_type": "code",
   "execution_count": 15,
   "id": "90ae39fe-b263-418b-8bc8-4b69626786da",
   "metadata": {},
   "outputs": [],
   "source": [
    "# your code here\n"
   ]
  },
  {
   "cell_type": "markdown",
   "id": "7b224383-b428-46c3-a2d7-699e343dacc1",
   "metadata": {},
   "source": [
    "## 12. Compare (list) the average length of time for a cardiology admission between all hospitals with a cardiology department. Rank the results in descending order of this average length.\n",
    "\n",
    "ex. output:\n",
    "\n",
    "```\n",
    "('Hôpital de la Timone', 'Cardiologie', 16.5)\n",
    "('Centre Hospitalier Universitaire de Caen', 'Cardiologie', 16.0)\n",
    "('Centre Hospitalier Universitaire de Bordeaux', 'Cardiologie', 15.2)\n",
    "('Centre Hospitalier Universitaire de Strasbourg', 'Cardiologie', 15.2)\n",
    "etc.\n",
    "```"
   ]
  },
  {
   "cell_type": "code",
   "execution_count": 16,
   "id": "55da1401-3a22-4747-8cfc-5b4dd5c6e71f",
   "metadata": {},
   "outputs": [],
   "source": [
    "# your code here\n"
   ]
  },
  {
   "cell_type": "markdown",
   "id": "b6b52bd3-7c57-4944-b292-9107507ac166",
   "metadata": {},
   "source": [
    "## 13. What query displays the 25% of hospitals with the shortest hospital stays for cardiology? Present the output as follows:\n",
    "\n",
    "```\n",
    "('Cardiologie', 'Centre Hospitalier Universitaire de Clermont-Ferrand', '<25%')\n",
    "('Cardiologie', 'Centre Hospitalier Universitaire de Grenoble', '<25%')\n",
    "('Cardiologie', 'Centre Hospitalier Universitaire de Nantes', '<25%')\n",
    "('Cardiologie', 'Centre Hospitalier Universitaire de Toulouse', '<25%')\n",
    "('Cardiologie', 'Centre Hospitalier Universitaire de Rouen', '<25%')\n",
    "```\n",
    "\n"
   ]
  },
  {
   "cell_type": "code",
   "execution_count": 17,
   "id": "21e797a4-f20e-4b31-9a58-17594ecebf26",
   "metadata": {},
   "outputs": [],
   "source": [
    "# your code here\n"
   ]
  }
 ],
 "metadata": {
  "kernelspec": {
   "display_name": "Python 3 (ipykernel)",
   "language": "python",
   "name": "python3"
  },
  "language_info": {
   "codemirror_mode": {
    "name": "ipython",
    "version": 3
   },
   "file_extension": ".py",
   "mimetype": "text/x-python",
   "name": "python",
   "nbconvert_exporter": "python",
   "pygments_lexer": "ipython3",
   "version": "3.11.2"
  }
 },
 "nbformat": 4,
 "nbformat_minor": 5
}
