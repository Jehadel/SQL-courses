{
 "cells": [
  {
   "cell_type": "markdown",
   "id": "35a2a000-2d69-4e1c-8403-f11e683e62d5",
   "metadata": {},
   "source": [
    "# SQL basics : Exercices\n",
    "\n",
    "## Prerequisite : modifying a table or a column, with `ALTER TABLE`\n",
    "\n",
    "Once a table is created, you may sometimes need to modify it, by changing its name, or the name of a column, adding a column or deleting one. (Again : remember CRUD).\n",
    "\n",
    "For these operations we have the `ALTER TABLE` command which is very intuitive to use.\n",
    "\n",
    "Unfortunately, the `ALTER TABLE` commands has not always been fully implemented in SQLite. Pay attention to notes below.\n",
    "\n",
    "First note : it is always wise to create a backup of your database before any attempt to make significant changes to its schema.\n",
    "\n",
    "### Modifying a table : change name\n",
    "\n",
    "To change the name of a table, the syntax is very simple : \n",
    "\n",
    "```SQL\n",
    "ALTER TABLE <old_table_name> \n",
    "    RENAME TO <new_table_name>;\n",
    "```\n",
    "\n",
    "### Modifying a table : add a column\n",
    "\n",
    "To add a column, the command is also very clear and simple :\n",
    "\n",
    "```SQL\n",
    "ALTER TABLE <table_name> \n",
    "    ADD COLUMN <new_column_name>;\n",
    "```\n",
    "\n",
    "Of course you can add constraints when you create a new column. But when you add a column to a table, some constraints can’t be specified :\n",
    "\n",
    "- of course the new column can’t be a `PRIMARY KEY`\n",
    "- it can’t be `UNIQUE` (as it is empty at its creation and records already exist  : )\n",
    "- it can’t have the default values : `CURRENT_TIME`, `CURRENT_DATE` or `CURRENT_TIMESTAMP` (as some records already exist : they can’t have current datetime value)\n",
    "- there are also limitations on other constraints, but they are based on more elaborate notions that we have not seen so far.\n",
    "\n",
    "### Modifying a table/column : drop a column\n",
    "\n",
    "Simply :\n",
    "\n",
    "```SQL\n",
    "ALTER TABLE <table_name> \n",
    "    DROP COLUMN <column_name>;\n",
    "```\n",
    "\n",
    "- you cannot drop a column if it is a `PRIMARY KEY` and `UNIQUE`\n",
    "- you also cannot delete a column if it is referenced elsewhere in the schema (see `FOREIGN KEY` constraints below)\n",
    "\n",
    "Attention ! This syntax is valid only for SQLite > v3.5. \n",
    "\n",
    "Old method (with previous versions) : \n",
    "1. create new table as the one you are trying to change,\n",
    "2. copy all data,\n",
    "3. drop old table,\n",
    "4. rename the new one.\n",
    "\n",
    "What does the `DROP COLUMN` command do? It actually does the exact steps above.\n",
    "\n",
    "### Modifying a table/column : change name\n",
    "\n",
    "The syntax is clear, again :\n",
    "\n",
    "```SQL\n",
    "ALTER TABLE <table_name> \n",
    "    RENAME COLUMN <old_name> \n",
    "        TO <new_name>;\n",
    "```\n",
    "\n",
    "### Changing a column type\n",
    "\n",
    "There is no standard SQL syntax to do this : each DBMS will have its particularity\n",
    "\n",
    "SQLite is especially tricky. As SQLite has weakly types, the best (simpler) move is to :\n",
    "\n",
    "1. Add a table to the table with the new datatype (you know how to code this!)\n",
    "\n",
    "2. Copy the old column by casting the data to the new type :\n",
    "\n",
    "```SQL\n",
    "UPDATE <table_name> \n",
    "       SET <new_column_name> = CAST(<old_column_name> as <new_data_type>)\n",
    "```\n",
    "\n",
    "Another, canonical (and sure) but more complex method:\n",
    "\n",
    "1. Create a new table with the same columns, except the one we want to modify, which will have the type we want\n",
    "2. Copy the old table data into the new table the column we want to modify)\n",
    "3. Drop the old table\n",
    "4. Rename the new table with the name of the old table\n",
    "5. Commit !\n",
    "\n",
    "Exercise : try to implement this sequence with a table you used. For example cast an `INTEGER` column to `TEXT`.\n",
    "\n"
   ]
  },
  {
   "cell_type": "code",
   "execution_count": null,
   "id": "f9370156-8f2d-4416-ba03-86f94f11a7f3",
   "metadata": {},
   "outputs": [],
   "source": [
    "# your code here (chose the database and the table - and column - you want). \n",
    "# Make a backup before playing with it !\n",
    "\n",
    "\n"
   ]
  },
  {
   "cell_type": "markdown",
   "id": "ca6def33-d998-472e-8d46-be3aff054e9f",
   "metadata": {},
   "source": [
    "## Foreign key constraints\n",
    "\n",
    "We have seen that when creating tables, we can declare a column as `PRIMARY KEY`.\n",
    "When we have created ERD, we have seen that we can declare references between tables, connecting PK and FK.\n",
    "\n",
    "In fact, we can declare FK in the database schema. It adds constraints : if, when creating a table, we declare a FK and a relationship with another table, this new table cannot be dropped or modified as easily, to preserve the structure of the database or schema. It makes life harder for the data scientist or administrator, but it secures the data. That’s the advantage of the relational model and to store data in databases (rather than in flatfiles).\n",
    "\n",
    "How do we declare a FK ?\n",
    "\n",
    "Suppose we are creating to tables : `students` and `cursus` :\n",
    "\n",
    "```SQL\n",
    "CREATE TABLE cursus(\n",
    "    code INTEGER PRIMARY KEY, \n",
    "    name TEXT,\n",
    "    major TEXT,\n",
    "    referent TEXT\n",
    ");\n",
    "\n",
    "CREATE TABLE students(\n",
    "    id INTEGER,\n",
    "    firstname TEXT, \n",
    "    lastname TEXT,\n",
    "    cursus_id INTEGER     -- This column will refer to a cursus.code\n",
    ");\n",
    "```\n",
    "\n",
    "The declaration of a FK is a bit more complicated than the declaration of a PK :\n",
    "\n",
    "```SQL\n",
    "CREATE TABLE cursus(\n",
    "    code INTEGER PRIMARY KEY, \n",
    "    name TEXT,\n",
    "    major TEXT,\n",
    "    referent TEXT\n",
    ");\n",
    "\n",
    "CREATE TABLE students(\n",
    "    id INTEGER,\n",
    "    firstname TEXT, \n",
    "    lastname TEXT,\n",
    "    FOREIGN KEY(cursus_id) REFERENCES cursus(code) INTEGER     -- This column will refer to a cursus.id\n",
    ");\n",
    "```\n",
    "\n",
    "SQLite will then forbids :\n",
    "\n",
    "- to delete a records in cursus if at least one students record references to it\n",
    "- to record a student (insert) who would not refer to a cursus\n",
    "- only a `NULL` value of students.cursus_id would not raise an error\n",
    "- it is allowed to specify a `NOT NULL` constraint to a `FOREIGN KEY` : by doing so we define a very strict relationship between the tables (each student recorded in the table `students` must refer to a cursus). \n",
    "\n",
    "As we said before, this foreign key constraint forbids the modification or suppression of the table to which the FK refers. But sometimes we need to modify or drop/delete tables or columns of such table. We can temporarily disable those constraint with a `PRAGMA` clause : \n",
    "\n",
    "``` SQL\n",
    "PRAGMA foreign_keys=off; \n",
    "\n",
    "-- operations on the table\n",
    "\n",
    "PRAGMA foreign_keys=on;\n",
    "```\n",
    "\n",
    "## Exercise : create a data base\n",
    "\n",
    "### Understanding the schema\n",
    "\n",
    "In the data folder of this repo you will find 5 `.csv` files called `customers.csv`, `orders.csv`, `items.csv`, `orders_items.csv` and `carriers.csv`\n",
    "\n",
    "1. Open the files, observe the colums, datatype, etc. and create an ERD to understand the schema"
   ]
  },
  {
   "cell_type": "markdown",
   "id": "436920bd-114a-4786-81ed-91fbbe57ff39",
   "metadata": {},
   "source": [
    "*Edit this cell (Markdown)*\n",
    "\n",
    "```SQL\n",
    " -- you can copy DBML code of the ERD here\n",
    "```\n",
    "\n",
    "You can insert an image by pasting its path between the parenthesis (edit the markdown code) :\n",
    "\n",
    "![ERD of the database]( )\n"
   ]
  },
  {
   "cell_type": "markdown",
   "id": "4abf5c7c-a1c1-4f16-ad82-373f21f8fe0a",
   "metadata": {},
   "source": [
    "### Store the data in a database\n",
    "\n",
    "2. Write a function `add_table()` that takes\n",
    "\n",
    "* a connector to a (new) database called `orders-exercise.sqlite`\n",
    "* the path to a `.csv` file containing the data to store in the added table\n",
    "* the name of the added table\n",
    "\n",
    "as arguments and which adds (create) a new table in the database referenced by the connector (you can use Pandas here if you think it makes your life easier)\n",
    "\n",
    "Then add the tables and data from the 5 `.csv` files\n",
    "\n",
    "**Optional** – if you want to automate the file loading, you can get the files list with these lines :\n",
    "```python\n",
    "import os\n",
    "\n",
    "csv_path = '<write_here_the_path_where_csv_are_stored>'\n",
    "# the best way to write a path is to use os.path.join('folder', 'subfolder1', …)\n",
    "file_names = [f for f in os.listdir(csv_path) if f.endswith('.csv')]\n",
    "file_names\n",
    "```\n",
    "\n",
    "you then just have to iterate through the list of `file_names` and call your function for each file"
   ]
  },
  {
   "cell_type": "code",
   "execution_count": 1,
   "id": "da2bd6be-8858-4bb5-b780-4da57914c44a",
   "metadata": {},
   "outputs": [],
   "source": [
    "# your code here\n",
    "\n",
    "import pandas as pd\n",
    "import sqlite3\n",
    "\n",
    "conn = sqlite3.connect('data/orders-exercise.sqlite')\n",
    "c = conn.cursor()\n"
   ]
  },
  {
   "cell_type": "code",
   "execution_count": 40,
   "id": "80f3a4bd-cc3a-4971-bcfd-4847ea8970f8",
   "metadata": {},
   "outputs": [],
   "source": [
    "def add_table(connector: object, path: 'string', table_name: 'string'):\n",
    "    df = pd.read_csv(path)\n",
    "    df.to_sql(table_name, connector, if_exists='replace', index=False)\n",
    "    "
   ]
  },
  {
   "cell_type": "code",
   "execution_count": 42,
   "id": "95cc72d3-1b0f-4ccd-bf56-13263ddf377d",
   "metadata": {},
   "outputs": [],
   "source": [
    "import os\n",
    "\n",
    "csv_path = os.path.join('.','data','exercise-orders')\n",
    "file_names = [f for f in os.listdir(csv_path) if f.endswith('.csv')]\n",
    "for f in file_names:\n",
    "    add_table(conn, csv_path + '/' + f, f[:-4])"
   ]
  },
  {
   "cell_type": "markdown",
   "id": "6a0bc6ad-e6a2-4ebe-9e89-be0be7964897",
   "metadata": {},
   "source": [
    "## Check that everything is ok\n",
    "\n",
    "3. Write a script that will give us :\n",
    "\n",
    "* database tables list\n",
    "* columns list for each table\n",
    "* request the first rows of each table\n",
    "\n",
    "Format the output in a structured and readable way. For example :\n",
    "\n",
    "```\n",
    "----- table items columns -----\n",
    "\n",
    "id\n",
    "product\n",
    "volume\n",
    "weight\n",
    "\n",
    " table items first lines :\n",
    "\n",
    "(1, 'Table', 40398, '27')\n",
    "(2, 'Chaise', 23829, '7')\n",
    "(3, 'Ordinateur', 2912, '3')\n",
    "(4, 'Lampe', 2014, '0,3')\n",
    "(5, 'Canapé', 43852, '14')\n",
    "\n",
    "----- table orders_items columns -----\n",
    "\n",
    "id\n",
    "order_id\n",
    "\n",
    "[… etc. …]\n",
    "```\n",
    "\n",
    "The idea is to automate (script) as much as possible. Data scientists build their own tools ! You may reuse or adapt that script next time you have to deal with databases :)\n",
    "\n",
    "When you write a complex program, try to write each functionality one after the other, step by step. « From small strokes fell great oaks »."
   ]
  },
  {
   "cell_type": "code",
   "execution_count": 2,
   "id": "f5c52b99-30c0-46f9-9d1c-f604bfbabfbe",
   "metadata": {},
   "outputs": [],
   "source": [
    "# first, the well known function to query the data base\n",
    "\n",
    "def exe(cursor: object, query: 'string'):\n",
    "    cursor.execute(query)\n",
    "    for row in  cursor.fetchall():\n",
    "        print(row)"
   ]
  },
  {
   "cell_type": "code",
   "execution_count": 4,
   "id": "da1b9d7f-8f1c-477f-b750-6a5c70a5c2d8",
   "metadata": {},
   "outputs": [
    {
     "name": "stdout",
     "output_type": "stream",
     "text": [
      "('main', 'orders', 'table', 8, 0, 0)\n",
      "('main', 'items', 'table', 4, 0, 0)\n",
      "('main', 'shippers', 'table', 2, 0, 0)\n",
      "('main', 'orders_items', 'table', 3, 0, 0)\n",
      "('main', 'customers', 'table', 5, 0, 0)\n",
      "('main', 'sqlite_schema', 'table', 5, 0, 0)\n",
      "('temp', 'sqlite_temp_schema', 'table', 5, 0, 0)\n"
     ]
    }
   ],
   "source": [
    "list_table = '''\n",
    "PRAGMA table_list;\n",
    "'''\n",
    "\n",
    "exe(c, list_table)"
   ]
  },
  {
   "cell_type": "code",
   "execution_count": 45,
   "id": "c9f58d43-60d5-408b-88ba-75cf8fc2e054",
   "metadata": {},
   "outputs": [
    {
     "name": "stdout",
     "output_type": "stream",
     "text": [
      "\n",
      "----- table orders columns -----\n",
      "\n",
      "id\n",
      "customer_id\n",
      "order_date\n",
      "order_status\n",
      "expedition_date\n",
      "reception_date\n",
      "shipping_company\n",
      "shipping_cost\n",
      "\n",
      " table orders first lines :\n",
      "\n",
      "(1, 2, '2023-08-14', 'Annulé', None, None, 2, '2,22')\n",
      "(2, 6, '2023-06-15', 'Livré', '2023-06-24', '2023-06-30', 1, '33,88')\n",
      "(3, 7, '2023-04-08', 'Expédié', '2023-04-17', None, 2, '0,74')\n",
      "(4, 6, '2023-02-04', 'Expédié', '2023-02-08', None, 4, '2,959')\n",
      "(5, 20, '2023-03-23', 'Annulé', None, None, 3, '0,972')\n",
      "\n",
      "----- table items columns -----\n",
      "\n",
      "id\n",
      "product\n",
      "volume\n",
      "weight\n",
      "\n",
      " table items first lines :\n",
      "\n",
      "(1, 'Table', 40398, '27')\n",
      "(2, 'Chaise', 23829, '7')\n",
      "(3, 'Ordinateur', 2912, '3')\n",
      "(4, 'Lampe', 2014, '0,3')\n",
      "(5, 'Canapé', 43852, '14')\n",
      "\n",
      "----- table shippers columns -----\n",
      "\n",
      "id\n",
      "company_name\n",
      "\n",
      " table shippers first lines :\n",
      "\n",
      "(1, 'HCL')\n",
      "(2, 'USD')\n",
      "(3, 'DeFix')\n",
      "(4, 'Colipost')\n",
      "(5, 'Chronossimo')\n",
      "\n",
      "----- table orders_items columns -----\n",
      "\n",
      "id\n",
      "order_id\n",
      "item_id\n",
      "\n",
      " table orders_items first lines :\n",
      "\n",
      "(1, 80, 3)\n",
      "(2, 21, 35)\n",
      "(3, 82, 12)\n",
      "(4, 84, 32)\n",
      "(5, 58, 40)\n",
      "\n",
      "----- table customers columns -----\n",
      "\n",
      "id\n",
      "lastname\n",
      "firstname\n",
      "address\n",
      "distance\n",
      "\n",
      " table customers first lines :\n",
      "\n",
      "(1, 'Martin', 'Jean', '140 rue de Paris', 137)\n",
      "(2, 'Bernard', 'Marie', '168 rue de Toulouse', 574)\n",
      "(3, 'Dubois', 'Pierre', '72 rue de Paris', 863)\n",
      "(4, 'Thomas', 'Sophie', '9 rue de Toulouse', 829)\n",
      "(5, 'Robert', 'Luc', '200 rue de Toulouse', 906)\n",
      "\n",
      "----- table sqlite_schema columns -----\n",
      "\n",
      "type\n",
      "name\n",
      "tbl_name\n",
      "rootpage\n",
      "sql\n",
      "\n",
      " table sqlite_schema first lines :\n",
      "\n",
      "('table', 'customers', 'customers', 2, 'CREATE TABLE \"customers\" (\\n\"id\" INTEGER,\\n  \"lastname\" TEXT,\\n  \"firstname\" TEXT,\\n  \"address\" TEXT,\\n  \"distance\" INTEGER\\n)')\n",
      "('table', 'orders_items', 'orders_items', 3, 'CREATE TABLE \"orders_items\" (\\n\"id\" INTEGER,\\n  \"order_id\" INTEGER,\\n  \"item_id\" INTEGER\\n)')\n",
      "('table', 'shippers', 'shippers', 4, 'CREATE TABLE \"shippers\" (\\n\"id\" INTEGER,\\n  \"company_name\" TEXT\\n)')\n",
      "('table', 'items', 'items', 5, 'CREATE TABLE \"items\" (\\n\"id\" INTEGER,\\n  \"product\" TEXT,\\n  \"volume\" INTEGER,\\n  \"weight\" TEXT\\n)')\n",
      "('table', 'orders', 'orders', 6, 'CREATE TABLE \"orders\" (\\n\"id\" INTEGER,\\n  \"customer_id\" INTEGER,\\n  \"order_date\" TEXT,\\n  \"order_status\" TEXT,\\n  \"expedition_date\" TEXT,\\n  \"reception_date\" TEXT,\\n  \"shipping_company\" INTEGER,\\n  \"shipping_cost\" TEXT\\n)')\n",
      "\n",
      "----- table sqlite_temp_schema columns -----\n",
      "\n",
      "type\n",
      "name\n",
      "tbl_name\n",
      "rootpage\n",
      "sql\n",
      "\n",
      " table sqlite_temp_schema first lines :\n",
      "\n"
     ]
    }
   ],
   "source": [
    "# list all columns of all tables\n",
    "\n",
    "# first, get table name\n",
    "c.execute(list_table)\n",
    "for row in c.fetchall():\n",
    "    table = row[1] # to improve readability\n",
    "\n",
    "    # then get columns names\n",
    "    column_list = 'PRAGMA table_info(' + table +')'\n",
    "    print('\\n----- table ' + row[1] + ' columns -----\\n')\n",
    "    c.execute(column_list)\n",
    "    \n",
    "    # print columns names\n",
    "    for row in  c.fetchall():\n",
    "        column = row[1] # to improve readability\n",
    "        print(column)\n",
    "    \n",
    "    # finally print first lines of each table   \n",
    "    print('\\n table ' + table + ' first lines :\\n')\n",
    "    select_all = 'SELECT * FROM ' + table + ' LIMIT 5'\n",
    "    exe(c, select_all)\n"
   ]
  },
  {
   "cell_type": "markdown",
   "id": "75009856-5a04-4e93-a996-e627575ff59e",
   "metadata": {},
   "source": [
    "## Analyses"
   ]
  },
  {
   "cell_type": "markdown",
   "id": "3be092a7-a7c9-463a-9bb6-ac1dbaec0d42",
   "metadata": {},
   "source": [
    "As a data scientist you have to answer to this question : is there a problem with delivery, and more specifically with some delivery company (shippers) ?\n",
    "\n",
    "4. Do some simple initial analyses :\n",
    "\n",
    "* how many orders, items, customers, shippers… ?\n",
    "* is there some customers that never buy / get their order ? some items never bought ?\n",
    "* check if there are errors. What would be inconsitents/missing data ? How to deal with them ? Apply a correction or delete such data (you choose !)\n",
    "\n",
    "6. Simple statitistics :\n",
    "\n",
    "* average number of items in an order ?\n",
    "* average number of orders by customers ?\n",
    "* what are the items most frequently sold ?\n",
    "* average weight of an order ?\n",
    "* compare the number of deliveries made by each shippers ?\n",
    "* percentage of canceled orders ? other status ?\n",
    "\n",
    "8. Build more complex indicators :\n",
    "\n",
    "* number of days between expedition and delivery ? (result can be stored in a column)\n",
    "* what are the slowest shippers ? the fastests ? average for each shipper ?\n",
    "* add a column to the shippers table : speed of delivery (speed = time / distance btw…).\n",
    "* add another column to the shippers table : price / kg of shipping (total cost = weight x price)\n",
    "\n",
    "What is the best shipping company ? The fatest ? The cheapest ? Best compromise ?\n",
    "\n",
    "Disclaimer : those data where randomly generated, I don’t know what the answer is, maybe there is something to find out, maybe not. Only your analysis will allow you to decide."
   ]
  },
  {
   "cell_type": "markdown",
   "id": "cc2284e1-0c49-4f54-9b09-74122afabb6c",
   "metadata": {},
   "source": [
    "### Initial analyses\n",
    "\n",
    "#### How many orders, items, customers, shippers… ?"
   ]
  },
  {
   "cell_type": "code",
   "execution_count": 46,
   "id": "f1d5bf69-beb2-444a-8e8a-0c70d1965203",
   "metadata": {},
   "outputs": [
    {
     "name": "stdout",
     "output_type": "stream",
     "text": [
      "Number of orders recorded :\n",
      "(100,)\n"
     ]
    }
   ],
   "source": [
    "n_orders = 'SELECT COUNT(*) FROM orders'\n",
    "print('Number of orders recorded :')\n",
    "exe(c, n_orders)"
   ]
  },
  {
   "cell_type": "code",
   "execution_count": 47,
   "id": "3441ea12-4bad-41d8-87e5-f76dd374096b",
   "metadata": {},
   "outputs": [
    {
     "name": "stdout",
     "output_type": "stream",
     "text": [
      "Number of orders grouped by status :\n",
      "('Annulé', 15)\n",
      "('En attente', 18)\n",
      "('Expédié', 24)\n",
      "('Livré', 43)\n"
     ]
    }
   ],
   "source": [
    "n_status = '''\n",
    "SELECT \n",
    "    order_status, COUNT(*) \n",
    "FROM \n",
    "    orders \n",
    "GROUP BY\n",
    "    order_status\n",
    "'''\n",
    "print('Number of orders grouped by status :')\n",
    "exe(c, n_status)"
   ]
  },
  {
   "cell_type": "code",
   "execution_count": 48,
   "id": "d478a87b-9617-4f6d-872c-0a8996146681",
   "metadata": {},
   "outputs": [
    {
     "name": "stdout",
     "output_type": "stream",
     "text": [
      "Number of items in the catalogue :\n",
      "(50,)\n"
     ]
    }
   ],
   "source": [
    "n_items = 'SELECT COUNT(*) FROM items'\n",
    "print('Number of items in the catalogue :')\n",
    "exe(c, n_items)"
   ]
  },
  {
   "cell_type": "code",
   "execution_count": 49,
   "id": "aaa17afa-ce52-4de5-a508-8aae1818d19f",
   "metadata": {},
   "outputs": [
    {
     "name": "stdout",
     "output_type": "stream",
     "text": [
      "Number of customers :\n",
      "(20,)\n"
     ]
    }
   ],
   "source": [
    "n_customers = 'SELECT COUNT(*) FROM customers'\n",
    "print('Number of customers :')\n",
    "exe(c, n_customers)"
   ]
  },
  {
   "cell_type": "code",
   "execution_count": 50,
   "id": "b24945d7-be6f-4b03-b3e5-c991955a7590",
   "metadata": {},
   "outputs": [
    {
     "name": "stdout",
     "output_type": "stream",
     "text": [
      "Number of shippers :\n",
      "(5,)\n"
     ]
    }
   ],
   "source": [
    "n_shippers = 'SELECT COUNT(*) FROM shippers'\n",
    "print('Number of shippers :')\n",
    "exe(c, n_shippers)"
   ]
  },
  {
   "cell_type": "markdown",
   "id": "a93badae-b4d7-432b-9ea0-ebc83cc8d71a",
   "metadata": {},
   "source": [
    "### Is there some customers that never buy / get their order ? some items never bought ?"
   ]
  },
  {
   "cell_type": "markdown",
   "id": "e97817c1-50ae-4e8a-b274-9a4a94642398",
   "metadata": {},
   "source": [
    "Remember the diagram of the exclusive left join :\n",
    "\n",
    "![Exclusive left joint diagram](./images/left_join_exclusive.png)\n",
    "\n",
    "We want to get the customers whose id do not appear in the customer_id in orders table, or whose orders has order_status to NULL. It corresponds to an exclusive left join. (A would be the `customers` table, and B the `orders` table."
   ]
  },
  {
   "cell_type": "code",
   "execution_count": 51,
   "id": "ed71cec6-2166-4609-bbbc-d9c7ac8c7277",
   "metadata": {},
   "outputs": [],
   "source": [
    "exclusive_left_join = '''\n",
    "SELECT \n",
    "    *\n",
    "FROM\n",
    "    customers as c\n",
    "LEFT JOIN \n",
    "    orders as o ON c.id = o.customer_id\n",
    "WHERE\n",
    "    o.customer_id IS NULL;\n",
    "'''\n",
    "\n",
    "exe(c, exclusive_left_join)"
   ]
  },
  {
   "cell_type": "markdown",
   "id": "c6ba589d-e6c7-4b7f-b481-7722fc3e6ce2",
   "metadata": {},
   "source": [
    "It seems that there are no customers who did not place any orders.\n",
    "\n",
    "An alternative (and somewhat roundabout) way to answer the question is to look at how many orders each customer has placed by doing a `GROUP BY` :"
   ]
  },
  {
   "cell_type": "code",
   "execution_count": 52,
   "id": "e840e5d3-9763-44e9-96ae-27c43521929e",
   "metadata": {},
   "outputs": [
    {
     "name": "stdout",
     "output_type": "stream",
     "text": [
      "(1, 3)\n",
      "(2, 6)\n",
      "(3, 3)\n",
      "(4, 4)\n",
      "(5, 5)\n",
      "(6, 7)\n",
      "(7, 6)\n",
      "(8, 4)\n",
      "(9, 7)\n",
      "(10, 8)\n",
      "(11, 9)\n",
      "(12, 5)\n",
      "(13, 2)\n",
      "(14, 4)\n",
      "(15, 6)\n",
      "(16, 5)\n",
      "(17, 4)\n",
      "(18, 4)\n",
      "(19, 2)\n",
      "(20, 6)\n"
     ]
    }
   ],
   "source": [
    "group_orders = '''\n",
    "SELECT \n",
    "    customer_id, COUNT(*)\n",
    "FROM\n",
    "    orders\n",
    "GROUP BY\n",
    "    customer_id;\n",
    "'''\n",
    "\n",
    "exe(c, group_orders)"
   ]
  },
  {
   "cell_type": "markdown",
   "id": "05abe7e7-cc82-4db1-8657-1ecf93bda9d3",
   "metadata": {},
   "source": [
    "We see that every customer has at least more than 2 orders. With a `JOIN` we could make the names of the customers appear :"
   ]
  },
  {
   "cell_type": "code",
   "execution_count": 53,
   "id": "571db03b-2fa1-46cf-80d1-c1cea542bd1c",
   "metadata": {},
   "outputs": [
    {
     "name": "stdout",
     "output_type": "stream",
     "text": [
      "('Jean', 'Martin', 3)\n",
      "('Marie', 'Bernard', 6)\n",
      "('Pierre', 'Dubois', 3)\n",
      "('Sophie', 'Thomas', 4)\n",
      "('Luc', 'Robert', 5)\n",
      "('Camille', 'Richard', 7)\n",
      "('Antoine', 'Petit', 6)\n",
      "('Isabelle', 'Durand', 4)\n",
      "('Julien', 'Lefevre', 7)\n",
      "('Charlotte', 'Moreau', 8)\n",
      "('Nicolas', 'Garcia', 9)\n",
      "('Laurence', 'Andre', 5)\n",
      "('Kevin', 'Lemoine', 2)\n",
      "('Elodie', 'Roux', 4)\n",
      "('Bruno', 'Vincent', 6)\n",
      "('Manon', 'Guillaume', 5)\n",
      "('Laurent', 'Lacroix', 4)\n",
      "('Sarah', 'Mercier', 4)\n",
      "('Victor', 'Blanc', 2)\n",
      "('Celine', 'Guerin', 6)\n"
     ]
    }
   ],
   "source": [
    "join_group_orders = '''\n",
    "SELECT \n",
    "    firstname, lastname, COUNT(*)\n",
    "FROM\n",
    "    customers as c\n",
    "JOIN \n",
    "    orders as o ON c.id = o.customer_id\n",
    "GROUP BY\n",
    "    o.customer_id;\n",
    "'''\n",
    "\n",
    "exe(c, join_group_orders)"
   ]
  },
  {
   "cell_type": "markdown",
   "id": "0cb1e230-9ab6-41c6-ae85-81d0e4619fb6",
   "metadata": {},
   "source": [
    "Can we count the number of orders by customers, minus the canceled orders ?"
   ]
  },
  {
   "cell_type": "code",
   "execution_count": 54,
   "id": "be6a4213-f986-4fb9-a4ec-b8fa1fca1f0f",
   "metadata": {},
   "outputs": [
    {
     "name": "stdout",
     "output_type": "stream",
     "text": [
      "('Jean', 'Martin', 3)\n",
      "('Marie', 'Bernard', 5)\n",
      "('Pierre', 'Dubois', 3)\n",
      "('Sophie', 'Thomas', 3)\n",
      "('Luc', 'Robert', 5)\n",
      "('Camille', 'Richard', 7)\n",
      "('Antoine', 'Petit', 5)\n",
      "('Isabelle', 'Durand', 4)\n",
      "('Julien', 'Lefevre', 5)\n",
      "('Charlotte', 'Moreau', 6)\n",
      "('Nicolas', 'Garcia', 8)\n",
      "('Laurence', 'Andre', 5)\n",
      "('Kevin', 'Lemoine', 2)\n",
      "('Elodie', 'Roux', 4)\n",
      "('Bruno', 'Vincent', 6)\n",
      "('Manon', 'Guillaume', 3)\n",
      "('Laurent', 'Lacroix', 2)\n",
      "('Sarah', 'Mercier', 4)\n",
      "('Victor', 'Blanc', 2)\n",
      "('Celine', 'Guerin', 3)\n"
     ]
    }
   ],
   "source": [
    "join_group_non_canceled_orders = '''\n",
    "SELECT \n",
    "    firstname, lastname, COUNT(*)\n",
    "FROM\n",
    "    customers as c\n",
    "JOIN \n",
    "    orders as o ON c.id = o.customer_id\n",
    "WHERE\n",
    "    o.order_status IS NOT 'Annulé'\n",
    "GROUP BY\n",
    "    o.customer_id;\n",
    "'''\n",
    "exe(c, join_group_non_canceled_orders)"
   ]
  },
  {
   "cell_type": "markdown",
   "id": "af8aa6ce-f1a6-4bdc-ac9f-abaefc74bed0",
   "metadata": {},
   "source": [
    "Even if we count the canceled orders, each customer still has at least 2 valid orders.\n",
    "\n",
    "How about the items ? Is there items that are not included in any order ?"
   ]
  },
  {
   "cell_type": "code",
   "execution_count": 55,
   "id": "d15c5a64-eef8-4656-8a69-52c6906476c3",
   "metadata": {},
   "outputs": [
    {
     "name": "stdout",
     "output_type": "stream",
     "text": [
      "(10, 'Bureau', 54057, '28', None, None, None)\n",
      "(42, 'Enceinte', 21886, '10', None, None, None)\n"
     ]
    }
   ],
   "source": [
    "exclusive_left_join = '''\n",
    "SELECT \n",
    "    *\n",
    "FROM\n",
    "    items as i\n",
    "LEFT JOIN \n",
    "    orders_items as o ON i.id = o.item_id\n",
    "WHERE\n",
    "    o.item_id IS NULL;\n",
    "'''\n",
    "\n",
    "exe(c, exclusive_left_join)"
   ]
  },
  {
   "cell_type": "markdown",
   "id": "708370e9-4a3d-4f81-b995-a311ddfd61c7",
   "metadata": {},
   "source": [
    "Two items have never been ordered : desktop and speaker."
   ]
  },
  {
   "cell_type": "markdown",
   "id": "41dea9ac-8987-45df-93c3-addafb79b14d",
   "metadata": {},
   "source": [
    "#### Check if there are errors. What would be inconsitents/missing data ? How to deal with them ? Apply a correction or delete such data (you choose !)"
   ]
  },
  {
   "cell_type": "markdown",
   "id": "ec68451d-c2dc-4e97-a41b-116d7037d782",
   "metadata": {},
   "source": [
    "A major inconsistancy would be errors in the labeling of the status orders : for example a canceled order with a reception date, or a delivered order with no reception date. Let’s check if there is such inconsistancy. "
   ]
  },
  {
   "cell_type": "code",
   "execution_count": 56,
   "id": "62e843c9-25dd-4acc-a212-871a91a59fda",
   "metadata": {},
   "outputs": [
    {
     "name": "stdout",
     "output_type": "stream",
     "text": [
      "(52, 'Annulé', '2023-03-29')\n"
     ]
    }
   ],
   "source": [
    "canceled_inconsistancies = '''\n",
    "SELECT \n",
    "    id, order_status, reception_date\n",
    "FROM\n",
    "    orders\n",
    "WHERE\n",
    "    order_status = 'Annulé' AND reception_date IS NOT NULL;\n",
    "'''\n",
    "\n",
    "exe(c, canceled_inconsistancies)"
   ]
  },
  {
   "cell_type": "markdown",
   "id": "bc6e6634-634c-4947-915b-fa5566a5ae2a",
   "metadata": {},
   "source": [
    "There is one inconsistancy !\n",
    "\n",
    "Let’s look for delivered status orders :"
   ]
  },
  {
   "cell_type": "code",
   "execution_count": 57,
   "id": "d091469a-d3a8-4caa-b66b-36975f7d3060",
   "metadata": {},
   "outputs": [
    {
     "name": "stdout",
     "output_type": "stream",
     "text": [
      "(45, 'Livré', None)\n",
      "(50, 'Livré', None)\n",
      "(68, 'Livré', None)\n"
     ]
    }
   ],
   "source": [
    "delivered_inconsistancies = '''\n",
    "SELECT \n",
    "    id, order_status, reception_date\n",
    "FROM\n",
    "    orders\n",
    "WHERE\n",
    "    order_status = 'Livré' AND reception_date IS NULL;\n",
    "'''\n",
    "\n",
    "exe(c, delivered_inconsistancies)"
   ]
  },
  {
   "cell_type": "markdown",
   "id": "29526083-f9fa-48a7-90e1-bbde3b152e95",
   "metadata": {},
   "source": [
    "Other inconsistancies would be an `'Expédié'` status with a `reception_date` or no `expedition_date` and an `'En attente'` status with `expedition_date` or `reception_date`. In fact we could make the opposite reasonning : having an `expedition_date` with a `'Annulé'` or `'En attente'` status would be an inconsistancy, as well as not having an `'expedition_date'` with a `'Expédié'` or `'Livré'` status. Same with having a `'reception_date'` with a status other than `'Livré'`. To make it clear, drawing a table could help us to identify the situations :\n",
    "\n",
    "| order_status | expedition_date | reception_date | inconsistancy | condition to test to detect inconsistancy                  |\n",
    "|--------------|-----------------|----------------|---------------|------------------------------------------------------------|\n",
    "| Annulé       | no              | no             | no            | there is expedition **or** reception dates                 |\n",
    "|              | yes             | no             | yes           |                                                            |\n",
    "|              | no              | yes            | yes           |                                                            |\n",
    "|              | yes             | yes            | yes           |                                                            |\n",
    "| En attente   | no              | no             | no            | **same** as precedent                                      |\n",
    "|              | yes             | no             | yes           |                                                            |\n",
    "|              | no              | yes            | yes           |                                                            |\n",
    "|              | yes             | yes            | yes           |                                                            |\n",
    "| Expédié      | no              | no             | yes           | there is **no** expedition **or** there is reception dates |\n",
    "|              | yes             | no             | no            |                                                            |\n",
    "|              | no              | yes            | yes           |                                                            |\n",
    "|              | yes             | yes            | yes           |                                                            |\n",
    "| Livré        | no              | no             | yes           |there is **no** expedition **and no** reception dates       |\n",
    "|              | yes             | no             | yes           |                                                            |\n",
    "|              | no              | yes            | yes           |                                                            |\n",
    "|              | yes             | yes            | no            |                                                            |\n",
    "\n",
    "This table help us to write the following conditions to detect inconsistency :"
   ]
  },
  {
   "cell_type": "code",
   "execution_count": 7,
   "id": "c213210f-85cf-4ccb-8f30-092587d6e26e",
   "metadata": {},
   "outputs": [
    {
     "name": "stdout",
     "output_type": "stream",
     "text": [
      "('Annulé', 52, '2023-03-22', '2023-03-29')\n",
      "('Annulé', 55, '2023-07-02', None)\n",
      "('En attente', 35, '2023-10-19', '2023-10-26')\n",
      "('En attente', 38, '2023-05-24', '2023-06-03')\n",
      "('En attente', 41, '2023-03-20', '2023-03-24')\n",
      "('En attente', 57, '2023-05-16', None)\n",
      "('En attente', 98, '2023-05-08', None)\n",
      "('Expédié', 40, '2023-10-24', '2023-10-28')\n",
      "('Expédié', 49, '2023-08-07', '2023-08-11')\n",
      "('Expédié', 53, '2023-10-22', '2023-10-30')\n",
      "('Expédié', 79, '2023-07-26', '2023-08-01')\n",
      "('Expédié', 91, '2023-10-18', '2023-10-23')\n",
      "('Livré', 45, '2023-02-01', None)\n",
      "('Livré', 50, '2023-06-13', None)\n",
      "('Livré', 68, '2023-05-29', None)\n"
     ]
    }
   ],
   "source": [
    "status_inconsistancies = '''\n",
    "SELECT \n",
    "    order_status, id, expedition_date, reception_date\n",
    "FROM\n",
    "    orders\n",
    "WHERE\n",
    "    ((order_status = 'Annulé' OR order_status = 'En attente') AND (expedition_date IS NOT NULL OR reception_date IS NOT NULL))\n",
    "    OR\n",
    "    (order_status = 'Expédié' AND (expedition_date IS NULL OR reception_date IS NOT NULL))\n",
    "    OR\n",
    "    (order_status = 'Livré' AND (expedition_date IS NULL OR reception_date IS NULL))\n",
    "ORDER BY\n",
    "    order_status;\n",
    "'''\n",
    "\n",
    "exe(c, status_inconsistancies)"
   ]
  },
  {
   "cell_type": "code",
   "execution_count": 9,
   "id": "a2ed038a-c69b-4d4e-afb5-ce65dc7eac3e",
   "metadata": {},
   "outputs": [
    {
     "name": "stdout",
     "output_type": "stream",
     "text": [
      "(15,)\n"
     ]
    }
   ],
   "source": [
    "n_inconsistancies = '''\n",
    "SELECT\n",
    "    COUNT(*)\n",
    "FROM\n",
    "    (\n",
    "''' + status_inconsistancies[:-2] + ');'\n",
    "\n",
    "exe(c, n_inconsistancies)"
   ]
  },
  {
   "cell_type": "markdown",
   "id": "16638ce9-132f-4224-ae88-0eedabb64163",
   "metadata": {},
   "source": [
    "The first thing to do is to investigate the process of recording status or dates, to detect which column can be trusted (or none). If the dates are correct, we have to update the status, on the contrary if the status are correct, we have to dismiss the dates. For this exercise we will consider that status is wrongly updated. Therefore we will change the status according to the dates info : we will get the id of records where there is an expedition date only (status -> `'Expédié'`) and records where there are expedition and reception date (status -> `'Livré'`). Let’s begin with the records we will update to `'Expédié'` :"
   ]
  },
  {
   "cell_type": "code",
   "execution_count": 13,
   "id": "39db16c1-69e5-4142-b4ab-574b0e4d24ec",
   "metadata": {},
   "outputs": [
    {
     "name": "stdout",
     "output_type": "stream",
     "text": [
      "(55, 'Annulé')\n",
      "(57, 'En attente')\n",
      "(98, 'En attente')\n",
      "(45, 'Livré')\n",
      "(50, 'Livré')\n",
      "(68, 'Livré')\n"
     ]
    },
    {
     "data": {
      "text/plain": [
       "[55, 57, 98, 45, 50, 68]"
      ]
     },
     "execution_count": 13,
     "metadata": {},
     "output_type": "execute_result"
    }
   ],
   "source": [
    "get_exp_id = ''' \n",
    "SELECT \n",
    "    id, order_status\n",
    "FROM (\n",
    "''' + status_inconsistancies[:-2] + '''\n",
    ")\n",
    "WHERE\n",
    "    expedition_date IS NOT NULL AND reception_date IS NULL;\n",
    "'''\n",
    "# we write status_inconsistancies[:-2] just to get rid of the '; ' at the end of the docstring, \n",
    "# that would lead to a syntax error in the new request\n",
    "exe(c, get_exp_id)\n",
    "\n",
    "c.execute(get_exp_id)\n",
    "\n",
    "id_to_exp = [ row[0] for row in c.fetchall()]\n",
    "id_to_exp"
   ]
  },
  {
   "cell_type": "markdown",
   "id": "d923364a-d8f3-495b-af2e-89989c12a41c",
   "metadata": {},
   "source": [
    "Same to get the list of id we’ll have to update to `'Livré'` :"
   ]
  },
  {
   "cell_type": "code",
   "execution_count": 11,
   "id": "eaa61dc8-a743-4caf-a8b9-afa2ee0a6471",
   "metadata": {},
   "outputs": [
    {
     "name": "stdout",
     "output_type": "stream",
     "text": [
      "(52, 'Annulé')\n",
      "(35, 'En attente')\n",
      "(38, 'En attente')\n",
      "(41, 'En attente')\n",
      "(40, 'Expédié')\n",
      "(49, 'Expédié')\n",
      "(53, 'Expédié')\n",
      "(79, 'Expédié')\n",
      "(91, 'Expédié')\n"
     ]
    },
    {
     "data": {
      "text/plain": [
       "[52, 35, 38, 41, 40, 49, 53, 79, 91]"
      ]
     },
     "execution_count": 11,
     "metadata": {},
     "output_type": "execute_result"
    }
   ],
   "source": [
    "get_liv_id = ''' \n",
    "SELECT \n",
    "    id, order_status\n",
    "FROM (\n",
    "''' + status_inconsistancies[:-2] + '''\n",
    ")\n",
    "WHERE\n",
    "    expedition_date IS NOT NULL AND reception_date IS NOT NULL;\n",
    "'''\n",
    "\n",
    "exe(c, get_liv_id)\n",
    "\n",
    "c.execute(get_liv_id)\n",
    "\n",
    "id_to_liv = [ row[0] for row in c.fetchall()]\n",
    "id_to_liv"
   ]
  },
  {
   "cell_type": "markdown",
   "id": "178c50b6-5bc0-4e48-b308-58160f8de13a",
   "metadata": {},
   "source": [
    "Now, let’s update the records’ status !"
   ]
  },
  {
   "cell_type": "code",
   "execution_count": 14,
   "id": "bcea8d3b-d904-46af-8875-21dd611987e8",
   "metadata": {},
   "outputs": [
    {
     "name": "stdout",
     "output_type": "stream",
     "text": [
      "(3, 7, '2023-04-08', 'Expédié', '2023-04-17', None, 2, '0,74')\n",
      "(4, 6, '2023-02-04', 'Expédié', '2023-02-08', None, 4, '2,959')\n",
      "(12, 2, '2023-04-20', 'Expédié', '2023-04-30', None, 1, '12,474')\n",
      "(16, 7, '2023-08-16', 'Expédié', '2023-08-25', None, 4, '37,66')\n",
      "(19, 10, '2023-01-18', 'Expédié', '2023-01-19', None, 1, '7,7')\n",
      "(23, 9, '2023-01-10', 'Expédié', '2023-01-20', None, 4, None)\n",
      "(27, 11, '2023-08-26', 'Expédié', '2023-09-01', None, 1, '22,946')\n",
      "(28, 15, '2023-03-03', 'Expédié', '2023-03-11', None, 1, '5,467')\n",
      "(29, 11, '2023-09-09', 'Expédié', '2023-09-16', None, 1, '8,239')\n",
      "(36, 11, '2023-09-06', 'Expédié', '2023-09-10', None, 4, '90,653')\n",
      "(40, 16, '2023-10-15', 'Expédié', '2023-10-24', '2023-10-28', 3, '11,34')\n",
      "(45, 9, '2023-01-24', 'Expédié', '2023-02-01', None, 4, '37,66')\n",
      "(49, 17, '2023-07-28', 'Expédié', '2023-08-07', '2023-08-11', 4, '1,614')\n",
      "(50, 12, '2023-06-11', 'Expédié', '2023-06-13', None, 4, None)\n",
      "(51, 9, '2023-01-12', 'Expédié', '2023-01-15', None, 1, '3,894')\n",
      "(53, 9, '2023-10-15', 'Expédié', '2023-10-22', '2023-10-30', 4, '2,421')\n",
      "(55, 17, '2023-06-25', 'Expédié', '2023-07-02', None, 3, '1,296')\n",
      "(57, 15, '2023-05-13', 'Expédié', '2023-05-16', None, 3, '0,162')\n",
      "(60, 13, '2023-04-30', 'Expédié', '2023-05-10', None, 1, '26,18')\n",
      "(64, 3, '2023-03-20', 'Expédié', '2023-03-24', None, 2, None)\n",
      "(68, 6, '2023-05-26', 'Expédié', '2023-05-29', None, 3, '8,991')\n",
      "(69, 20, '2023-09-13', 'Expédié', '2023-09-16', None, 4, None)\n",
      "(76, 1, '2023-05-20', 'Expédié', '2023-05-21', None, 3, None)\n",
      "(79, 2, '2023-07-16', 'Expédié', '2023-07-26', '2023-08-01', 3, '30,78')\n",
      "(86, 5, '2023-06-03', 'Expédié', '2023-06-07', None, 3, None)\n",
      "(88, 7, '2023-04-06', 'Expédié', '2023-04-13', None, 4, '75,32')\n",
      "(91, 18, '2023-10-15', 'Expédié', '2023-10-18', '2023-10-23', 1, '0,154')\n",
      "(97, 5, '2023-06-19', 'Expédié', '2023-06-23', None, 3, None)\n",
      "(98, 6, '2023-05-05', 'Expédié', '2023-05-08', None, 5, None)\n",
      "(99, 4, '2023-09-21', 'Expédié', '2023-09-22', None, 3, '0,567')\n"
     ]
    }
   ],
   "source": [
    "update_exp = '''\n",
    "UPDATE orders\n",
    "SET\n",
    "  order_status = 'Expédié'\n",
    "WHERE\n",
    "  id = \n",
    "'''\n",
    "\n",
    "for i in id_to_exp:\n",
    "    query = update_exp + str(i) + ';'\n",
    "    c.execute(query)\n",
    "\n",
    "# let’s verify :\n",
    "exe(c, '''SELECT * FROM orders WHERE order_status = 'Expédié';''')"
   ]
  },
  {
   "cell_type": "code",
   "execution_count": 15,
   "id": "649020db-c4c0-4f53-aac9-47452e2a243e",
   "metadata": {},
   "outputs": [
    {
     "name": "stdout",
     "output_type": "stream",
     "text": [
      "(2, 6, '2023-06-15', 'Livré', '2023-06-24', '2023-06-30', 1, '33,88')\n",
      "(7, 10, '2023-03-12', 'Livré', '2023-03-20', '2023-03-25', 1, '12,166')\n",
      "(13, 4, '2023-06-04', 'Livré', '2023-06-11', '2023-06-20', 5, '82,269')\n",
      "(15, 15, '2023-09-08', 'Livré', '2023-09-11', '2023-09-18', 5, None)\n",
      "(21, 13, '2023-03-03', 'Livré', '2023-03-05', '2023-03-12', 2, '5,55')\n",
      "(24, 10, '2023-08-01', 'Livré', '2023-08-06', '2023-08-08', 1, '22,561')\n",
      "(26, 16, '2023-02-06', 'Livré', '2023-02-11', '2023-02-19', 5, '57,024')\n",
      "(31, 14, '2023-10-27', 'Livré', '2023-11-05', '2023-11-15', 5, '91,476')\n",
      "(32, 15, '2023-09-03', 'Livré', '2023-09-08', '2023-09-10', 5, '115,533')\n",
      "(33, 5, '2023-01-08', 'Livré', '2023-01-14', '2023-01-18', 1, '0,154')\n",
      "(35, 3, '2023-10-14', 'Livré', '2023-10-19', '2023-10-26', 2, None)\n",
      "(37, 12, '2023-10-12', 'Livré', '2023-10-16', '2023-10-20', 4, None)\n",
      "(38, 14, '2023-05-14', 'Livré', '2023-05-24', '2023-06-03', 2, '4,44')\n",
      "(39, 19, '2023-10-25', 'Livré', '2023-11-01', '2023-11-02', 1, '0,616')\n",
      "(40, 16, '2023-10-15', 'Livré', '2023-10-24', '2023-10-28', 3, '11,34')\n",
      "(41, 18, '2023-03-10', 'Livré', '2023-03-20', '2023-03-24', 3, '16,848')\n",
      "(42, 7, '2023-06-01', 'Livré', '2023-06-10', '2023-06-15', 3, '1,053')\n",
      "(44, 9, '2023-04-22', 'Livré', '2023-04-23', '2023-04-29', 2, None)\n",
      "(46, 4, '2023-06-16', 'Livré', '2023-06-19', '2023-06-20', 2, None)\n",
      "(47, 5, '2023-02-18', 'Livré', '2023-02-19', '2023-02-26', 4, '129,12')\n",
      "(49, 17, '2023-07-28', 'Livré', '2023-08-07', '2023-08-11', 4, '1,614')\n",
      "(52, 10, '2023-03-17', 'Livré', '2023-03-22', '2023-03-29', 3, '25,515')\n",
      "(53, 9, '2023-10-15', 'Livré', '2023-10-22', '2023-10-30', 4, '2,421')\n",
      "(54, 14, '2023-07-22', 'Livré', '2023-08-01', '2023-08-10', 5, None)\n",
      "(56, 12, '2023-09-12', 'Livré', '2023-09-21', '2023-09-28', 5, '11,88')\n",
      "(58, 6, '2023-10-02', 'Livré', '2023-10-08', '2023-10-14', 2, '3,33')\n",
      "(59, 10, '2023-08-19', 'Livré', '2023-08-20', '2023-08-24', 1, None)\n",
      "(62, 10, '2023-09-20', 'Livré', '2023-09-21', '2023-10-01', 2, '93,61')\n",
      "(63, 2, '2023-02-28', 'Livré', '2023-03-04', '2023-03-14', 4, None)\n",
      "(65, 11, '2023-01-04', 'Livré', '2023-01-11', '2023-01-18', 2, None)\n",
      "(67, 8, '2023-09-12', 'Livré', '2023-09-22', '2023-09-28', 1, '20,79')\n",
      "(70, 3, '2023-03-28', 'Livré', '2023-04-01', '2023-04-09', 3, None)\n",
      "(72, 19, '2023-03-23', 'Livré', '2023-03-31', '2023-04-05', 4, None)\n",
      "(73, 1, '2023-05-20', 'Livré', '2023-05-23', '2023-05-30', 2, None)\n",
      "(75, 12, '2023-09-21', 'Livré', '2023-09-23', '2023-09-24', 4, '5,111')\n",
      "(78, 16, '2023-08-24', 'Livré', '2023-08-25', '2023-09-01', 2, '162,8')\n",
      "(79, 2, '2023-07-16', 'Livré', '2023-07-26', '2023-08-01', 3, '30,78')\n",
      "(80, 18, '2023-10-23', 'Livré', '2023-10-25', '2023-11-03', 1, '3,388')\n",
      "(81, 8, '2023-10-20', 'Livré', '2023-10-26', '2023-10-27', 5, '204,93')\n",
      "(82, 8, '2023-07-15', 'Livré', '2023-07-17', '2023-07-18', 5, '88,803')\n",
      "(83, 6, '2023-01-30', 'Livré', '2023-01-31', '2023-02-03', 2, '5,18')\n",
      "(85, 14, '2023-04-17', 'Livré', '2023-04-18', '2023-04-25', 5, '93,555')\n",
      "(89, 11, '2023-09-25', 'Livré', '2023-09-29', '2023-10-06', 2, None)\n",
      "(90, 20, '2023-08-18', 'Livré', '2023-08-22', '2023-08-31', 2, None)\n",
      "(91, 18, '2023-10-15', 'Livré', '2023-10-18', '2023-10-23', 1, '0,154')\n",
      "(93, 15, '2023-02-27', 'Livré', '2023-03-01', '2023-03-05', 2, None)\n",
      "(94, 15, '2023-05-10', 'Livré', '2023-05-12', '2023-05-16', 1, '2,31')\n",
      "(95, 10, '2023-03-30', 'Livré', '2023-04-04', '2023-04-06', 1, '0,462')\n",
      "(100, 2, '2023-06-02', 'Livré', '2023-06-07', '2023-06-16', 4, '61,87')\n"
     ]
    }
   ],
   "source": [
    "update_liv = '''\n",
    "UPDATE orders\n",
    "SET\n",
    "  order_status = 'Livré'\n",
    "WHERE\n",
    "  id = \n",
    "'''\n",
    "\n",
    "for i in id_to_liv:\n",
    "    query = update_liv + str(i) + ';'\n",
    "    c.execute(query)\n",
    "\n",
    "# let’s verify :\n",
    "exe(c, 'SELECT * FROM orders WHERE order_status = \"Livré\";')"
   ]
  },
  {
   "cell_type": "markdown",
   "id": "a9b0fef2-ee72-47b0-a493-c72a21b5ea8c",
   "metadata": {},
   "source": [
    "Another verification of the consistancy : "
   ]
  },
  {
   "cell_type": "code",
   "execution_count": 3,
   "id": "95b018fa-a343-4d31-b9fa-4ef9d9aa9aa7",
   "metadata": {},
   "outputs": [
    {
     "name": "stdout",
     "output_type": "stream",
     "text": [
      "(49,)\n"
     ]
    }
   ],
   "source": [
    "exe(c, 'SELECT COUNT(*) FROM orders WHERE order_status = \"Livré\"')"
   ]
  },
  {
   "cell_type": "code",
   "execution_count": 4,
   "id": "bf08caf0-17f2-48d5-b857-b6d279847c72",
   "metadata": {},
   "outputs": [
    {
     "name": "stdout",
     "output_type": "stream",
     "text": [
      "(49,)\n"
     ]
    }
   ],
   "source": [
    "exe(c, 'SELECT COUNT(*) FROM orders WHERE reception_date IS NOT NULL')"
   ]
  },
  {
   "cell_type": "markdown",
   "id": "be015270-71a9-4a0d-86f8-7d83a2408335",
   "metadata": {},
   "source": [
    "Do not forget to commit once you have verified correctness of the update."
   ]
  },
  {
   "cell_type": "code",
   "execution_count": 18,
   "id": "0f4191b4-a965-4f7e-aa12-87d5d339cbfe",
   "metadata": {},
   "outputs": [],
   "source": [
    "conn.commit()"
   ]
  },
  {
   "cell_type": "markdown",
   "id": "eb170eb2-ce2b-4d26-896c-8d0a1ddcf94f",
   "metadata": {},
   "source": [
    "Data have been cleaned ! Another choice would have been to drop all the records with inconsistency (especially if we could not determine from where came the error). But as orders id are used as foreign keys in other table, it would have implied to update other tables too (due to constraints that preserve database integrity). "
   ]
  },
  {
   "cell_type": "markdown",
   "id": "141ba489-4853-49d5-9cc9-e0cff64ed015",
   "metadata": {},
   "source": [
    "### Simple statitistics :\n",
    "#### Average number of items in an order ?\n",
    "\n",
    "Just a `GROUP BY` order and `COUNT()`. To get the average of this, we have to use a subquery. The table that gives infos about orders and items is the `orders_items` table :"
   ]
  },
  {
   "cell_type": "code",
   "execution_count": 19,
   "id": "79016501-8b84-4cc2-bdf3-1196cc7933ed",
   "metadata": {},
   "outputs": [
    {
     "name": "stdout",
     "output_type": "stream",
     "text": [
      "(2.027027027027027,)\n"
     ]
    }
   ],
   "source": [
    "avg_items = '''\n",
    "SELECT\n",
    "    AVG(n_items)\n",
    "FROM\n",
    "    (\n",
    "     SELECT \n",
    "         COUNT(*) as n_items\n",
    "    FROM\n",
    "        orders_items\n",
    "    GROUP BY\n",
    "        order_id\n",
    "    );\n",
    "'''\n",
    "\n",
    "exe(c, avg_items)"
   ]
  },
  {
   "cell_type": "markdown",
   "id": "4f1a4557-4c58-4377-bf5b-dcabc490a485",
   "metadata": {},
   "source": [
    "#### Average number of orders by customers ?\n",
    "\n",
    "Same logic :"
   ]
  },
  {
   "cell_type": "code",
   "execution_count": 20,
   "id": "20a954bc-6fbf-43e3-80c3-b6f416a70056",
   "metadata": {},
   "outputs": [
    {
     "name": "stdout",
     "output_type": "stream",
     "text": [
      "(5.0,)\n"
     ]
    }
   ],
   "source": [
    "avg_orders = '''\n",
    "SELECT\n",
    "    AVG(n_orders)\n",
    "FROM\n",
    "    (\n",
    "     SELECT \n",
    "         COUNT(*) as n_orders\n",
    "    FROM\n",
    "        orders\n",
    "    GROUP BY\n",
    "        customer_id\n",
    "    );\n",
    "'''\n",
    "\n",
    "exe(c, avg_orders)"
   ]
  },
  {
   "cell_type": "markdown",
   "id": "049cae1b-9128-4769-b4d5-e29eb83b1b33",
   "metadata": {},
   "source": [
    "#### what are the items most frequently sold ?"
   ]
  },
  {
   "cell_type": "code",
   "execution_count": 21,
   "id": "019304ea-ac25-4784-be82-3a82acdd48a9",
   "metadata": {},
   "outputs": [
    {
     "name": "stdout",
     "output_type": "stream",
     "text": [
      "('Vase', 7)\n",
      "('Tasse', 7)\n",
      "('Couteau', 7)\n",
      "('Lampe', 6)\n",
      "('Télévision', 5)\n",
      "('Réfrigérateur', 5)\n",
      "('Rideaux', 5)\n",
      "('Étagère', 4)\n",
      "('Table', 4)\n",
      "('Serviette', 4)\n"
     ]
    }
   ],
   "source": [
    "join_items_ordered = '''\n",
    "SELECT \n",
    "    i.product, COUNT(*) as n_items\n",
    "FROM\n",
    "    items as i\n",
    "JOIN \n",
    "    orders_items as o ON i.id = o.item_id\n",
    "GROUP BY\n",
    "    i.product\n",
    "ORDER BY\n",
    "    n_items DESC\n",
    "LIMIT 10;\n",
    "'''\n",
    "\n",
    "exe(c, join_items_ordered)"
   ]
  },
  {
   "cell_type": "markdown",
   "id": "990fe603-8b75-49d3-9e9d-da4cc8420502",
   "metadata": {},
   "source": [
    "With `'LIMIT 10'` we have selected the 10 items the most frequently ordered. But if we would have written `'LIMIT 11'` we would have saw that the 11th items is ordered as often as the 8th, 9th and 10th (4 times). `'LIMIT`' has nothing to do with frequency, but the number of lines. If we want to deal with frequency inside a sample (or population) `NTILE()` function (quantile) are a best choice. Those functions are a window function.\n",
    "\n",
    "We will build two subqueries :\n",
    "* the first subquery will select (count) number of items in orders, with a join to get items name (see the query join_items_ordered above)\n",
    "* the second subquery uses the `NTILE()` window (`OVER`) function to determine to which quartile belong each item\n",
    "* a query select only the items of the last quartile"
   ]
  },
  {
   "cell_type": "code",
   "execution_count": 23,
   "id": "40f85981-941f-47f2-a9db-58a5d043c297",
   "metadata": {},
   "outputs": [
    {
     "name": "stdout",
     "output_type": "stream",
     "text": [
      "25% products the most frequently ordered (last quartile):\n",
      "('Serviette',)\n",
      "('Porte-serviette',)\n",
      "('Micro-ondes',)\n",
      "('Clavier',)\n",
      "('Bouilloire',)\n",
      "('Télévision',)\n",
      "('Réfrigérateur',)\n",
      "('Rideaux',)\n",
      "('Lampe',)\n",
      "('Vase',)\n",
      "('Tasse',)\n",
      "('Couteau',)\n"
     ]
    }
   ],
   "source": [
    "last_quartile = '''\n",
    "SELECT \n",
    "    product\n",
    "FROM(\n",
    "    SELECT\n",
    "    product,\n",
    "    NTILE(4) OVER (\n",
    "        ORDER BY n_items\n",
    "        ) AS Quartile\n",
    "FROM \n",
    "( ''' + join_items_ordered[:-10] + \")) WHERE Quartile = 4;\" # [:-10] cut the end of the query join_items_ordered ( to get rid of LIMIT 10;)\n",
    "# we select the last quartile (Quartile = 4)\n",
    "\n",
    "print('25% products the most frequently ordered (last quartile):')\n",
    "exe(c, last_quartile)"
   ]
  },
  {
   "cell_type": "markdown",
   "id": "aca79126-d0ea-4983-8dae-8a625b741469",
   "metadata": {},
   "source": [
    "#### Average weight of an order ?\n",
    "\n",
    "It should be a reflex : always check a new variable when you have to process it. Is its actual datatype congruent with its supposed datatype ? Is there any missing value or outliers ? Any errors in certain records ? Etc.  "
   ]
  },
  {
   "cell_type": "code",
   "execution_count": 61,
   "id": "a06fd76a-00ec-4077-9949-09a902552b03",
   "metadata": {},
   "outputs": [
    {
     "name": "stdout",
     "output_type": "stream",
     "text": [
      "('27',)\n",
      "('7',)\n",
      "('3',)\n",
      "('0,3',)\n",
      "('14',)\n",
      "('29',)\n",
      "('12',)\n",
      "('5,4',)\n",
      "('28',)\n",
      "('28',)\n"
     ]
    }
   ],
   "source": [
    "exe(c, 'SELECT weight FROM items LIMIT 10')"
   ]
  },
  {
   "cell_type": "markdown",
   "id": "0550aa86-a354-431c-95ed-a4714b41249e",
   "metadata": {},
   "source": [
    "First thing : it seems that weight values are of string (`TEXT`) type :"
   ]
  },
  {
   "cell_type": "code",
   "execution_count": 66,
   "id": "3a7336c8-ea9b-4864-a532-5a132a27dc19",
   "metadata": {},
   "outputs": [
    {
     "data": {
      "text/plain": [
       "str"
      ]
     },
     "execution_count": 66,
     "metadata": {},
     "output_type": "execute_result"
    }
   ],
   "source": [
    "c.execute('SELECT weight FROM items LIMIT 10')\n",
    "type(c.fetchone()[0]) # we’re checking the first element of the tuple returned by .fetchone() "
   ]
  },
  {
   "cell_type": "markdown",
   "id": "64abc1fb-d60b-4dd4-9eca-e0cb7217a4ba",
   "metadata": {},
   "source": [
    "We also see that the decimal separator (`'0,3' or '5,4') is a comma and not a point. That’s often the case when we import `.csv` files or other file formats that may contain localized data for which the separators may vary.\n",
    "\n",
    "Is it a problem when we perform arithmetic operations on such data ?"
   ]
  },
  {
   "cell_type": "code",
   "execution_count": 68,
   "id": "209e776c-77b4-4a72-8636-328fd17843f2",
   "metadata": {},
   "outputs": [
    {
     "name": "stdout",
     "output_type": "stream",
     "text": [
      "(425.0,)\n"
     ]
    }
   ],
   "source": [
    "exe(c, 'SELECT SUM(weight) FROM items')"
   ]
  },
  {
   "cell_type": "markdown",
   "id": "f4e68539-5007-47c5-996a-b19dd602fecf",
   "metadata": {},
   "source": [
    "It seems that strings are automatically converted to float, but the decimal part is ignored.\n",
    "In fact SQLite can’t take into account commas as decimal separator. We have to `REPLACE` all comma by point before casting values to `REAL`.\n",
    "This illustrate the importance of data preparation !"
   ]
  },
  {
   "cell_type": "code",
   "execution_count": 69,
   "id": "775df6fd-3203-4c30-baaf-193010fffbeb",
   "metadata": {},
   "outputs": [
    {
     "name": "stdout",
     "output_type": "stream",
     "text": [
      "(440.0999999999999,)\n"
     ]
    }
   ],
   "source": [
    "exe(c, 'SELECT SUM(CAST( REPLACE(weight, \",\", \".\") AS REAL)) FROM items')"
   ]
  },
  {
   "cell_type": "markdown",
   "id": "87991c1f-f876-40e0-9100-0ba0647182e2",
   "metadata": {},
   "source": [
    "That’s quite a different result ! \n",
    "\n",
    "* `REPLACE(weight, \",\", \".\")` replaced all the commas by dots\n",
    "* `CAST( x AS REAL)` convert x to `REAL` type (here x is the result of the previous line)\n",
    "* `SUM()` simply returns the sum\n",
    "* We are seeing some rounding issues. Maybe call the `ROUND` function to get a correctly formatted two decimal result.\n",
    "\n",
    "Now, just sum the weights for each order. We have to :\n",
    "* calculate the `SUM`, taking care to carry out the conversion as seen previously and rounding the result\n",
    "* `JOIN` `items` and `orders_items` tables `ON` items id\n",
    "* and `GROUP BY` orders id to get result for each order :"
   ]
  },
  {
   "cell_type": "code",
   "execution_count": 75,
   "id": "23edb243-a4d7-4eac-881b-88775f8d84f3",
   "metadata": {},
   "outputs": [
    {
     "name": "stdout",
     "output_type": "stream",
     "text": [
      "(1, 0.6)\n",
      "(2, 44.0)\n",
      "(3, 0.2)\n",
      "(4, 1.1)\n",
      "(5, 1.2)\n",
      "(6, 29.8)\n",
      "(7, 15.8)\n",
      "(8, 5.6)\n",
      "(9, 4.8)\n",
      "(11, 2.8)\n"
     ]
    }
   ],
   "source": [
    "exe(c, ''' \n",
    "    SELECT \n",
    "        o.order_id, ROUND(SUM(CAST(REPLACE(weight, \",\", \".\") AS REAL)), 2) \n",
    "            AS total_weight\n",
    "    FROM\n",
    "        items as i\n",
    "    JOIN \n",
    "        orders_items as o ON i.id = o.item_id\n",
    "    GROUP BY\n",
    "        o.order_id\n",
    "    LIMIT 10;\n",
    "    ''')"
   ]
  },
  {
   "cell_type": "markdown",
   "id": "1cd2fc7a-bbfc-4af4-b0cc-09910d71efc5",
   "metadata": {},
   "source": [
    "It seems ok. Now let’s create of query to get the total weight for each order :"
   ]
  },
  {
   "cell_type": "code",
   "execution_count": 63,
   "id": "0313d246-8b1e-4b59-b520-30ddb95dfb49",
   "metadata": {},
   "outputs": [
    {
     "name": "stdout",
     "output_type": "stream",
     "text": [
      "(1, 0.6)\n",
      "(2, 44.0)\n",
      "(3, 0.2)\n",
      "(4, 1.1)\n",
      "(5, 1.2)\n",
      "(6, 29.8)\n",
      "(7, 15.8)\n",
      "(8, 5.6)\n",
      "(9, 4.8)\n",
      "(11, 2.8)\n",
      "(12, 16.2)\n",
      "(13, 27.7)\n",
      "(14, 25.0)\n",
      "(16, 14.0)\n",
      "(19, 10.0)\n",
      "(20, 0.3)\n",
      "(21, 1.5)\n",
      "(22, 0.2)\n",
      "(24, 29.3)\n",
      "(25, 1.8)\n",
      "(26, 19.2)\n",
      "(27, 29.8)\n",
      "(28, 7.1)\n",
      "(29, 10.7)\n",
      "(30, 12.9)\n",
      "(31, 30.8)\n",
      "(32, 38.9)\n",
      "(33, 0.2)\n",
      "(34, 2.0)\n",
      "(36, 33.7)\n",
      "(38, 1.2)\n",
      "(39, 0.8)\n",
      "(40, 14.0)\n",
      "(41, 20.8)\n",
      "(42, 1.3)\n",
      "(43, 11.1)\n",
      "(45, 14.0)\n",
      "(47, 58.0)\n",
      "(48, 0.3)\n",
      "(49, 0.6)\n",
      "(51, 2.2)\n",
      "(52, 31.5)\n",
      "(53, 0.9)\n",
      "(55, 1.6)\n",
      "(56, 4.0)\n",
      "(57, 0.2)\n",
      "(58, 0.9)\n",
      "(60, 34.0)\n",
      "(61, 34.8)\n",
      "(62, 25.3)\n",
      "(66, 32.3)\n",
      "(67, 27.0)\n",
      "(68, 11.1)\n",
      "(71, 42.0)\n",
      "(74, 14.0)\n",
      "(75, 1.9)\n",
      "(77, 27.0)\n",
      "(78, 44.0)\n",
      "(79, 38.0)\n",
      "(80, 4.4)\n",
      "(81, 69.0)\n",
      "(82, 29.9)\n",
      "(83, 1.4)\n",
      "(84, 47.9)\n",
      "(85, 31.5)\n",
      "(87, 28.0)\n",
      "(88, 28.0)\n",
      "(91, 0.2)\n",
      "(92, 30.8)\n",
      "(94, 3.0)\n",
      "(95, 0.6)\n",
      "(96, 12.3)\n",
      "(99, 0.7)\n",
      "(100, 23.0)\n"
     ]
    }
   ],
   "source": [
    "orders_weight = '''\n",
    "SELECT \n",
    "    o.order_id, \n",
    "    ROUND(SUM(CAST(REPLACE(weight, \",\", \".\") AS REAL)), 2) \n",
    "        AS total_weight\n",
    "FROM\n",
    "    items as i\n",
    "JOIN \n",
    "    orders_items as o ON i.id = o.item_id\n",
    "GROUP BY\n",
    "    o.order_id;\n",
    "'''\n",
    "\n",
    "exe(c, orders_weight)"
   ]
  },
  {
   "cell_type": "markdown",
   "id": "93e4943d-02cb-4728-b0ba-8a1bc0f33913",
   "metadata": {},
   "source": [
    "And now just compute the mean :"
   ]
  },
  {
   "cell_type": "code",
   "execution_count": 78,
   "id": "06715e75-760a-4bf0-9ca5-3ef54fead19b",
   "metadata": {},
   "outputs": [
    {
     "name": "stdout",
     "output_type": "stream",
     "text": [
      "(16.52,)\n"
     ]
    }
   ],
   "source": [
    "avg_weight_orders = '''\n",
    "SELECT\n",
    "    ROUND(AVG(total_weight),2)\n",
    "FROM\n",
    "    (\n",
    "''' + orders_weight[:-2] + ');'\n",
    "\n",
    "exe(c, avg_weight_orders)"
   ]
  },
  {
   "cell_type": "markdown",
   "id": "32e1f69e-a256-4f00-af1c-4bceb106833b",
   "metadata": {},
   "source": [
    "When we build complex requests, we have to build them step by step, decomposing them in simpler operations.\n",
    "Don’t try to write a long, perfect and optimized request at first try. Readability and comprehenssivness are your priority here.\n",
    "When engaging in a step by step process, subrequests are of great help !\n",
    "\n",
    "#### Compare the number of deliveries made by each shippers ?\n",
    "\n",
    "Let’s analyse the question and link some terms to SQL clauses :\n",
    "\n",
    "- deliveries -> select with `WHERE` orders for which we have a `reception_date` or a `Livré` status\n",
    "- number of deliveries -> `COUNT` orders\n",
    "- for each shippers -> `GROUP BY`\n",
    "\n",
    "If we only use the `orders` table we’ll juste have the shipping companies’ code. To get their name we’ll have to do a join :\n",
    "\n",
    "- get companies names -> `JOIN` on shipping_company // id\n",
    "\n",
    "Let’s create the request that just get the companies `id` in the first time :"
   ]
  },
  {
   "cell_type": "code",
   "execution_count": 79,
   "id": "aa11b186-da12-4820-b13e-d29d5edbe5b5",
   "metadata": {},
   "outputs": [
    {
     "name": "stdout",
     "output_type": "stream",
     "text": [
      "(1, 11)\n",
      "(2, 14)\n",
      "(3, 6)\n",
      "(4, 8)\n",
      "(5, 10)\n"
     ]
    }
   ],
   "source": [
    "n_deliveries = '''\n",
    "SELECT \n",
    "    shipping_company, COUNT(*)\n",
    "FROM\n",
    "    orders\n",
    "WHERE\n",
    "    reception_date IS NOT NULL\n",
    "GROUP BY \n",
    "    shipping_company\n",
    "'''\n",
    "\n",
    "exe(c, n_deliveries)"
   ]
  },
  {
   "cell_type": "markdown",
   "id": "bf113b39-b897-4b89-bd27-a66f41b9e841",
   "metadata": {},
   "source": [
    "Now let’s complexify our requests with a `JOIN` to get companies names in a second time:"
   ]
  },
  {
   "cell_type": "code",
   "execution_count": 80,
   "id": "e5e455dd-7a6d-4431-b3da-481c306a1bcf",
   "metadata": {},
   "outputs": [
    {
     "name": "stdout",
     "output_type": "stream",
     "text": [
      "('Chronossimo', 10)\n",
      "('Colipost', 8)\n",
      "('DeFix', 6)\n",
      "('HCL', 11)\n",
      "('USD', 14)\n"
     ]
    }
   ],
   "source": [
    "n_deliveries = '''\n",
    "SELECT \n",
    "    company_name, COUNT(*)\n",
    "FROM\n",
    "    orders AS o\n",
    "JOIN \n",
    "    shippers AS s \n",
    "    ON \n",
    "        s.id = o.shipping_company\n",
    "WHERE\n",
    "    reception_date IS NOT NULL\n",
    "GROUP BY \n",
    "    company_name\n",
    "'''\n",
    "\n",
    "exe(c, n_deliveries)"
   ]
  },
  {
   "cell_type": "markdown",
   "id": "c11420d5-ab14-4590-8e5c-c35d74ee791b",
   "metadata": {},
   "source": [
    "#### Percentage of canceled orders ? other status ?\n",
    "\n",
    "We can use a subrequest to get the number of canceled orders. Then we can compute the percentage by getting the total number of orders with `COUNT(*)`.\n",
    "\n",
    "**Important** : to compute percentage, we multiply by 1.0, the result is a float, so we can access to the float division"
   ]
  },
  {
   "cell_type": "code",
   "execution_count": 81,
   "id": "977096b0-f593-46ce-8e71-c9570d713833",
   "metadata": {},
   "outputs": [
    {
     "name": "stdout",
     "output_type": "stream",
     "text": [
      "Percentage of canceled orders :\n",
      "(13.0,)\n"
     ]
    }
   ],
   "source": [
    "p_canceled = '''\n",
    "SELECT \n",
    "    (\n",
    "        SELECT \n",
    "            COUNT(*)\n",
    "        FROM \n",
    "            orders\n",
    "        WHERE order_status = 'Annulé'\n",
    "    ) * 1.0 / COUNT(*) * 100\n",
    "FROM\n",
    "    orders\n",
    "'''\n",
    "print('Percentage of canceled orders :')\n",
    "exe(c, p_canceled)"
   ]
  },
  {
   "cell_type": "markdown",
   "id": "adcf6311-ef96-4812-964b-9284986df986",
   "metadata": {},
   "source": [
    "If we want to compute the percentage of each status in one request, we have to use a `GROUP BY` for status, and get the total of orders with one subrequest (and don’t forget to multiply by `1.0` to cast to float) :"
   ]
  },
  {
   "cell_type": "code",
   "execution_count": 5,
   "id": "553548e6-8503-41af-a926-2c40eae9fdac",
   "metadata": {},
   "outputs": [
    {
     "name": "stdout",
     "output_type": "stream",
     "text": [
      "Percentage of orders in each status:\n",
      "('Annulé', 0.13)\n",
      "('En attente', 0.13)\n",
      "('Expédié', 0.25)\n",
      "('Livré', 0.49)\n"
     ]
    }
   ],
   "source": [
    "p_status = '''\n",
    "        SELECT \n",
    "            order_status, COUNT(*) * 1.0 / \n",
    "            (SELECT COUNT(*) FROM ORDERS)\n",
    "        FROM \n",
    "            orders\n",
    "        GROUP BY\n",
    "            order_status\n",
    "\n",
    "'''\n",
    "print('Percentage of orders in each status:')\n",
    "exe(c, p_status)"
   ]
  },
  {
   "cell_type": "markdown",
   "id": "d009ff21-4bed-4703-a8c1-f632291e4535",
   "metadata": {},
   "source": [
    "### Build more complex indicators :\n",
    "\n",
    "#### Number of days between expedition and delivery ? (result can be stored in a column)\n",
    "\n",
    "For this one, we’ll have to use datetime functions, and in particular the function `DATE()`.\n",
    "\n",
    "First thing to do : check the format of the date columns :"
   ]
  },
  {
   "cell_type": "code",
   "execution_count": 6,
   "id": "5092c988-a8e3-47a3-bc5e-0ebb402e498f",
   "metadata": {},
   "outputs": [
    {
     "name": "stdout",
     "output_type": "stream",
     "text": [
      "('2023-08-14', None, None)\n",
      "('2023-06-15', '2023-06-24', '2023-06-30')\n",
      "('2023-04-08', '2023-04-17', None)\n",
      "('2023-02-04', '2023-02-08', None)\n",
      "('2023-03-23', None, None)\n",
      "('2023-06-09', None, None)\n",
      "('2023-03-12', '2023-03-20', '2023-03-25')\n",
      "('2023-01-25', None, None)\n",
      "('2023-03-27', None, None)\n",
      "('2023-05-09', None, None)\n",
      "('2023-02-12', None, None)\n",
      "('2023-04-20', '2023-04-30', None)\n",
      "('2023-06-04', '2023-06-11', '2023-06-20')\n",
      "('2023-07-17', None, None)\n",
      "('2023-09-08', '2023-09-11', '2023-09-18')\n",
      "('2023-08-16', '2023-08-25', None)\n",
      "('2023-08-09', None, None)\n",
      "('2023-05-03', None, None)\n",
      "('2023-01-18', '2023-01-19', None)\n",
      "('2023-10-24', None, None)\n"
     ]
    }
   ],
   "source": [
    "exe(c, 'SELECT order_date, expedition_date, reception_date FROM orders LIMIT 20')"
   ]
  },
  {
   "cell_type": "markdown",
   "id": "e04b7124-ee4d-471a-b990-0adaf8cd9e8d",
   "metadata": {},
   "source": [
    "It seems that all the dates have the same format : string 'YYYY-MM-DD' which is a current format.\n",
    "\n",
    "The `JULIANDAY()` function provides us with a way to perform subtraction operations to find the number of days between two dates:"
   ]
  },
  {
   "cell_type": "code",
   "execution_count": 16,
   "id": "9680b46b-9aca-477a-a624-0c2361f349fc",
   "metadata": {},
   "outputs": [
    {
     "name": "stdout",
     "output_type": "stream",
     "text": [
      "(2, 6)\n",
      "(7, 5)\n",
      "(13, 9)\n",
      "(15, 7)\n",
      "(21, 7)\n",
      "(24, 2)\n",
      "(26, 8)\n",
      "(31, 10)\n",
      "(32, 2)\n",
      "(33, 4)\n"
     ]
    }
   ],
   "source": [
    "delivery_days = '''\n",
    "SELECT\n",
    "    id, CAST((JULIANDAY(reception_date) - JULIANDAY(expedition_date)) AS INTEGER) AS delivery_days\n",
    "FROM\n",
    "    orders\n",
    "WHERE\n",
    "    reception_date IS NOT NULL;\n",
    "'''\n",
    "\n",
    "exe(c, delivery_days[:-2] + ' LIMIT 10')"
   ]
  },
  {
   "cell_type": "markdown",
   "id": "e603dc0d-7805-43ff-8d46-e522e2c6fe98",
   "metadata": {},
   "source": [
    "Let’s add a column to the `orders` table. The best choice is to set `DEFAULT` to `NULL`, because another value, like 0, could lead to false results if used to compute some statistics like mean, etc. `NULL` values will just be ignored  :"
   ]
  },
  {
   "cell_type": "code",
   "execution_count": 35,
   "id": "ad7f428e-7067-4e2c-a625-91eb11f199a9",
   "metadata": {},
   "outputs": [],
   "source": [
    "add_days = '''\n",
    "ALTER TABLE \n",
    "    orders \n",
    "ADD COLUMN \n",
    "    delivery_time INTEGER DEFAULT NULL;\n",
    "'''\n",
    "\n",
    "c.execute(add_days)\n",
    "conn.commit()"
   ]
  },
  {
   "cell_type": "code",
   "execution_count": 36,
   "id": "2fba98ef-81e0-4340-aa59-cd26c8e8c6c7",
   "metadata": {},
   "outputs": [
    {
     "name": "stdout",
     "output_type": "stream",
     "text": [
      "(0, 'id', 'INTEGER', 0, None, 0)\n",
      "(1, 'customer_id', 'INTEGER', 0, None, 0)\n",
      "(2, 'order_date', 'TEXT', 0, None, 0)\n",
      "(3, 'order_status', 'TEXT', 0, None, 0)\n",
      "(4, 'expedition_date', 'TEXT', 0, None, 0)\n",
      "(5, 'reception_date', 'TEXT', 0, None, 0)\n",
      "(6, 'shipping_company', 'INTEGER', 0, None, 0)\n",
      "(7, 'shipping_cost', 'TEXT', 0, None, 0)\n",
      "(8, 'delivery_time', 'INTEGER', 0, 'NULL', 0)\n"
     ]
    }
   ],
   "source": [
    "exe(c, 'PRAGMA table_info(orders)')"
   ]
  },
  {
   "cell_type": "markdown",
   "id": "13d1e0de-6204-4420-86e3-d0d290a8ea05",
   "metadata": {},
   "source": [
    "If you make a mistake, drop the column and recreate one (**do not execute this cell if everything is ok !**) :"
   ]
  },
  {
   "cell_type": "code",
   "execution_count": 33,
   "id": "d84e34c5-111b-4fa3-b883-66073c995bcf",
   "metadata": {},
   "outputs": [],
   "source": [
    "drop_days = '''\n",
    "ALTER TABLE \n",
    "    orders \n",
    "DROP COLUMN \n",
    "    delivery_time;\n",
    "'''\n",
    "\n",
    "c.execute(drop_days)\n",
    "conn.commit()"
   ]
  },
  {
   "cell_type": "markdown",
   "id": "a06db637-02d3-46a5-a356-60c4d82775ef",
   "metadata": {},
   "source": [
    "Now it’s time to insert delivery days in the column newly created. \n",
    "\n",
    "Let’s start by creating the datas from the query `delivery_days` we’ve written just before :"
   ]
  },
  {
   "cell_type": "code",
   "execution_count": 37,
   "id": "028c21bf-7f88-4f74-8c89-c0c27d60ff4f",
   "metadata": {},
   "outputs": [],
   "source": [
    "c.execute(delivery_days)\n",
    "delivery_data = c.fetchall()"
   ]
  },
  {
   "cell_type": "markdown",
   "id": "3247acb7-54e4-4d7d-b16c-b1dc44693324",
   "metadata": {},
   "source": [
    "Insert the data in the `delivery_time` column. \n",
    "We will iterate through the data list. Each element is a tuple whose first element is the `id` of the order, and the second the delivery time in days. Before concatenate this value to the query we’re building, we need to cast them to string type."
   ]
  },
  {
   "cell_type": "code",
   "execution_count": 38,
   "id": "e053b2d7-ed18-486f-b9f0-7c52d65b63d6",
   "metadata": {},
   "outputs": [
    {
     "name": "stdout",
     "output_type": "stream",
     "text": [
      "(1, None)\n",
      "(2, 6)\n",
      "(3, None)\n",
      "(4, None)\n",
      "(5, None)\n",
      "(6, None)\n",
      "(7, 5)\n",
      "(8, None)\n",
      "(9, None)\n",
      "(10, None)\n"
     ]
    }
   ],
   "source": [
    "update_delivery_time = '''\n",
    "UPDATE orders\n",
    "SET\n",
    "  delivery_time = '''\n",
    "\n",
    "for i in delivery_data:\n",
    "    query = update_delivery_time + str(i[1]) + ' WHERE id = ' + str(i[0]) + ' ;'\n",
    "    c.execute(query)\n",
    "\n",
    "# let’s verify :\n",
    "exe(c, 'SELECT id, delivery_time FROM orders LIMIT 10;')"
   ]
  },
  {
   "cell_type": "markdown",
   "id": "ac24adeb-270c-402f-b919-64fd63ad6c77",
   "metadata": {},
   "source": [
    "Everything seems OK ! We can `.commit()` :"
   ]
  },
  {
   "cell_type": "code",
   "execution_count": null,
   "id": "632be8b5-ecdb-4d14-8bfe-8071b3d8c672",
   "metadata": {},
   "outputs": [],
   "source": [
    "conn.commit()"
   ]
  },
  {
   "cell_type": "markdown",
   "id": "4b390de1-de0a-4c5a-9323-60d3688d06e5",
   "metadata": {},
   "source": [
    "#### What are the slowest shippers ? the fastests ? average for each shipper ?"
   ]
  },
  {
   "cell_type": "markdown",
   "id": "fc84deaf-17f6-4a42-9442-52e0f2f04fe5",
   "metadata": {},
   "source": [
    "The two first questions are easy to answer : we just have to `GROUP` average delivery_time `BY` shippers. If we want shippers names, a `JOIN` will do the job :"
   ]
  },
  {
   "cell_type": "code",
   "execution_count": 40,
   "id": "6fae9662-d857-482f-9152-07e2396de47a",
   "metadata": {},
   "outputs": [
    {
     "name": "stdout",
     "output_type": "stream",
     "text": [
      "(1, 4.363636363636363)\n",
      "(3, 5.666666666666667)\n",
      "(4, 6.0)\n",
      "(5, 6.1)\n",
      "(2, 6.5)\n"
     ]
    }
   ],
   "source": [
    "mean_delivery = '''\n",
    "SELECT \n",
    "    shipping_company, \n",
    "    AVG(delivery_time) AS mean_delivery\n",
    "FROM\n",
    "    orders\n",
    "GROUP BY\n",
    "    shipping_company\n",
    "ORDER BY\n",
    "    mean_delivery ;\n",
    "'''\n",
    "\n",
    "exe(c, mean_delivery)"
   ]
  },
  {
   "cell_type": "markdown",
   "id": "0ddc5dbb-0ff8-4fbb-8ead-2ed805757d6f",
   "metadata": {},
   "source": [
    "Let’s join with the `shippers` table to get companies’ names :"
   ]
  },
  {
   "cell_type": "code",
   "execution_count": 41,
   "id": "dd90ecf3-cc59-4896-925b-e158cca60ef9",
   "metadata": {},
   "outputs": [
    {
     "name": "stdout",
     "output_type": "stream",
     "text": [
      "('HCL', 4.363636363636363)\n",
      "('DeFix', 5.666666666666667)\n",
      "('Colipost', 6.0)\n",
      "('Chronossimo', 6.1)\n",
      "('USD', 6.5)\n"
     ]
    }
   ],
   "source": [
    "mean_delivery = '''\n",
    "SELECT \n",
    "    s.company_name, \n",
    "    AVG(o.delivery_time) AS mean_delivery\n",
    "FROM\n",
    "    orders as o\n",
    "JOIN \n",
    "    shippers AS s \n",
    "        ON o.shipping_company = s.id\n",
    "GROUP BY\n",
    "    o.shipping_company\n",
    "ORDER BY\n",
    "    mean_delivery ;\n",
    "'''\n",
    "\n",
    "exe(c, mean_delivery)"
   ]
  },
  {
   "cell_type": "markdown",
   "id": "a8782189-4038-411b-ad9f-24b6e981b0ec",
   "metadata": {},
   "source": [
    "The companies with fastest delivery times are DeFix and HCL, and those with longer delivery are Chronossimo and USD, by a factor near of +30%."
   ]
  },
  {
   "cell_type": "markdown",
   "id": "55c704d2-6bb9-4752-aecc-23d7fa89589e",
   "metadata": {},
   "source": [
    "#### Add a column to the shippers table : speed of delivery (speed = time / distance btw…)\n",
    "\n",
    "To answer this question, we will apply again the same steps :\n",
    "\n",
    "1. create the data\n",
    "2. create a new column\n",
    "3. insert data in the newly created column\n",
    "\n",
    "To compute speed, we need the distance in the customer column : we’ll have to join the tables."
   ]
  },
  {
   "cell_type": "code",
   "execution_count": 45,
   "id": "2b890c98-5be2-4f7c-8032-d2b3234871c2",
   "metadata": {},
   "outputs": [
    {
     "name": "stdout",
     "output_type": "stream",
     "text": [
      "(2, 840, 6)\n",
      "(7, 706, 5)\n",
      "(13, 829, 9)\n",
      "(15, 826, 7)\n",
      "(21, 681, 7)\n",
      "(24, 706, 2)\n",
      "(26, 649, 8)\n",
      "(31, 603, 10)\n",
      "(32, 826, 2)\n",
      "(33, 906, 4)\n"
     ]
    }
   ],
   "source": [
    "speed_data = '''\n",
    "SELECT\n",
    "    o.id,\n",
    "    c.distance,\n",
    "    o.delivery_time\n",
    "FROM\n",
    "    orders AS o\n",
    "JOIN \n",
    "    customers AS c\n",
    "    ON\n",
    "        o.customer_id = c.id\n",
    "WHERE \n",
    "    o.delivery_time IS NOT NULL ;\n",
    "'''\n",
    "\n",
    "exe(c, speed_data[:-2] + ' LIMIT 10 ;')"
   ]
  },
  {
   "cell_type": "markdown",
   "id": "38601228-097e-438e-a03d-5a516e5f45e1",
   "metadata": {},
   "source": [
    "That’s seems good. Now we can rewrite the query to generate data : we just need the order id, shipper id and the speed. Then we’ll `GROUP` the speed (`AVG()`) `BY` `shipper_id` and add the average speed to the `shippers` table. Before all, let’s see if we manage to generate the speed column. As the time and distances measure are `INTEGER` we may need to multiply by `1.0` to get a float division (distance / time) :"
   ]
  },
  {
   "cell_type": "code",
   "execution_count": 51,
   "id": "b1952cde-b82d-4c1c-bfda-6725bccecce3",
   "metadata": {},
   "outputs": [
    {
     "name": "stdout",
     "output_type": "stream",
     "text": [
      "(2, 1, 840, 6, 140.0)\n",
      "(7, 1, 706, 5, 141.2)\n",
      "(13, 5, 829, 9, 92.11111111111111)\n",
      "(15, 5, 826, 7, 118.0)\n",
      "(21, 2, 681, 7, 97.28571428571429)\n",
      "(24, 1, 706, 2, 353.0)\n",
      "(26, 5, 649, 8, 81.125)\n",
      "(31, 5, 603, 10, 60.3)\n",
      "(32, 5, 826, 2, 413.0)\n",
      "(33, 1, 906, 4, 226.5)\n"
     ]
    }
   ],
   "source": [
    "speed_data = '''\n",
    "SELECT\n",
    "    o.id,\n",
    "    o.shipping_company,\n",
    "    c.distance,\n",
    "    o.delivery_time,\n",
    "    (c.distance * 1.0 / o.delivery_time) AS speed\n",
    "FROM\n",
    "    orders AS o\n",
    "JOIN \n",
    "    customers AS c\n",
    "    ON\n",
    "        o.customer_id = c.id\n",
    "WHERE \n",
    "    o.delivery_time IS NOT NULL ;\n",
    "'''\n",
    "\n",
    "exe(c, speed_data[:-2] + ' LIMIT 10 ;')"
   ]
  },
  {
   "cell_type": "markdown",
   "id": "4b5d42c6-fe73-4db9-a96f-6e034158f9fc",
   "metadata": {},
   "source": [
    "Finally, we just have to `GROUP BY` to get `AVG()` by company. As we will add speed to the `shippers` table, we don’t need company names, just the companies' id :"
   ]
  },
  {
   "cell_type": "code",
   "execution_count": 55,
   "id": "a327cbb9-962c-440b-95eb-537523dd3e3e",
   "metadata": {},
   "outputs": [
    {
     "name": "stdout",
     "output_type": "stream",
     "text": [
      "(1, 140.0)\n",
      "(2, 97.29)\n",
      "(3, 162.25)\n",
      "(4, 187.0)\n",
      "(5, 92.11)\n"
     ]
    }
   ],
   "source": [
    "speed_data = '''\n",
    "SELECT\n",
    "    o.shipping_company,\n",
    "    ROUND((c.distance * 1.0 / o.delivery_time),2) AS speed\n",
    "FROM\n",
    "    orders AS o\n",
    "JOIN \n",
    "    customers AS c\n",
    "    ON\n",
    "        o.customer_id = c.id\n",
    "WHERE \n",
    "    o.delivery_time IS NOT NULL \n",
    "GROUP BY\n",
    "    o.shipping_company ;\n",
    "'''\n",
    "\n",
    "exe(c, speed_data)"
   ]
  },
  {
   "cell_type": "code",
   "execution_count": 56,
   "id": "d5e3eebc-dc37-4303-baf4-568cc1060d1a",
   "metadata": {},
   "outputs": [
    {
     "data": {
      "text/plain": [
       "[(1, 140.0), (2, 97.29), (3, 162.25), (4, 187.0), (5, 92.11)]"
      ]
     },
     "execution_count": 56,
     "metadata": {},
     "output_type": "execute_result"
    }
   ],
   "source": [
    "c.execute(speed_data)\n",
    "avg_speed_data = c.fetchall()\n",
    "avg_speed_data"
   ]
  },
  {
   "cell_type": "markdown",
   "id": "4bd74555-e20c-4b0a-96c7-fe9b7de12cdc",
   "metadata": {},
   "source": [
    "Now we create a new column in the `shippers` table (don’t forget to `.commit()`) :"
   ]
  },
  {
   "cell_type": "code",
   "execution_count": 57,
   "id": "3fc033e6-82f9-4e90-9078-21300a346fed",
   "metadata": {},
   "outputs": [],
   "source": [
    "add_speed = '''\n",
    "ALTER TABLE \n",
    "    shippers \n",
    "ADD COLUMN \n",
    "    delivery_speed REAL DEFAULT NULL;\n",
    "'''\n",
    "\n",
    "c.execute(add_speed)\n",
    "conn.commit()"
   ]
  },
  {
   "cell_type": "code",
   "execution_count": 59,
   "id": "6e72f590-7415-42ec-b6ab-779a916c5bc7",
   "metadata": {},
   "outputs": [
    {
     "name": "stdout",
     "output_type": "stream",
     "text": [
      "(0, 'id', 'INTEGER', 0, None, 0)\n",
      "(1, 'company_name', 'TEXT', 0, None, 0)\n",
      "(2, 'delivery_speed', 'REAL', 0, 'NULL', 0)\n"
     ]
    }
   ],
   "source": [
    "exe(c, 'PRAGMA table_info(shippers)')"
   ]
  },
  {
   "cell_type": "code",
   "execution_count": null,
   "id": "e1d264cf-feea-4080-8e71-b4750f96b155",
   "metadata": {},
   "outputs": [],
   "source": [
    "Finally add data to the column :"
   ]
  },
  {
   "cell_type": "code",
   "execution_count": 61,
   "id": "81ba2524-e1e6-4235-a27b-38b07e488bfe",
   "metadata": {},
   "outputs": [
    {
     "name": "stdout",
     "output_type": "stream",
     "text": [
      "(1, 'HCL', 140.0)\n",
      "(2, 'USD', 97.29)\n",
      "(3, 'DeFix', 162.25)\n",
      "(4, 'Colipost', 187.0)\n",
      "(5, 'Chronossimo', 92.11)\n"
     ]
    }
   ],
   "source": [
    "update_delivery_speed = '''\n",
    "UPDATE shippers\n",
    "SET\n",
    "  delivery_speed = '''\n",
    "\n",
    "for i in avg_speed_data:\n",
    "    query = update_delivery_speed + str(i[1]) + ' WHERE id = ' + str(i[0]) + ' ;'\n",
    "    c.execute(query)\n",
    "\n",
    "# let’s verify :\n",
    "exe(c, 'SELECT * FROM shippers;')"
   ]
  },
  {
   "cell_type": "markdown",
   "id": "5ccaf832-d5d7-4cae-b9fd-9bc1dc9a4c20",
   "metadata": {},
   "source": [
    "Everything is ok, we can `.commit()` :"
   ]
  },
  {
   "cell_type": "code",
   "execution_count": 62,
   "id": "cd9994e6-30d5-42b3-8662-5a7fea9c4cd4",
   "metadata": {},
   "outputs": [],
   "source": [
    "conn.commit()"
   ]
  },
  {
   "cell_type": "markdown",
   "id": "92af5c57-cf52-462a-b8a6-318179788c53",
   "metadata": {},
   "source": [
    "#### Add another column to the shippers table : price / kg of shipping (total cost = weight x price)\n",
    "\n",
    "We already have calculated the weight of each order with the query `orders_weight`. Then we can calculate the shipping price for each order. Grouping by shippers and averaging we can get our price data. It will be simple after that to add a price column to the `shippers` table.\n",
    "\n",
    "First, let’s have a look to the weight for each order (refresher) :\n"
   ]
  },
  {
   "cell_type": "code",
   "execution_count": 64,
   "id": "bcc42330-0ac4-4f2c-b54a-a956defbf304",
   "metadata": {},
   "outputs": [
    {
     "name": "stdout",
     "output_type": "stream",
     "text": [
      "(1, 0.6)\n",
      "(2, 44.0)\n",
      "(3, 0.2)\n",
      "(4, 1.1)\n",
      "(5, 1.2)\n",
      "(6, 29.8)\n",
      "(7, 15.8)\n",
      "(8, 5.6)\n",
      "(9, 4.8)\n",
      "(11, 2.8)\n"
     ]
    }
   ],
   "source": [
    "exe(c, orders_weight[:-2] + ' LIMIT 10 ;')"
   ]
  },
  {
   "cell_type": "markdown",
   "id": "3d42caef-6b46-4229-ba0c-bfd8e367b140",
   "metadata": {},
   "source": [
    "This query returns us the order id and order weight. Let’s use it as starting point to write a subquery that gives the us the order `id`, the `shipping_company`, `total_weight`and `shipping_cost`. Just write a test query to see if we can get all those columns :"
   ]
  },
  {
   "cell_type": "code",
   "execution_count": 76,
   "id": "70e39ce7-a356-43bc-a618-ba5a27874836",
   "metadata": {},
   "outputs": [
    {
     "name": "stdout",
     "output_type": "stream",
     "text": [
      "(1, 2, '2,22', 0.6)\n",
      "(2, 1, '33,88', 44.0)\n",
      "(3, 2, '0,74', 0.2)\n",
      "(4, 4, '2,959', 1.1)\n",
      "(5, 3, '0,972', 1.2)\n",
      "(6, 2, '110,26', 29.8)\n",
      "(7, 1, '12,166', 15.8)\n",
      "(8, 4, '28,783', 5.6)\n",
      "(9, 3, '3,888', 4.8)\n",
      "(11, 5, '8,316', 2.8)\n"
     ]
    }
   ],
   "source": [
    "orders_weight = '''\n",
    "SELECT \n",
    "    o.id, \n",
    "    o.shipping_company,\n",
    "    o.shipping_cost,\n",
    "    ROUND(SUM(CAST(REPLACE(i.weight, \",\", \".\") AS REAL)), 2) \n",
    "        AS total_weight\n",
    "FROM\n",
    "    items as i\n",
    "JOIN \n",
    "    orders_items as oi ON i.id = oi.item_id\n",
    "JOIN\n",
    "    orders as o ON oi.order_id = o.id\n",
    "GROUP BY\n",
    "    oi.order_id\n",
    "LIMIT 10\n",
    "'''\n",
    "\n",
    "exe(c, orders_weight)"
   ]
  },
  {
   "cell_type": "markdown",
   "id": "0db3b964-8933-4105-9834-05312a73e925",
   "metadata": {},
   "source": [
    "Ok, that’s fine. Now, given this subquery, we just have to calculate the prices for each order then average those prices, grouping them by `shipping_company`. Thus we obtain our prices data :"
   ]
  },
  {
   "cell_type": "code",
   "execution_count": 74,
   "id": "025b4ef2-85e9-425a-9304-bedc13c6d80c",
   "metadata": {},
   "outputs": [
    {
     "name": "stdout",
     "output_type": "stream",
     "text": [
      "(1, 0.82)\n",
      "(2, 3.7)\n",
      "(3, 0.81)\n",
      "(4, 2.87)\n",
      "(5, 2.97)\n"
     ]
    }
   ],
   "source": [
    "shipping_prices = '''\n",
    "\n",
    "SELECT\n",
    "    shipping_company,\n",
    "    ROUND(AVG(CAST(REPLACE(shipping_cost, \",\", \".\") AS REAL) / total_weight),2) AS price\n",
    "FROM \n",
    "    (SELECT \n",
    "        o.id, \n",
    "        o.shipping_company,\n",
    "        o.shipping_cost,\n",
    "        ROUND(SUM(CAST(REPLACE(i.weight, \",\", \".\") AS REAL)), 2) \n",
    "            AS total_weight\n",
    "    FROM\n",
    "        items as i\n",
    "    JOIN \n",
    "        orders_items as oi ON i.id = oi.item_id\n",
    "    JOIN\n",
    "        orders as o ON oi.order_id = o.id\n",
    "    GROUP BY\n",
    "        oi.order_id)\n",
    "GROUP BY\n",
    "    shipping_company ;\n",
    "'''\n",
    "\n",
    "exe(c, shipping_prices)"
   ]
  },
  {
   "cell_type": "code",
   "execution_count": 75,
   "id": "8ad83838-0a69-48ce-951a-a92eb93c2634",
   "metadata": {},
   "outputs": [
    {
     "data": {
      "text/plain": [
       "[(1, 0.82), (2, 3.7), (3, 0.81), (4, 2.87), (5, 2.97)]"
      ]
     },
     "execution_count": 75,
     "metadata": {},
     "output_type": "execute_result"
    }
   ],
   "source": [
    "c.execute(shipping_prices)\n",
    "prices_data = c.fetchall()\n",
    "prices_data"
   ]
  },
  {
   "cell_type": "markdown",
   "id": "fb8e007e-2af0-4996-8cd9-a261356246c1",
   "metadata": {},
   "source": [
    "Finally, create a new column, insert data, verify and commit :"
   ]
  },
  {
   "cell_type": "code",
   "execution_count": 77,
   "id": "2475fc3d-b85b-4397-9293-c9adddddfea9",
   "metadata": {},
   "outputs": [],
   "source": [
    "add_prices = '''\n",
    "ALTER TABLE \n",
    "    shippers \n",
    "ADD COLUMN \n",
    "    delivery_price REAL DEFAULT NULL;\n",
    "'''\n",
    "\n",
    "c.execute(add_prices)\n",
    "conn.commit()"
   ]
  },
  {
   "cell_type": "code",
   "execution_count": 78,
   "id": "723bc2f5-6e18-48aa-b27b-b3c863c46fee",
   "metadata": {},
   "outputs": [
    {
     "name": "stdout",
     "output_type": "stream",
     "text": [
      "(0, 'id', 'INTEGER', 0, None, 0)\n",
      "(1, 'company_name', 'TEXT', 0, None, 0)\n",
      "(2, 'delivery_speed', 'REAL', 0, 'NULL', 0)\n",
      "(3, 'delivery_price', 'REAL', 0, 'NULL', 0)\n"
     ]
    }
   ],
   "source": [
    "exe(c, 'PRAGMA table_info(shippers)')"
   ]
  },
  {
   "cell_type": "code",
   "execution_count": 79,
   "id": "c4f271c9-13d6-4882-bd0e-c81560f02f1f",
   "metadata": {},
   "outputs": [
    {
     "name": "stdout",
     "output_type": "stream",
     "text": [
      "(1, 'HCL', 140.0, 0.82)\n",
      "(2, 'USD', 97.29, 3.7)\n",
      "(3, 'DeFix', 162.25, 0.81)\n",
      "(4, 'Colipost', 187.0, 2.87)\n",
      "(5, 'Chronossimo', 92.11, 2.97)\n"
     ]
    }
   ],
   "source": [
    "update_delivery_prices = '''\n",
    "UPDATE shippers\n",
    "SET\n",
    "  delivery_price = '''\n",
    "\n",
    "for i in prices_data:\n",
    "    query = update_delivery_prices + str(i[1]) + ' WHERE id = ' + str(i[0]) + ' ;'\n",
    "    c.execute(query)\n",
    "\n",
    "# let’s verify :\n",
    "exe(c, 'SELECT * FROM shippers;')"
   ]
  },
  {
   "cell_type": "code",
   "execution_count": 80,
   "id": "48aee83a-2a0e-4aba-850e-f7bcef43de83",
   "metadata": {},
   "outputs": [],
   "source": [
    "conn.commit()"
   ]
  },
  {
   "cell_type": "markdown",
   "id": "15e49a57-fc60-447f-ab76-7404de689e4a",
   "metadata": {},
   "source": [
    "#### What is the best shipping company ? The fastest ? The cheapest ? Best compromise ?"
   ]
  },
  {
   "cell_type": "markdown",
   "id": "ab81b2e0-f54a-4e32-a32d-5e944564a4c4",
   "metadata": {},
   "source": [
    "The fastest company is Colipost with a speed of 187 km/day. The cheapest company is DeFix with a price of 0.81€/kg. Defix is also the second fastest company (162.25 km/day), so this is the best compromise and the best shipping company."
   ]
  }
 ],
 "metadata": {
  "kernelspec": {
   "display_name": "Python 3 (ipykernel)",
   "language": "python",
   "name": "python3"
  },
  "language_info": {
   "codemirror_mode": {
    "name": "ipython",
    "version": 3
   },
   "file_extension": ".py",
   "mimetype": "text/x-python",
   "name": "python",
   "nbconvert_exporter": "python",
   "pygments_lexer": "ipython3",
   "version": "3.11.2"
  }
 },
 "nbformat": 4,
 "nbformat_minor": 5
}
