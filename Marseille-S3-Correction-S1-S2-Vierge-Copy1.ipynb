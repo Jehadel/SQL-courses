{
 "cells": [
  {
   "cell_type": "markdown",
   "id": "1e2273ec-2f8a-4b2b-8021-517e1f1acc87",
   "metadata": {},
   "source": [
    "# Correction exercices cours S1 - S2 (notebook vierge)"
   ]
  },
  {
   "cell_type": "code",
   "execution_count": 14,
   "id": "f3c87a6b-811d-4391-adb2-de68d789f359",
   "metadata": {},
   "outputs": [],
   "source": [
    "import sqlite3\n",
    "\n",
    "import os\n",
    "\n",
    "conn_db = sqlite3.connect(os.path.join(\"data\",\"european-soccer.sqlite\"))\n",
    "cur = conn_db.cursor()"
   ]
  },
  {
   "cell_type": "code",
   "execution_count": 15,
   "id": "bb2abe2e-654b-4a51-ad6d-c38d2702b19d",
   "metadata": {},
   "outputs": [
    {
     "data": {
      "text/plain": [
       "[('main', 'sqlite_schema', 'table', 5, 0, 0),\n",
       " ('main', 'sqlite_sequence', 'table', 2, 0, 0),\n",
       " ('main', 'Player', 'table', 7, 0, 0),\n",
       " ('main', 'Match', 'table', 115, 0, 0),\n",
       " ('main', 'Player_Attributes', 'table', 42, 0, 0),\n",
       " ('main', 'League', 'table', 3, 0, 0),\n",
       " ('main', 'Country', 'table', 2, 0, 0),\n",
       " ('main', 'Team', 'table', 5, 0, 0),\n",
       " ('main', 'League_null', 'table', 3, 0, 0),\n",
       " ('main', 'Team_Attributes', 'table', 25, 0, 0),\n",
       " ('temp', 'sqlite_temp_schema', 'table', 5, 0, 0)]"
      ]
     },
     "execution_count": 15,
     "metadata": {},
     "output_type": "execute_result"
    }
   ],
   "source": [
    "query = '''\n",
    "PRAGMA table_list\n",
    "'''\n",
    "\n",
    "cur.execute(query)\n",
    "rows = cur.fetchall()\n",
    "rows"
   ]
  },
  {
   "cell_type": "markdown",
   "id": "8986818a-7c09-485b-af8f-39585e9b42de",
   "metadata": {},
   "source": [
    "## 1. How many matches where played in Belgium ?"
   ]
  },
  {
   "cell_type": "code",
   "execution_count": 22,
   "id": "99e08989-2ae6-4956-ba2b-d6ccd7619318",
   "metadata": {},
   "outputs": [
    {
     "data": {
      "text/plain": [
       "[(1, 'Belgium')]"
      ]
     },
     "execution_count": 22,
     "metadata": {},
     "output_type": "execute_result"
    }
   ],
   "source": [
    "query_country_belgium = '''\n",
    "SELECT *\n",
    "FROM Country\n",
    "WHERE name = \"Belgium\"\n",
    "'''\n",
    "\n",
    "cur.execute(query_country_belgium)\n",
    "rows = cur.fetchall()\n",
    "rows"
   ]
  },
  {
   "cell_type": "code",
   "execution_count": 23,
   "id": "a362721c-3548-43ed-9f5f-c30e5ef6eb6e",
   "metadata": {},
   "outputs": [
    {
     "data": {
      "text/plain": [
       "[(1728,)]"
      ]
     },
     "execution_count": 23,
     "metadata": {},
     "output_type": "execute_result"
    }
   ],
   "source": [
    "query_main = '''\n",
    "SELECT count(*)\n",
    "FROM Match\n",
    "WHERE country_id=1;\n",
    "'''\n",
    "\n",
    "cur.execute(query_main)\n",
    "nb_belgium_match = cur.fetchall()\n",
    "nb_belgium_match"
   ]
  },
  {
   "cell_type": "code",
   "execution_count": 31,
   "id": "7db61991-5421-4d95-b174-1eb5ea386888",
   "metadata": {},
   "outputs": [
    {
     "data": {
      "text/plain": [
       "[(1728,)]"
      ]
     },
     "execution_count": 31,
     "metadata": {},
     "output_type": "execute_result"
    }
   ],
   "source": [
    "matches_belgium = '''\n",
    "SELECT COUNT(*)\n",
    "FROM match\n",
    "JOIN Country ON Match.Country_id = Country.id\n",
    "WHERE Country.name = \"Belgium\";\n",
    "'''\n",
    "cur.execute(matches_belgium)\n",
    "result = cur.fetchall()\n",
    "result"
   ]
  },
  {
   "cell_type": "markdown",
   "id": "e772a13e-aead-4687-b53d-edb5b6859dc4",
   "metadata": {},
   "source": [
    "## 2. How many matches where played in Belgium or France ?"
   ]
  },
  {
   "cell_type": "code",
   "execution_count": 25,
   "id": "c48b05f1-78b2-41f8-a994-9313a72bd3d5",
   "metadata": {},
   "outputs": [
    {
     "data": {
      "text/plain": [
       "[(4769, 'France')]"
      ]
     },
     "execution_count": 25,
     "metadata": {},
     "output_type": "execute_result"
    }
   ],
   "source": [
    "query_country_france = '''\n",
    "SELECT *\n",
    "FROM Country\n",
    "WHERE name = \"France\"\n",
    "'''\n",
    "\n",
    "cur.execute(query_country_france)\n",
    "rows = cur.fetchall()\n",
    "rows"
   ]
  },
  {
   "cell_type": "code",
   "execution_count": 29,
   "id": "521b5284-2990-484e-afaa-0c21b819b169",
   "metadata": {},
   "outputs": [
    {
     "data": {
      "text/plain": [
       "[(4768,)]"
      ]
     },
     "execution_count": 29,
     "metadata": {},
     "output_type": "execute_result"
    }
   ],
   "source": [
    "query_main = '''\n",
    "SELECT count(*)\n",
    "FROM Match\n",
    "WHERE (country_id = 1 OR country_id = 4769) ;\n",
    "'''\n",
    "\n",
    "cur.execute(query_main)\n",
    "nb_bel_fr_match = cur.fetchall()\n",
    "nb_bel_fr_match"
   ]
  },
  {
   "cell_type": "code",
   "execution_count": null,
   "id": "a48f1b2a-bd71-474c-9d12-e4328169fb43",
   "metadata": {},
   "outputs": [],
   "source": [
    "matches_belgium_france = '''\n",
    "SELECT COUNT(*)\n",
    "FROM match\n",
    "JOIN Country ON Match.Country_id = Country.id\n",
    "WHERE (Country.name = \"Belgium\" OR Country.name = \"France\");\n",
    "'''\n",
    "cur.execute(matches_belgium_france)\n",
    "result = cur.fetchall()\n",
    "result"
   ]
  },
  {
   "cell_type": "markdown",
   "id": "3bc33266-2f80-47c6-acac-dc29846c3184",
   "metadata": {},
   "source": [
    "## 3. What is the average weight of the 20 tallest player, and same for the 20 shortest ?"
   ]
  },
  {
   "cell_type": "code",
   "execution_count": 43,
   "id": "d8bf613a-ce6c-4bfa-96e6-3cda8e4b87c5",
   "metadata": {},
   "outputs": [
    {
     "name": "stdout",
     "output_type": "stream",
     "text": [
      "200.9\n"
     ]
    }
   ],
   "source": [
    "player='''\n",
    "SELECT weight\n",
    "FROM player\n",
    "ORDER BY height desc\n",
    "LIMIT 20\n",
    "'''\n",
    "\n",
    "cur.execute(player)\n",
    "result = cur.fetchall()\n",
    "result\n",
    "mean = 0\n",
    "for i in result:\n",
    "    mean = i[0]+mean\n",
    "mean = mean/len(result)\n",
    "\n",
    "print(mean)"
   ]
  },
  {
   "cell_type": "markdown",
   "id": "b5b9740f-2f96-4f0f-a4be-3dc6c3ba19be",
   "metadata": {},
   "source": [
    "## 4. What are the birthdates of players named Adil ?"
   ]
  },
  {
   "cell_type": "code",
   "execution_count": 49,
   "id": "aee075e2-ba76-453d-bc4b-936745baac63",
   "metadata": {},
   "outputs": [
    {
     "data": {
      "text/plain": [
       "[('Adil Auassar', '1986-10-06'),\n",
       " ('Adil Chihi', '1988-02-21'),\n",
       " ('Adil Hermach', '1986-06-27'),\n",
       " ('Adil Rami', '1985-12-27'),\n",
       " ('Adil Ramzi', '1977-07-14')]"
      ]
     },
     "execution_count": 49,
     "metadata": {},
     "output_type": "execute_result"
    }
   ],
   "source": [
    "query = ''' SELECT player_name as name, \n",
    "SUBSTR(birthday, 1, INSTR(birthday, ' ') - 1)   FROM player \n",
    "WHERE name LIKE 'Adil %'\n",
    "'''\n",
    "cur.execute(query)\n",
    "nb_adil = cur.fetchall()\n",
    "nb_adil"
   ]
  },
  {
   "cell_type": "markdown",
   "id": "2ad0d7c5-d68f-4760-82e9-89702f63c7b8",
   "metadata": {},
   "source": [
    "## 5. What is the average weight of players named Sylvain ?"
   ]
  },
  {
   "cell_type": "code",
   "execution_count": null,
   "id": "dfa600aa-e5fb-4552-922a-4bcd9dc081c2",
   "metadata": {},
   "outputs": [],
   "source": []
  },
  {
   "cell_type": "markdown",
   "id": "f8788d4a-560f-4038-8c45-ff98c15dab5c",
   "metadata": {},
   "source": [
    "## 6. How many players have their names derived from Thomas (Tomas, Tomi, etc.) ?"
   ]
  },
  {
   "cell_type": "code",
   "execution_count": null,
   "id": "5dfd749c-3eaa-4e08-967f-4a891eb1f19e",
   "metadata": {},
   "outputs": [],
   "source": []
  },
  {
   "cell_type": "markdown",
   "id": "3619a951-43e8-4572-909b-ad3258748482",
   "metadata": {},
   "source": [
    "## 7. How many matches where played in each country ? In each league ?"
   ]
  },
  {
   "cell_type": "code",
   "execution_count": null,
   "id": "49032a0c-90ba-4618-8ecb-3d640aa61633",
   "metadata": {},
   "outputs": [],
   "source": []
  },
  {
   "cell_type": "markdown",
   "id": "1be1bfda-4c83-4d58-8547-029087a7ac33",
   "metadata": {},
   "source": [
    "## 8. Present the precedent results by descendant numbers of matches"
   ]
  },
  {
   "cell_type": "code",
   "execution_count": null,
   "id": "36f7bd8c-ef80-4b95-9581-081e40d4561e",
   "metadata": {},
   "outputs": [],
   "source": []
  },
  {
   "cell_type": "markdown",
   "id": "512620e8-e65d-4679-8a17-20017af784e8",
   "metadata": {},
   "source": [
    "## 9. Who are the 10 players with the best ratings ?"
   ]
  },
  {
   "cell_type": "code",
   "execution_count": null,
   "id": "720c06ef-ff21-49e4-9b25-29747416f641",
   "metadata": {},
   "outputs": [],
   "source": []
  },
  {
   "cell_type": "markdown",
   "id": "978f519b-dc64-4e18-9b86-9518a7e85b26",
   "metadata": {},
   "source": [
    "## 10. For each league, how many matches where played ? But this time, order your response by countries name."
   ]
  },
  {
   "cell_type": "code",
   "execution_count": null,
   "id": "09f5f658-3195-486c-8543-c0ba2529df93",
   "metadata": {},
   "outputs": [],
   "source": []
  },
  {
   "cell_type": "markdown",
   "id": "b41f342d-b037-44c9-9ccd-2c07aebc0a37",
   "metadata": {},
   "source": [
    "## 11. Make an inner join between the `Country` table and the `League_null` table. Note the difference : which lines disappeared ?"
   ]
  },
  {
   "cell_type": "code",
   "execution_count": null,
   "id": "469626e8-feb6-4855-a5c2-2c79a9d64212",
   "metadata": {},
   "outputs": [],
   "source": []
  },
  {
   "cell_type": "markdown",
   "id": "4eb02577-7e70-489d-9800-5d8b43f2bbe2",
   "metadata": {},
   "source": [
    "## 12. Write RIGHT JOIN clauses (inclusive and exclusive)"
   ]
  },
  {
   "cell_type": "code",
   "execution_count": null,
   "id": "1eddd27d-1622-4b2e-90fb-a845e7e3562f",
   "metadata": {},
   "outputs": [],
   "source": []
  },
  {
   "cell_type": "markdown",
   "id": "13b0d323-e58b-4a21-93ff-51538d7d2bf9",
   "metadata": {},
   "source": [
    " ## 13. Try to implement a full join "
   ]
  },
  {
   "cell_type": "code",
   "execution_count": null,
   "id": "c8746fdb-95b6-4e91-a951-6588e002aba9",
   "metadata": {},
   "outputs": [],
   "source": []
  },
  {
   "cell_type": "markdown",
   "id": "877f028b-a040-420f-b7a5-f3ead54443a9",
   "metadata": {},
   "source": [
    "## 14. Cross join\n",
    "\n",
    "1. Create a new data base called `club.sqlite`\n",
    "2. Create a table `Members` with id, name (you can quickly create data by creating a `.csv` file, importing it and converting it to a table with `pandas`.)\n",
    "3. Insert some members (3 or 4)\n",
    "4. Create a table `Reunions` with id, reunion_date (you can set default to current datetime to save time)\n",
    "5. Insert some reunions : you can save time by writing a script to fill the table with loop…\n",
    "6. Write a query that produce a matrix with every reunion for each members (`CROSS JOIN`) ordered by date"
   ]
  },
  {
   "cell_type": "code",
   "execution_count": null,
   "id": "7daced1d-d136-45a1-8ddd-9f281d0dc9a0",
   "metadata": {},
   "outputs": [],
   "source": []
  },
  {
   "cell_type": "markdown",
   "id": "6f9a45f0-783f-4f1b-b489-920e1ca3ae5d",
   "metadata": {},
   "source": [
    "## 15. Self join\n",
    "\n",
    "Create a detailed table employee with such relation manager/managed. You can imagine other situation in which SELF JOIN would be pertinent. Create a request that shows for a list of employee their manager (take care of the appearance of the results, ordered by manager, you can use string function to present a phrase like : « X manages Y »)."
   ]
  },
  {
   "cell_type": "code",
   "execution_count": null,
   "id": "f8aa69f1-f3ae-4415-82a2-481c3cdac780",
   "metadata": {},
   "outputs": [],
   "source": []
  }
 ],
 "metadata": {
  "kernelspec": {
   "display_name": "Python 3 (ipykernel)",
   "language": "python",
   "name": "python3"
  },
  "language_info": {
   "codemirror_mode": {
    "name": "ipython",
    "version": 3
   },
   "file_extension": ".py",
   "mimetype": "text/x-python",
   "name": "python",
   "nbconvert_exporter": "python",
   "pygments_lexer": "ipython3",
   "version": "3.11.2"
  }
 },
 "nbformat": 4,
 "nbformat_minor": 5
}
