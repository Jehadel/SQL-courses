{
 "cells": [
  {
   "cell_type": "markdown",
   "id": "1e2273ec-2f8a-4b2b-8021-517e1f1acc87",
   "metadata": {},
   "source": [
    "# Correction exercices cours S1 - S2"
   ]
  },
  {
   "cell_type": "code",
   "execution_count": 1,
   "id": "707b70b3-a5e8-48a5-8127-29fa09813723",
   "metadata": {},
   "outputs": [],
   "source": [
    "import pandas as pd\n",
    "import sqlite3"
   ]
  },
  {
   "cell_type": "code",
   "execution_count": 2,
   "id": "125c790b-6109-4592-a56e-a4686c3f0114",
   "metadata": {},
   "outputs": [],
   "source": [
    "c=sqlite3.connect('data/european-soccer.sqlite')\n",
    "cursor = c.cursor()"
   ]
  },
  {
   "cell_type": "code",
   "execution_count": 3,
   "id": "91a6c6e6-6601-453c-bc08-e12c0751ed5a",
   "metadata": {},
   "outputs": [],
   "source": [
    "def exe(cursor: object, query: 'string'):\n",
    "    cursor.execute(query)\n",
    "    for row in  cursor.fetchall():\n",
    "        print(row)"
   ]
  },
  {
   "cell_type": "markdown",
   "id": "8986818a-7c09-485b-af8f-39585e9b42de",
   "metadata": {},
   "source": [
    "## 1. How many matches where played in Belgium ?"
   ]
  },
  {
   "cell_type": "markdown",
   "id": "edd63e1e-2f28-4464-aec8-b5726827c1e3",
   "metadata": {},
   "source": [
    "Countries names and matches are stored in two different tables. We need to do a join to cross those informations. If we don’t know how to do a join, we can simply get the `Country_id` for Belgium in the `Country` table (by hand) and select the matches with this country id. "
   ]
  },
  {
   "cell_type": "code",
   "execution_count": 5,
   "id": "914b6a75-a436-4cc9-882b-216e290be465",
   "metadata": {},
   "outputs": [
    {
     "name": "stdout",
     "output_type": "stream",
     "text": [
      "(1, 'Belgium')\n",
      "(1729, 'England')\n",
      "(4769, 'France')\n",
      "(7809, 'Germany')\n",
      "(10257, 'Italy')\n",
      "(13274, 'Netherlands')\n",
      "(15722, 'Poland')\n",
      "(17642, 'Portugal')\n",
      "(19694, 'Scotland')\n",
      "(21518, 'Spain')\n",
      "(24558, 'Switzerland')\n"
     ]
    }
   ],
   "source": [
    "countries = 'SELECT * FROM Country'\n",
    "exe(cursor, countries)"
   ]
  },
  {
   "cell_type": "markdown",
   "id": "0b50ef66-b062-492e-8a4c-88399d51f926",
   "metadata": {},
   "source": [
    "Belgium country id is 1 :"
   ]
  },
  {
   "cell_type": "code",
   "execution_count": 6,
   "id": "041c0161-10dd-49e3-af8a-097f6d9df196",
   "metadata": {},
   "outputs": [
    {
     "name": "stdout",
     "output_type": "stream",
     "text": [
      "(1728,)\n"
     ]
    }
   ],
   "source": [
    "matches_belgium = 'SELECT COUNT(*) FROM Match WHERE Country_id = 1'\n",
    "exe(cursor, matches_belgium)"
   ]
  },
  {
   "cell_type": "markdown",
   "id": "d67091ee-08e8-4d89-bd86-12a43ee24572",
   "metadata": {},
   "source": [
    "Second method, if we know how to join tables :"
   ]
  },
  {
   "cell_type": "code",
   "execution_count": 7,
   "id": "496b2412-04f8-43ae-a537-3ada744aad44",
   "metadata": {},
   "outputs": [
    {
     "name": "stdout",
     "output_type": "stream",
     "text": [
      "(1728,)\n"
     ]
    }
   ],
   "source": [
    "matches_belgium_join = '''\n",
    "SELECT \n",
    "    COUNT(*) \n",
    "FROM \n",
    "    Match AS m\n",
    "JOIN \n",
    "    Country AS c \n",
    "    ON \n",
    "        m.Country_id = c.id \n",
    "WHERE \n",
    "    c.name = 'Belgium';\n",
    "'''\n",
    "exe(cursor,matches_belgium_join)"
   ]
  },
  {
   "cell_type": "markdown",
   "id": "e772a13e-aead-4687-b53d-edb5b6859dc4",
   "metadata": {},
   "source": [
    "## 2. How many matches where played in Belgium or France ?"
   ]
  },
  {
   "cell_type": "markdown",
   "id": "1056e23d-f89f-4b5f-81ad-a1d13e4db873",
   "metadata": {},
   "source": [
    "We can use either methods seen in 1, with a `OR` condition :"
   ]
  },
  {
   "cell_type": "code",
   "execution_count": 9,
   "id": "65bb4ad3-5665-489c-92a6-8490b420832c",
   "metadata": {},
   "outputs": [
    {
     "name": "stdout",
     "output_type": "stream",
     "text": [
      "(4768,)\n"
     ]
    }
   ],
   "source": [
    "matches_belgium_or_france = '''\n",
    "SELECT \n",
    "    count(*) \n",
    "FROM \n",
    "    Match AS m\n",
    "JOIN \n",
    "    Country AS c \n",
    "    ON \n",
    "        m.Country_id = c.id \n",
    "WHERE \n",
    "    c.name = 'Belgium' \n",
    "    OR \n",
    "        c.name = 'France';\n",
    "'''\n",
    "exe(cursor, matches_belgium_or_france)"
   ]
  },
  {
   "cell_type": "markdown",
   "id": "3bc33266-2f80-47c6-acac-dc29846c3184",
   "metadata": {},
   "source": [
    "## 3. What is the average weight of the 20 tallest player, and same for the 20 shortest ?\n",
    "\n",
    "First, let’s have a look on the `Player` table ?"
   ]
  },
  {
   "cell_type": "code",
   "execution_count": 10,
   "id": "7149e2c3-1f36-45a6-b24c-6abdd21be0d4",
   "metadata": {},
   "outputs": [
    {
     "name": "stdout",
     "output_type": "stream",
     "text": [
      "(1, 505942, 'Aaron Appindangoye', 218353, '1992-02-29 00:00:00', 182.88, 187)\n",
      "(2, 155782, 'Aaron Cresswell', 189615, '1989-12-15 00:00:00', 170.18, 146)\n",
      "(3, 162549, 'Aaron Doran', 186170, '1991-05-13 00:00:00', 170.18, 163)\n",
      "(4, 30572, 'Aaron Galindo', 140161, '1982-05-08 00:00:00', 182.88, 198)\n",
      "(5, 23780, 'Aaron Hughes', 17725, '1979-11-08 00:00:00', 182.88, 154)\n",
      "(6, 27316, 'Aaron Hunt', 158138, '1986-09-04 00:00:00', 182.88, 161)\n",
      "(7, 564793, 'Aaron Kuhl', 221280, '1996-01-30 00:00:00', 172.72, 146)\n",
      "(8, 30895, 'Aaron Lennon', 152747, '1987-04-16 00:00:00', 165.1, 139)\n",
      "(9, 528212, 'Aaron Lennox', 206592, '1993-02-19 00:00:00', 190.5, 181)\n",
      "(10, 101042, 'Aaron Meijers', 188621, '1987-10-28 00:00:00', 175.26, 170)\n"
     ]
    }
   ],
   "source": [
    "players = 'SELECT * FROM Player LIMIT 10'\n",
    "exe(cursor, players)"
   ]
  },
  {
   "cell_type": "markdown",
   "id": "420ca69c-1c2b-41be-b948-d67d5d99c0f2",
   "metadata": {},
   "source": [
    "First, get the weights of the 20 tallest players"
   ]
  },
  {
   "cell_type": "code",
   "execution_count": 13,
   "id": "d8bf613a-ce6c-4bfa-96e6-3cda8e4b87c5",
   "metadata": {},
   "outputs": [
    {
     "name": "stdout",
     "output_type": "stream",
     "text": [
      "(243,)\n",
      "(216,)\n",
      "(212,)\n",
      "(185,)\n",
      "(212,)\n",
      "(194,)\n",
      "(192,)\n",
      "(212,)\n",
      "(190,)\n",
      "(209,)\n",
      "(216,)\n",
      "(203,)\n",
      "(209,)\n",
      "(212,)\n",
      "(183,)\n",
      "(192,)\n",
      "(168,)\n",
      "(198,)\n",
      "(187,)\n",
      "(185,)\n"
     ]
    }
   ],
   "source": [
    "weights_20tallest = '''\n",
    "SELECT \n",
    "    weight \n",
    "FROM \n",
    "    Player \n",
    "ORDER BY \n",
    "    height DESC\n",
    "LIMIT 20 \n",
    "'''\n",
    "exe(cursor, weights_20tallest)"
   ]
  },
  {
   "cell_type": "markdown",
   "id": "ed184695-5d02-4f6f-9a5a-53287e499d07",
   "metadata": {},
   "source": [
    "How do we calculate the average of thoses values ?\n",
    "It is not possible in one request with SQLite, because you can’t use an aggregate function like `AVG()` *after* the `LIMIT` keyword.\n",
    "\n",
    "First method to deal with this limitation is to use Python : we got the individual weights with a SQL request, we can calculate the average with Python."
   ]
  },
  {
   "cell_type": "code",
   "execution_count": 20,
   "id": "a05fc250-1e78-478b-ada8-7ee09006307f",
   "metadata": {},
   "outputs": [
    {
     "data": {
      "text/plain": [
       "200.9"
      ]
     },
     "execution_count": 20,
     "metadata": {},
     "output_type": "execute_result"
    }
   ],
   "source": [
    "cursor.execute(weights_20tallest)\n",
    "weights = [row[0] for row in cursor.fetchall()]\n",
    "mean = sum(weights)/len(weights)\n",
    "mean"
   ]
  },
  {
   "cell_type": "markdown",
   "id": "28e7922f-ca8c-4a59-bb7d-89ee0dfc662a",
   "metadata": {},
   "source": [
    "Second method is to use sub-requests (method learned in the S2 course)."
   ]
  },
  {
   "cell_type": "code",
   "execution_count": 23,
   "id": "250848a5-f169-4394-9b44-f50472df16c5",
   "metadata": {},
   "outputs": [
    {
     "name": "stdout",
     "output_type": "stream",
     "text": [
      "(200.9,)\n"
     ]
    }
   ],
   "source": [
    "mean_weights_20tallest = '''\n",
    "\n",
    "WITH \n",
    "    tallest AS (\n",
    "    SELECT \n",
    "        weight \n",
    "    FROM \n",
    "        Player \n",
    "    ORDER BY \n",
    "        height DESC\n",
    "    LIMIT 20 \n",
    ")\n",
    "\n",
    "SELECT \n",
    "    AVG(weight) \n",
    "FROM \n",
    "    tallest;\n",
    "'''\n",
    "\n",
    "exe(cursor, mean_weights_20tallest)"
   ]
  },
  {
   "cell_type": "markdown",
   "id": "564a86d7-1e82-445c-861e-09b21570db6b",
   "metadata": {},
   "source": [
    "To get the average weight of the 20 shortest players, just do the same, ordering this time the heights in crescent order :"
   ]
  },
  {
   "cell_type": "code",
   "execution_count": 25,
   "id": "bfd74c9f-9887-499e-b734-552a1bace26d",
   "metadata": {},
   "outputs": [
    {
     "name": "stdout",
     "output_type": "stream",
     "text": [
      "(135.7,)\n"
     ]
    }
   ],
   "source": [
    "mean_weights_20shortest = '''\n",
    "\n",
    "WITH \n",
    "    shortest AS (\n",
    "    SELECT \n",
    "        weight \n",
    "    FROM \n",
    "        Player \n",
    "    ORDER BY \n",
    "        height ASC\n",
    "LIMIT 20 \n",
    ")\n",
    "\n",
    "SELECT \n",
    "    AVG(weight) \n",
    "FROM \n",
    "    shortest;\n",
    "'''\n",
    "\n",
    "exe(cursor, mean_weights_20shortest)"
   ]
  },
  {
   "cell_type": "markdown",
   "id": "b5b9740f-2f96-4f0f-a4be-3dc6c3ba19be",
   "metadata": {},
   "source": [
    "## 3. What are the birthdates of players named Adil ?\n",
    "\n",
    "This one is easy. Manage `TEXT` type with `LIKE`. If you know other string functions like `SUBSTR()` you can also format the output."
   ]
  },
  {
   "cell_type": "code",
   "execution_count": 34,
   "id": "5700d952-6350-4549-be11-f03d7d965a32",
   "metadata": {},
   "outputs": [
    {
     "name": "stdout",
     "output_type": "stream",
     "text": [
      "('Adil Auassar', '1986-10-06')\n",
      "('Adil Chihi', '1988-02-21')\n",
      "('Adil Hermach', '1986-06-27')\n",
      "('Adil Rami', '1985-12-27')\n",
      "('Adil Ramzi', '1977-07-14')\n"
     ]
    }
   ],
   "source": [
    "birthdates = '''\n",
    "SELECT \n",
    "    player_name, \n",
    "    SUBSTR(birthday, 1, 10)\n",
    "FROM \n",
    "    Player\n",
    "WHERE \n",
    "    player_name \n",
    "    LIKE \n",
    "        'Adil %';\n",
    "'''\n",
    "\n",
    "exe(cursor, birthdates)"
   ]
  },
  {
   "cell_type": "markdown",
   "id": "2ad0d7c5-d68f-4760-82e9-89702f63c7b8",
   "metadata": {},
   "source": [
    "## 4. What is the average weight of players named Sylvain ?\n",
    "This time, you can use an aggregate function with a `WHERE` clause…"
   ]
  },
  {
   "cell_type": "code",
   "execution_count": 35,
   "id": "dfa600aa-e5fb-4552-922a-4bcd9dc081c2",
   "metadata": {},
   "outputs": [
    {
     "name": "stdout",
     "output_type": "stream",
     "text": [
      "(174.66666666666666,)\n"
     ]
    }
   ],
   "source": [
    "average_weights_sylvain = '''\n",
    "SELECT \n",
    "    AVG(weight)\n",
    "FROM \n",
    "    Player\n",
    "WHERE \n",
    "    player_name \n",
    "    LIKE \n",
    "        'Sylvain %';\n",
    "'''\n",
    "\n",
    "exe(cursor, average_weights_sylvain)"
   ]
  },
  {
   "cell_type": "markdown",
   "id": "f8788d4a-560f-4038-8c45-ff98c15dab5c",
   "metadata": {},
   "source": [
    "## 5. How many players have their names derived from Thomas (Tomas, Tomi, etc.) ?\n",
    "\n",
    "First let’s explore and look at what names starting with tom... or thom... look like :"
   ]
  },
  {
   "cell_type": "code",
   "execution_count": 48,
   "id": "5dfd749c-3eaa-4e08-967f-4a891eb1f19e",
   "metadata": {},
   "outputs": [
    {
     "name": "stdout",
     "output_type": "stream",
     "text": [
      "('Thom Haye',)\n",
      "('Thomas Agyepong',)\n",
      "('Thomas Ayasse',)\n",
      "('Thomas Bosmel',)\n",
      "('Thomas Broich',)\n",
      "('Thomas Bruns',)\n",
      "('Thomas Buffel',)\n",
      "('Thomas Carroll',)\n",
      "('Thomas Chatelle',)\n",
      "('Thomas Enevoldsen',)\n",
      "('Thomas Fekete',)\n",
      "('Thomas Foket',)\n",
      "('Thomas Goddeeris',)\n",
      "('Thomas Guerbert',)\n",
      "('Thomas Guimaraes Azevedo',)\n",
      "('Thomas Heurtaux',)\n",
      "('Thomas Hitzlsperger',)\n",
      "('Thomas Ince',)\n",
      "('Thomas Kahlenberg',)\n",
      "('Thomas Kaminski',)\n",
      "('Thomas Kessler',)\n",
      "('Thomas Kind Bendiksen',)\n",
      "('Thomas Kleine',)\n",
      "('Thomas Konrad',)\n",
      "('Thomas Kotte',)\n",
      "('Thomas Kraft',)\n",
      "('Thomas Kristensen',)\n",
      "('Thomas Lam',)\n",
      "('Thomas Lemar',)\n",
      "('Thomas Manfredini',)\n",
      "('Thomas Mangani',)\n",
      "('Thomas Matton',)\n",
      "('Thomas Meunier',)\n",
      "('Thomas Mueller',)\n",
      "('Thomas Ouwejan',)\n",
      "('Thomas Phibel',)\n",
      "('Thomas Piermayr',)\n",
      "('Thomas Pledl',)\n",
      "('Thomas Reilly',)\n",
      "('Thomas Reinmann',)\n",
      "('Thomas Robson',)\n",
      "('Thomas Rogne',)\n",
      "('Thomas Scobbie',)\n",
      "('Thomas Sorensen',)\n",
      "('Thomas Toure',)\n",
      "('Thomas Vermaelen',)\n",
      "('Thomas Vincensini',)\n",
      "('Thomas Welnicki',)\n",
      "('Thomas Wils',)\n",
      "('Thomas',)\n",
      "('Tom Aldred',)\n",
      "('Tom Beugelsdijk',)\n",
      "('Tom Brighton',)\n",
      "('Tom Cairney',)\n",
      "('Tom Caluwe',)\n",
      "('Tom Cleverley',)\n",
      "('Tom Davies',)\n",
      "('Tom de Mul',)\n",
      "('Tom De Sutter',)\n",
      "('Tom Elliott',)\n",
      "('Tom Hateley',)\n",
      "('Tom Heaton',)\n",
      "('Tom Hiariej',)\n",
      "('Tom Hoegli',)\n",
      "('Tom Huddlestone',)\n",
      "('Tom Lawrence',)\n",
      "('Tom Mickel',)\n",
      "('Tom Muyters',)\n",
      "('Tom Rogic',)\n",
      "('Tom Soares',)\n",
      "('Tom Soetaers',)\n",
      "('Tom Starke',)\n",
      "('Tom Taiwo',)\n",
      "('Tom Trybull',)\n",
      "('Tom van der Leegte',)\n",
      "('Tom van Hyfte',)\n",
      "('Tom van Imschoot',)\n",
      "('Tom van Weert',)\n",
      "('Tomane',)\n",
      "('Tomas Cerny',)\n",
      "('Tomas Costa',)\n",
      "('Tomas Dabo',)\n",
      "('Tomas Danilevicius',)\n",
      "('Tomas Docekal',)\n",
      "('Tomas Galasek',)\n",
      "('Tomas Kalas',)\n",
      "('Tomas Kosicky',)\n",
      "('Tomas Majtan',)\n",
      "('Tomas Micola',)\n",
      "('Tomas Necid',)\n",
      "('Tomas Pekhart',)\n",
      "('Tomas Pina',)\n",
      "('Tomas Rincon',)\n",
      "('Tomas Rosicky',)\n",
      "('Tomas Ujfalusi',)\n",
      "('Tomas Vaclik',)\n",
      "('Tomas Vestenicky',)\n",
      "('Tomasz Bandrowski',)\n",
      "('Tomasz Brzyski',)\n",
      "('Tomasz Cywka',)\n",
      "('Tomasz Foszmanczyk',)\n",
      "('Tomasz Gorkiewicz',)\n",
      "('Tomasz Holota',)\n",
      "('Tomasz Jodlowiec',)\n",
      "('Tomasz Kedziora',)\n",
      "('Tomasz Kowalski',)\n",
      "('Tomasz Kupisz',)\n",
      "('Tomasz Kuszczak',)\n",
      "('Tomasz Lisowski',)\n",
      "('Tomasz Mokwa',)\n",
      "('Tomasz Nowak',)\n",
      "('Tomasz Podgorski',)\n",
      "('Tomasz Porebski',)\n",
      "('Tomasz Ptak',)\n",
      "('Tomasz Radzinski',)\n",
      "('Tomasz Zajac',)\n",
      "('Tomi Juric',)\n",
      "('Tomislav Bozic',)\n",
      "('Tomislav Dujmovic',)\n",
      "('Tomislav Kis',)\n",
      "('Tomislav Mikulic',)\n",
      "('Tomislav Pacovski',)\n",
      "('Tomislav Puljic',)\n",
      "('Tomislav Sokota',)\n",
      "('Tommaso Arrigoni',)\n",
      "('Tommaso Berni',)\n",
      "('Tommaso Rocchi',)\n",
      "('Tommaso Vailatti',)\n",
      "('Tommer Hemed',)\n",
      "('Tommy Bechmann',)\n",
      "('Tommy Elphick',)\n",
      "('Tommy Oar',)\n",
      "('Tommy Smith',)\n",
      "('Tommy Wright',)\n",
      "('Tomoaki Makino',)\n"
     ]
    }
   ],
   "source": [
    "tom = '''\n",
    "SELECT \n",
    "    player_name\n",
    "FROM \n",
    "    Player\n",
    "WHERE \n",
    "    player_name LIKE 'Tom%' \n",
    "    OR \n",
    "        player_name LIKE 'Thom%';\n",
    "'''\n",
    "\n",
    "exe(cursor, tom)"
   ]
  },
  {
   "cell_type": "markdown",
   "id": "5f1a9e42-ef94-435b-83a3-368d30a21912",
   "metadata": {},
   "source": [
    "It seems that some names begining by tom… are abviously not derived from Thomas (Tomoaki, Tomane…). We should refine our test condition :"
   ]
  },
  {
   "cell_type": "code",
   "execution_count": 49,
   "id": "7613b192-e5a5-4d00-8291-b0aa6de6894d",
   "metadata": {},
   "outputs": [
    {
     "name": "stdout",
     "output_type": "stream",
     "text": [
      "(133,)\n"
     ]
    }
   ],
   "source": [
    "tom = '''\n",
    "SELECT \n",
    "    COUNT(*)\n",
    "FROM \n",
    "    Player\n",
    "WHERE \n",
    "    (\n",
    "    player_name LIKE 'Tom%' \n",
    "    OR \n",
    "        player_name LIKE 'Thom%'\n",
    "    ) \n",
    "    AND \n",
    "        player_name NOT LIKE 'Tomane' \n",
    "    AND \n",
    "        player_name NOT LIKE 'Tomo%';\n",
    "'''\n",
    "\n",
    "exe(cursor, tom)"
   ]
  },
  {
   "cell_type": "markdown",
   "id": "3619a951-43e8-4572-909b-ad3258748482",
   "metadata": {},
   "source": [
    "## 6. How many matches where played in each country ? In each league ?\n",
    "\n",
    "This time it seems we should use `GROUP BY`"
   ]
  },
  {
   "cell_type": "code",
   "execution_count": 56,
   "id": "49032a0c-90ba-4618-8ecb-3d640aa61633",
   "metadata": {},
   "outputs": [
    {
     "name": "stdout",
     "output_type": "stream",
     "text": [
      "(1, 1728)\n",
      "(1729, 3040)\n",
      "(4769, 3040)\n",
      "(7809, 2448)\n",
      "(10257, 3017)\n",
      "(13274, 2448)\n",
      "(15722, 1920)\n",
      "(17642, 2052)\n",
      "(19694, 1824)\n",
      "(21518, 3040)\n",
      "(24558, 1422)\n"
     ]
    }
   ],
   "source": [
    "matches_by_countries = '''\n",
    "SELECT \n",
    "    Country_id, \n",
    "    COUNT(*)\n",
    "FROM \n",
    "    Match\n",
    "GROUP BY \n",
    "    Country_id;\n",
    "'''\n",
    "\n",
    "exe(cursor, matches_by_countries)"
   ]
  },
  {
   "cell_type": "markdown",
   "id": "732530b6-11d8-40e8-a691-ad792edbfb37",
   "metadata": {},
   "source": [
    "If we know how to do a join, we could replace `Country_id` by countries name :"
   ]
  },
  {
   "cell_type": "code",
   "execution_count": 57,
   "id": "a2d1ab41-79f0-4ac1-b1ef-cc4c2cd75bd3",
   "metadata": {},
   "outputs": [
    {
     "name": "stdout",
     "output_type": "stream",
     "text": [
      "('Belgium', 1728)\n",
      "('England', 3040)\n",
      "('France', 3040)\n",
      "('Germany', 2448)\n",
      "('Italy', 3017)\n",
      "('Netherlands', 2448)\n",
      "('Poland', 1920)\n",
      "('Portugal', 2052)\n",
      "('Scotland', 1824)\n",
      "('Spain', 3040)\n",
      "('Switzerland', 1422)\n"
     ]
    }
   ],
   "source": [
    "matches_by_countries = '''\n",
    "SELECT \n",
    "    c.name, \n",
    "    COUNT(*)\n",
    "FROM \n",
    "    Match AS m\n",
    "JOIN \n",
    "    Country AS c \n",
    "    ON \n",
    "        m.Country_id = c.id \n",
    "GROUP BY \n",
    "    Country_id\n",
    "ORDER BY \n",
    "    c.name;\n",
    "'''\n",
    "exe(cursor, matches_by_countries)"
   ]
  },
  {
   "cell_type": "markdown",
   "id": "01fccfff-387e-4ef5-a4d6-f660b6c1ef5e",
   "metadata": {},
   "source": [
    "Present the precedent results by descendant numbers of matches"
   ]
  },
  {
   "cell_type": "code",
   "execution_count": 59,
   "id": "36f7bd8c-ef80-4b95-9581-081e40d4561e",
   "metadata": {},
   "outputs": [
    {
     "name": "stdout",
     "output_type": "stream",
     "text": [
      "('England', 3040)\n",
      "('France', 3040)\n",
      "('Spain', 3040)\n",
      "('Italy', 3017)\n",
      "('Germany', 2448)\n",
      "('Netherlands', 2448)\n",
      "('Portugal', 2052)\n",
      "('Poland', 1920)\n",
      "('Scotland', 1824)\n",
      "('Belgium', 1728)\n",
      "('Switzerland', 1422)\n"
     ]
    }
   ],
   "source": [
    "matches_by_countries = '''\n",
    "SELECT \n",
    "    c.name, \n",
    "    COUNT(*) AS n_matches\n",
    "FROM \n",
    "    Match AS m\n",
    "JOIN \n",
    "    Country AS c \n",
    "    ON \n",
    "        m.Country_id = c.id \n",
    "GROUP BY \n",
    "    Country_id\n",
    "ORDER BY \n",
    "    n_matches DESC, \n",
    "    c.name;\n",
    "'''\n",
    "exe(cursor, matches_by_countries)"
   ]
  },
  {
   "cell_type": "markdown",
   "id": "54852bdf-74de-48b2-971b-21f7c2eeb46d",
   "metadata": {},
   "source": [
    "Matches for each league :"
   ]
  },
  {
   "cell_type": "code",
   "execution_count": 66,
   "id": "bb071bca-c5d9-4499-9741-40fd7253d074",
   "metadata": {},
   "outputs": [
    {
     "name": "stdout",
     "output_type": "stream",
     "text": [
      "('England Premier League', 3040)\n",
      "('France Ligue 1', 3040)\n",
      "('Spain LIGA BBVA', 3040)\n",
      "('Italy Serie A', 3017)\n",
      "('Germany 1. Bundesliga', 2448)\n",
      "('Netherlands Eredivisie', 2448)\n",
      "('Portugal Liga ZON Sagres', 2052)\n",
      "('Poland Ekstraklasa', 1920)\n",
      "('Scotland Premier League', 1824)\n",
      "('Belgium Jupiler League', 1728)\n",
      "('Switzerland Super League', 1422)\n"
     ]
    }
   ],
   "source": [
    "matches_by_leagues = '''\n",
    "SELECT \n",
    "    l.name, \n",
    "    COUNT(*) AS n_matches\n",
    "FROM \n",
    "    Match AS m\n",
    "JOIN \n",
    "    League AS l \n",
    "    ON \n",
    "        m.League_id = l.id \n",
    "GROUP BY \n",
    "    League_id\n",
    "ORDER BY \n",
    "    n_matches DESC, \n",
    "    l.name;\n",
    "'''\n",
    "exe(cursor, matches_by_leagues)"
   ]
  },
  {
   "cell_type": "markdown",
   "id": "512620e8-e65d-4679-8a17-20017af784e8",
   "metadata": {},
   "source": [
    "## 7. Who are the 10 players with the best ratings ?\n",
    "\n",
    "As usual, let’s take a look at the content of the table concerned :"
   ]
  },
  {
   "cell_type": "code",
   "execution_count": 62,
   "id": "720c06ef-ff21-49e4-9b25-29747416f641",
   "metadata": {},
   "outputs": [
    {
     "name": "stdout",
     "output_type": "stream",
     "text": [
      "(1, 218353, 505942, 67)\n",
      "(2, 218353, 505942, 67)\n",
      "(3, 218353, 505942, 62)\n",
      "(4, 218353, 505942, 61)\n",
      "(5, 218353, 505942, 61)\n",
      "(6, 189615, 155782, 74)\n",
      "(7, 189615, 155782, 74)\n",
      "(8, 189615, 155782, 73)\n",
      "(9, 189615, 155782, 73)\n",
      "(10, 189615, 155782, 73)\n"
     ]
    }
   ],
   "source": [
    "ratings = '''\n",
    "SELECT \n",
    "    id, \n",
    "    player_fifa_api_id, \n",
    "    player_api_id, \n",
    "    overall_rating\n",
    "FROM \n",
    "    Player_Attributes\n",
    "LIMIT 10\n",
    "'''\n",
    "exe(cursor, ratings)"
   ]
  },
  {
   "cell_type": "markdown",
   "id": "89665f1b-0655-45d6-9711-168e60f3b1b9",
   "metadata": {},
   "source": [
    "It appears that a player has several ratings. Therefore, we should : \n",
    "1. group average ratings by player\n",
    "2. order them by ratings\n",
    "3. limit results to 10\n",
    "4. optional : cross players id with players names"
   ]
  },
  {
   "cell_type": "code",
   "execution_count": 63,
   "id": "958eea3c-0fd0-4dd6-a376-713bbb08b216",
   "metadata": {},
   "outputs": [
    {
     "name": "stdout",
     "output_type": "stream",
     "text": [
      "(30981, 94)\n",
      "(30893, 93)\n",
      "(40636, 90)\n",
      "(27299, 90)\n",
      "(19533, 90)\n",
      "(35724, 89)\n",
      "(30834, 89)\n",
      "(107417, 88)\n",
      "(93447, 88)\n",
      "(80562, 88)\n"
     ]
    }
   ],
   "source": [
    "top_ratings = '''\n",
    "SELECT \n",
    "    player_api_id, \n",
    "    overall_rating\n",
    "FROM \n",
    "    Player_Attributes\n",
    "GROUP BY \n",
    "    player_api_id\n",
    "ORDER BY \n",
    "    overall_rating DESC\n",
    "LIMIT 10;\n",
    "'''\n",
    "exe(cursor, top_ratings)"
   ]
  },
  {
   "cell_type": "markdown",
   "id": "16414482-9f3d-43b4-8b92-c32e4325344b",
   "metadata": {},
   "source": [
    "If we know how to do a join, we can display players name rather than their api id :"
   ]
  },
  {
   "cell_type": "code",
   "execution_count": 64,
   "id": "49b5207d-9e8e-4950-95f1-f907ea33121f",
   "metadata": {},
   "outputs": [
    {
     "name": "stdout",
     "output_type": "stream",
     "text": [
      "('Lionel Messi', 94)\n",
      "('Cristiano Ronaldo', 93)\n",
      "('Luis Suarez', 90)\n",
      "('Manuel Neuer', 90)\n",
      "('Neymar', 90)\n",
      "('Zlatan Ibrahimovic', 89)\n",
      "('Arjen Robben', 89)\n",
      "('Eden Hazard', 88)\n",
      "('Robert Lewandowski', 88)\n",
      "('Thiago Silva', 88)\n"
     ]
    }
   ],
   "source": [
    "top_ratings = '''\n",
    "SELECT \n",
    "    p.player_name, \n",
    "    pa.overall_rating\n",
    "FROM \n",
    "    Player_Attributes AS pa\n",
    "JOIN \n",
    "    Player AS p \n",
    "    ON \n",
    "        pa.player_api_id = p.player_api_id\n",
    "GROUP BY \n",
    "    pa.player_api_id\n",
    "ORDER BY \n",
    "    pa.overall_rating DESC\n",
    "LIMIT 10;\n",
    "'''\n",
    "exe(cursor, top_ratings)"
   ]
  },
  {
   "cell_type": "markdown",
   "id": "5ea829d9-5bfa-4b1a-8a06-b521c6aa5be9",
   "metadata": {},
   "source": [
    "## 8. For each league, how many matches where played ? Order your response by countries name."
   ]
  },
  {
   "cell_type": "code",
   "execution_count": 70,
   "id": "09f5f658-3195-486c-8543-c0ba2529df93",
   "metadata": {},
   "outputs": [
    {
     "name": "stdout",
     "output_type": "stream",
     "text": [
      "('Belgium', 'Belgium Jupiler League', 1728)\n",
      "('England', 'England Premier League', 3040)\n",
      "('France', 'France Ligue 1', 3040)\n",
      "('Germany', 'Germany 1. Bundesliga', 2448)\n",
      "('Italy', 'Italy Serie A', 3017)\n",
      "('Netherlands', 'Netherlands Eredivisie', 2448)\n",
      "('Poland', 'Poland Ekstraklasa', 1920)\n",
      "('Portugal', 'Portugal Liga ZON Sagres', 2052)\n",
      "('Scotland', 'Scotland Premier League', 1824)\n",
      "('Spain', 'Spain LIGA BBVA', 3040)\n",
      "('Switzerland', 'Switzerland Super League', 1422)\n"
     ]
    }
   ],
   "source": [
    "matches_by_leagues_and_countries = '''\n",
    "SELECT \n",
    "    c.name,\n",
    "    l.name, \n",
    "    COUNT(*) AS n_matches\n",
    "FROM \n",
    "    Match AS m\n",
    "JOIN \n",
    "    League AS l \n",
    "    ON \n",
    "        m.League_id = l.id \n",
    "JOIN\n",
    "    Country AS c\n",
    "    ON\n",
    "        l.Country_id = c.id\n",
    "GROUP BY \n",
    "    League_id\n",
    "ORDER BY \n",
    "    c.name\n",
    "'''\n",
    "exe(cursor, matches_by_leagues_and_countries)"
   ]
  },
  {
   "cell_type": "markdown",
   "id": "b41f342d-b037-44c9-9ccd-2c07aebc0a37",
   "metadata": {},
   "source": [
    "## 9. Make an inner join between the `Country` table and the `League_null` table. Note the difference : which lines disappeared ?"
   ]
  },
  {
   "cell_type": "code",
   "execution_count": null,
   "id": "469626e8-feb6-4855-a5c2-2c79a9d64212",
   "metadata": {},
   "outputs": [],
   "source": []
  },
  {
   "cell_type": "markdown",
   "id": "4eb02577-7e70-489d-9800-5d8b43f2bbe2",
   "metadata": {},
   "source": [
    "## 10. Write RIGHT JOIN clauses (inclusive and exclusive)"
   ]
  },
  {
   "cell_type": "code",
   "execution_count": null,
   "id": "1eddd27d-1622-4b2e-90fb-a845e7e3562f",
   "metadata": {},
   "outputs": [],
   "source": []
  },
  {
   "cell_type": "markdown",
   "id": "13b0d323-e58b-4a21-93ff-51538d7d2bf9",
   "metadata": {},
   "source": [
    "## 11. Try to implement a full join "
   ]
  },
  {
   "cell_type": "code",
   "execution_count": null,
   "id": "c8746fdb-95b6-4e91-a951-6588e002aba9",
   "metadata": {},
   "outputs": [],
   "source": []
  },
  {
   "cell_type": "markdown",
   "id": "877f028b-a040-420f-b7a5-f3ead54443a9",
   "metadata": {},
   "source": [
    "## 12. Cross join\n",
    "1. Create a new data base called `club.sqlite`\n",
    "2. Create a table `Members` with id, name (you can quickly create data by creating a `.csv` file, importing it and converting it to a table with `pandas`.)\n",
    "3. Insert some members (3 or 4)\n",
    "4. Create a table `Reunions` with id, reunion_date (you can set default to current datetime to save time)\n",
    "5. Insert some reunions : you can save time by writing a script to fill the table with loop…\n",
    "6. Write a query that produce a matrix with every reunion for each members (`CROSS JOIN`) ordered by date"
   ]
  },
  {
   "cell_type": "code",
   "execution_count": null,
   "id": "7daced1d-d136-45a1-8ddd-9f281d0dc9a0",
   "metadata": {},
   "outputs": [],
   "source": []
  },
  {
   "cell_type": "markdown",
   "id": "6f9a45f0-783f-4f1b-b489-920e1ca3ae5d",
   "metadata": {},
   "source": [
    "## 13. Self join\n",
    "\n",
    "Create a detailed table employee with such relation manager/managed. You can imagine other situation in which SELF JOIN would be pertinent. Create a request that shows for a list of employee their manager (take care of the appearance of the results, ordered by manager, you can use string function to present a phrase like : « X manages Y »)."
   ]
  },
  {
   "cell_type": "code",
   "execution_count": null,
   "id": "f8aa69f1-f3ae-4415-82a2-481c3cdac780",
   "metadata": {},
   "outputs": [],
   "source": []
  }
 ],
 "metadata": {
  "kernelspec": {
   "display_name": "Python 3 (ipykernel)",
   "language": "python",
   "name": "python3"
  },
  "language_info": {
   "codemirror_mode": {
    "name": "ipython",
    "version": 3
   },
   "file_extension": ".py",
   "mimetype": "text/x-python",
   "name": "python",
   "nbconvert_exporter": "python",
   "pygments_lexer": "ipython3",
   "version": "3.11.2"
  }
 },
 "nbformat": 4,
 "nbformat_minor": 5
}
