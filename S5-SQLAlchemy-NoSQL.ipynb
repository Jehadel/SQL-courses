{
 "cells": [
  {
   "cell_type": "markdown",
   "id": "0e227ff8-43c0-4689-b533-0da4bcdb4e06",
   "metadata": {},
   "source": [
    "# SQLAlchemy – NoSQL (optional)\n",
    "\n",
    "This last course is optional and intended for those of you who have fully understood the entire SQL section. The topics will not be covered in depth, the goal is just to attract your attention and make you aware of their existence. The goal is to give yous some notions in case you are confronted with such subjects in the future, or that you wish to deepen them by yourself in order to perfect your mastery of databases with Python.\n",
    "\n",
    "## SQLAlchemy\n",
    "\n",
    "Unlike SQLite, SQLAlchemy is not a database engine or a DBMS, but a database access toolkit. More exactly, SQLAclhemy is known for a component called ORM : Object Relational Mapper, which is the most used one. What is it ? Python is an object-oriented language, and the SQLAlchemy’s ORM will map SQL queries results to objects, which are easierly and more powerfully manipulated by Python. SQLAlchemy is an interface between the database engine and Python, making transparent the manipulation of SQL queries while maintaining their effectiveness.\n",
    "\n",
    "Some of the classes used by SQLAlchemy are (you will intuitively know to what SQL entities they are linked) :\n",
    "\n",
    "* Base\n",
    "* Table\n",
    "* Column\n",
    "* ForeignKey\n",
    "* Integer\n",
    "* String\n",
    "* etc.\n",
    "\n",
    "### Simple : SQLAlchemy to connect to a database\n",
    "\n",
    "The simpler use of SQLAlchemy is just to declare an engine and use it to connect to an existing database, and refer to this connection with a connector. We could then send queries via this connector with methods like `pd.read_sql_query()` :\n"
   ]
  },
  {
   "cell_type": "code",
   "execution_count": 10,
   "id": "3092e275-1331-42bb-83b6-3bb4a51597b4",
   "metadata": {},
   "outputs": [],
   "source": [
    "from sqlalchemy import create_engine, text\n",
    "import os\n",
    "\n",
    "engine = create_engine(os.path.join('sqlite:///','data', 'european-soccer.sqlite'))"
   ]
  },
  {
   "cell_type": "code",
   "execution_count": 11,
   "id": "2cc647a5-6284-49a1-a1b4-cbf8ff0793db",
   "metadata": {},
   "outputs": [],
   "source": [
    "import pandas as pd\n",
    "\n",
    "def request(query, engine=engine):\n",
    "    with engine.begin() as conn:\n",
    "        return pd.read_sql_query(text(query), conn)"
   ]
  },
  {
   "cell_type": "code",
   "execution_count": 12,
   "id": "f5229adb-3719-45e4-b682-952f85720af6",
   "metadata": {},
   "outputs": [
    {
     "name": "stdout",
     "output_type": "stream",
     "text": [
      "       id         name\n",
      "0       1      Belgium\n",
      "1    1729      England\n",
      "2    4769       France\n",
      "3    7809      Germany\n",
      "4   10257        Italy\n",
      "5   13274  Netherlands\n",
      "6   15722       Poland\n",
      "7   17642     Portugal\n",
      "8   19694     Scotland\n",
      "9   21518        Spain\n",
      "10  24558  Switzerland\n"
     ]
    }
   ],
   "source": [
    "print(request('SELECT * FROM Country'))"
   ]
  },
  {
   "cell_type": "markdown",
   "id": "1b41bd53-7dd6-4dbb-94c7-0f8e66b72703",
   "metadata": {},
   "source": [
    "With SQLAchemy, you can create engine to connect to most of the DBMS : you will have the same interface to connect to a lot of different DBMS. For example, if MySQL runs on your computer, you can connect to a MySQL database as such :\n",
    "\n",
    "```Python\n",
    "################################################################\n",
    "# To connect to a MySQL database running local with SQLAlchemy #\n",
    "################################################################\n",
    "\n",
    "user = \"<user_name>\"\n",
    "password = \"<user_password>\"\n",
    "db_name = \"<database_name>\"\n",
    "port = 3306 # default port for MySQL but \n",
    "host = \"127.0.0.1\" # you can also try using \"localhost\" – if MySQL runs distant, \n",
    "                    # host will be the server address\n",
    "connection_infos = f\"mysql+mysqldb://{user}:{password}@{host}:{port}/{db_name}\"\n",
    "engine = create_engine(connection_infos)\n",
    "```"
   ]
  },
  {
   "cell_type": "markdown",
   "id": "6f2ed81a-61a0-4e96-a768-6e871a7de25d",
   "metadata": {},
   "source": [
    "### Advanced : SQLAlchemy models\n",
    "\n",
    "If we don’t want to use the SQLAlchemy interface to connect ot a database and not query it with SQL queries, we have to create a model. It will define the mapping between the database tables and queries results and the object defined and used in Python. \n",
    "\n",
    "A model is a class, inherited from the `Base()` class, which, as its name tells, models columns making the tables, and relationships between the tables, etc.\n",
    "\n",
    "Remember our `movies.db` ?\n",
    "\n",
    "Let’s list its tables and columns, as a refresher :"
   ]
  },
  {
   "cell_type": "code",
   "execution_count": 16,
   "id": "05d717c5-bad7-4161-9069-610b0202360a",
   "metadata": {},
   "outputs": [],
   "source": [
    "import sqlite3\n",
    "\n",
    "######################################################\n",
    "# List tables and columns of a database (arg = path) #\n",
    "######################################################\n",
    "\n",
    "def explore_db(path: 'string'):\n",
    "    conn = sqlite3.connect(path)\n",
    "    c = conn.cursor()\n",
    "    \n",
    "    list_table = '''\n",
    "    PRAGMA table_list;\n",
    "    '''\n",
    "    c.execute(list_table)\n",
    "    for row in c.fetchall():\n",
    "        table = row[1] # to improve readability\n",
    "    \n",
    "        # then get columns names\n",
    "        column_list = 'PRAGMA table_info(' + table +')'\n",
    "        print('\\n----- table ' + row[1] + ' columns -----\\n')\n",
    "        c.execute(column_list)\n",
    "        \n",
    "        # print columns names\n",
    "        for row in  c.fetchall():\n",
    "            column = row[1] # to improve readability\n",
    "            print(column)\n",
    "        \n",
    "        # finally print first lines of each table   \n",
    "        print('\\n table ' + table + ' first lines :\\n')\n",
    "        select_all = 'SELECT * FROM ' + table + ' LIMIT 5'\n",
    "        c.execute(select_all)\n",
    "        for row in  c.fetchall():\n",
    "            print(row)"
   ]
  },
  {
   "cell_type": "code",
   "execution_count": 17,
   "id": "684305e0-b351-4ba0-a95a-0f896db50592",
   "metadata": {},
   "outputs": [
    {
     "name": "stdout",
     "output_type": "stream",
     "text": [
      "\n",
      "----- table Credits columns -----\n",
      "\n",
      "Id\n",
      "Movie_id\n",
      "Direction\n",
      "Producer\n",
      "Studio\n",
      "Playscreen\n",
      "Cast\n",
      "Country\n",
      "\n",
      " table Credits first lines :\n",
      "\n",
      "(1, 3, '\"Big director\"', '\"Big producer\"', '\"Big studio\"', '\"Big screenwriter\"', '\"Big Actor 1, Big Actor 2, Other big actors\"', '\"Big country\"')\n",
      "(2, 1, '\"Unknown director\"', '\"Unknown producteur\"', '\"Unknown studio\"', '\"Unknown screenwriter\"', '\"Unknown actor 1, Unknown acteur 2, Other unknown actors\"', '\"Unknown country\"')\n",
      "(3, 2, '\"Small director\"', '\"Small producer\"', '\"Small studio\"', '\"Small screenwriter\"', '\"Small actor 1, Small actor 2, Small other actors\"', '\"Small country\"')\n",
      "(4, 5, '\"Acceptable director\"', '\"Acceptable producer\"', '\"Acceptable studio\"', '\"Acceptable screenwriter\"', '\"Acceptable actor 1, Acceptable actor 2, Other acceptable actors\"', '\"Acceptable country\"')\n",
      "(5, 4, '\"Incompetent director\"', '\"Incompetent producer\"', '\"Incompetent studio\"', ' \"Incompetent screenwriter\"', '\"Incompetente actor 1, Incompetent actor 2, Other incompetent actors\"', '\"Incompetent country\"')\n",
      "\n",
      "----- table sqlite_sequence columns -----\n",
      "\n",
      "name\n",
      "seq\n",
      "\n",
      " table sqlite_sequence first lines :\n",
      "\n",
      "('Movies', 5)\n",
      "('Credits', 5)\n",
      "\n",
      "----- table Movies columns -----\n",
      "\n",
      "Id\n",
      "Title\n",
      "Date\n",
      "Duration\n",
      "Budget\n",
      "First_week_viewers\n",
      "Votes\n",
      "\n",
      " table Movies first lines :\n",
      "\n",
      "(1, 'A good movie', '2024-12-04', 120, 2000000, 259023, 4.36)\n",
      "(2, 'Another good movie, slightly better', '2024-12-05', 110, 500000, 354352, 4.63)\n",
      "(3, 'A bad movie, but with some success', '1985-01-01', 84, 600000, 165904, 4.26)\n",
      "(4, 'A very bad movie', '2005-04-25', 93, 1000000, 235, 2.86)\n",
      "(5, 'A not so bad movie', '2019-03-23', 104, 1500000, 40334, 3.86)\n",
      "\n",
      "----- table sqlite_schema columns -----\n",
      "\n",
      "type\n",
      "name\n",
      "tbl_name\n",
      "rootpage\n",
      "sql\n",
      "\n",
      " table sqlite_schema first lines :\n",
      "\n",
      "('table', 'Movies', 'Movies', 2, 'CREATE TABLE Movies(\\n    Id INTEGER PRIMARY KEY AUTOINCREMENT UNIQUE,\\n    Title TEXT,\\n    Date TEXT,\\n    Duration INTEGER,\\n    Budget INTEGER,\\n    First_week_viewers INTEGER,\\n    Votes REAl\\n    )')\n",
      "('index', 'sqlite_autoindex_Movies_1', 'Movies', 3, None)\n",
      "('table', 'sqlite_sequence', 'sqlite_sequence', 4, 'CREATE TABLE sqlite_sequence(name,seq)')\n",
      "('table', 'Credits', 'Credits', 5, 'CREATE TABLE Credits(\\n    Id INTEGER PRIMARY KEY AUTOINCREMENT UNIQUE,\\n    Movie_id INTEGER NOT NULL,\\n    Direction TEXT,\\n    Producer TEXT,\\n    Studio TEXT,\\n    Playscreen TEXT,\\n    Cast TEXT,\\n    Country TEXT,\\n    FOREIGN KEY (Movie_id)\\n        REFERENCES Movies (Id)\\n)')\n",
      "('index', 'sqlite_autoindex_Credits_1', 'Credits', 6, None)\n",
      "\n",
      "----- table sqlite_temp_schema columns -----\n",
      "\n",
      "type\n",
      "name\n",
      "tbl_name\n",
      "rootpage\n",
      "sql\n",
      "\n",
      " table sqlite_temp_schema first lines :\n",
      "\n"
     ]
    }
   ],
   "source": [
    "explore_db('data/movies.db')"
   ]
  },
  {
   "cell_type": "markdown",
   "id": "dace9748-b9d7-48d3-a5c4-562e658b7eac",
   "metadata": {},
   "source": [
    "Nous avons donc deux tables :\n",
    "\n",
    "* Credits (5 colonnes, cf. ci-dessus)\n",
    "* Movies (5 colonnes, cf. ci-dessus)\n",
    "\n",
    "Maintenant que nous nous sommes rafraîchi la mémoire, connectons-nous à la base : "
   ]
  },
  {
   "cell_type": "code",
   "execution_count": 1,
   "id": "3d35b856-dd94-4371-b121-9171d3660055",
   "metadata": {},
   "outputs": [],
   "source": [
    "from sqlalchemy import create_engine, text\n",
    "import os\n",
    "\n",
    "engine = create_engine(os.path.join('sqlite:///','data', 'movies.db'))"
   ]
  },
  {
   "cell_type": "markdown",
   "id": "f796f999-23db-43ce-84e5-4feb5d757e62",
   "metadata": {},
   "source": [
    "Et créons le modèle suivant :"
   ]
  },
  {
   "cell_type": "code",
   "execution_count": 2,
   "id": "9a98d238-68d7-4a05-b62b-78355d7265db",
   "metadata": {},
   "outputs": [],
   "source": [
    "from sqlalchemy import Table, Column, ForeignKey, Integer, String, Float\n",
    "from sqlalchemy.orm import declarative_base\n",
    "\n",
    "Base = declarative_base() # créons la classe de base dont vont hériter\n",
    "                          # les classes que nous allons créer pour le modèle\n",
    "\n",
    "class Movies(Base):    # on instancie la classe modèle pour la table Movies\n",
    "    __tablename__ = 'Movies' \n",
    "    Id = Column(Integer, primary_key=True) # instances des colonnes de la table\n",
    "    Title = Column(String)\n",
    "    Date = Column(String)\n",
    "    Duration = Column(Integer)\n",
    "    Budget = Column(Integer)\n",
    "    First_week_viewers = Column(Integer)\n",
    "    Votes = Column(Float)\n",
    "    \n",
    "class Credits(Base):\n",
    "    __tablename__ = 'Credits'\n",
    "    Id = Column(Integer, primary_key=True)\n",
    "    Movie_id = Column(String, ForeignKey('Movies.Id')) # relation entre tables\n",
    "    Direction = Column(String)\n",
    "    Producer = Column(String)\n",
    "    Studio = Column(String)\n",
    "    Playscreen = Column(String)\n",
    "    Cast = Column(String)\n",
    "    Country = Column(String)"
   ]
  },
  {
   "cell_type": "markdown",
   "id": "f0ecc19a-e5d1-4ef0-baa9-e26b1af38ce7",
   "metadata": {},
   "source": [
    "Now, the model is declared, connection to the base is established, let’s see how we make a request.\n",
    "\n",
    "To do that, we have to open a `Session` : it is a 'holding place' as described in the SQLAlchemy documentation, where  \n",
    "```\n",
    "it provides the interface where SELECT and other queries are made that will return and modify ORM-mapped objects.\n",
    "```\n",
    "(objects that we have instanciated and loaded)\n",
    "\n",
    "Once the `session` is instanciated, we can call the `.query` method, that we will chain with other methods to create a query.\n",
    "\n",
    "Here the query that select all the records of the `Movies` table :"
   ]
  },
  {
   "cell_type": "code",
   "execution_count": 3,
   "id": "a09a8055-d8b3-4e88-8942-de3ecb91cd14",
   "metadata": {},
   "outputs": [],
   "source": [
    "from sqlalchemy.orm import Session\n",
    "\n",
    "with Session(engine) as session:\n",
    "    results = session.query(Movies).all()"
   ]
  },
  {
   "cell_type": "markdown",
   "id": "134999b0-f0f7-4dbc-a5bf-3be0ffe72ea4",
   "metadata": {},
   "source": [
    "To display the results, we have to simply iterate and check the columns we want to get :"
   ]
  },
  {
   "cell_type": "code",
   "execution_count": 4,
   "id": "4fd15635-beef-4c05-80f1-13dc9d0bc5b9",
   "metadata": {},
   "outputs": [
    {
     "name": "stdout",
     "output_type": "stream",
     "text": [
      "A good movie 4.36\n",
      "Another good movie, slightly better 4.63\n",
      "A bad movie, but with some success 4.26\n",
      "A very bad movie 2.86\n",
      "A not so bad movie 3.86\n"
     ]
    }
   ],
   "source": [
    "for result in results: \n",
    "    print(result.Title, result.Votes) "
   ]
  },
  {
   "cell_type": "markdown",
   "id": "6ad40944-fb78-4615-be51-2f046cf4a86a",
   "metadata": {},
   "source": [
    "The method `.filter` is used to create conditions of selection :"
   ]
  },
  {
   "cell_type": "code",
   "execution_count": 6,
   "id": "16bfa690-9ba1-4d1f-b360-60f7467a317b",
   "metadata": {},
   "outputs": [
    {
     "name": "stdout",
     "output_type": "stream",
     "text": [
      "A good movie 4.36\n",
      "Another good movie, slightly better 4.63\n",
      "A bad movie, but with some success 4.26\n"
     ]
    }
   ],
   "source": [
    "with Session(engine) as session:\n",
    "    results = session.query(Movies).filter(Movies.Votes > 4.0).all()\n",
    "    for result in results: \n",
    "        print(result.Title, result.Votes) "
   ]
  },
  {
   "cell_type": "markdown",
   "id": "7af78155-8f7d-4ba6-99e4-4e4ee5a9a60a",
   "metadata": {},
   "source": [
    "Others methods to write requests :\n",
    "* `.group_by()`\n",
    "* `.count()`\n",
    "* `.order_by()`\n",
    "* `.join()`\n",
    "* etc.\n",
    "\n",
    "You can read the [query guide](https://docs.sqlalchemy.org/en/14/orm/queryguide.html) in the SQLAlchemy documentation.\n",
    "\n",
    "You may ask : isn’t it a bit complicated just to write a query ? It is a high-level approach that respond to specific problems (do not use SQL, OOP, agnostic of the DBMS, etc.)\n",
    "\n",
    "As previously said, this is not an extensive lecture about SQLAlchemy, but the idea is to mention the existence of SQLAlchemy in case you are working on a project that uses it or requires it."
   ]
  },
  {
   "cell_type": "markdown",
   "id": "75bbf8b2-7cab-4951-8c0e-241deb2518b0",
   "metadata": {},
   "source": [
    "## NoSQL\n",
    "\n",
    "### Limits of the relational model\n",
    "\n",
    "As we have learned, SQL was designed to query relational databases. This kind of database has numerous advantages :\n",
    "\n",
    "* relational model make easy the querying on relationships between data belongings to multiple tables\n",
    "* data are stored in a well structured manner : the structure of the data model and data type is defined before the actual manipulation of the data\n",
    "* structure brings constraints that garanties that storage is secure and robust (very low risk of error). You can’t delete or add feature and data that would brings incoherence in the dataset (delete a column that is a foreign key in another table, create a column with a datatype or default value that conclicts with already existing data or structure definition, etc.)\n",
    "* [ACID](https://en.wikipedia.org/wiki/ACID) compliant :\n",
    "    * Atomicity : a query is executed with success, or not at all (if some error occured during the exectution). For example you can’t start an UPDATE and stop it before it is fully processed with some data modified and other not. That prevents the apparition of inconsistancies.\n",
    "    * Consistancy : the dataset is valid before a query is processed, and valid once it has been processed. If you write new data in the dataset, it must be valid according to all defined rules of the model\n",
    "    * Isolation : when several users access to the database at the same time, the DBMS has to deal with concurrent queries (that write and read the same data at the same time). The isolation principle ensures that at the end the database is in the same state as if it would have been requested sequentially (one query after the other)\n",
    "    * Durability : long term storage is secure : commited data can’t be lost\n",
    "  The ACID principle allows the possibility to perform complex operations in one single query, like joins operation\n",
    "\n",
    "But these qualities can become defects in some cases :\n",
    "\n",
    "* the emphasis – and necessity – on the model and the predefined structure lengthens the development time of such databases\n",
    "* another caveats of this dependance to structure is that it can’t manage unstructured data or data whose characteristics are not known in advance\n",
    "* the implementation, management or administration of relational databases is monolithic : they are hard to scale horizontally, they are easier to upscale or scale vertically\n",
    "\n",
    "  We have here to present some terminology : \n",
    "    * horizontal scaling is the process where the capacity of treatment of a database is obtained by adding other servers or node managing the data\n",
    "    * upscaling or vertical scaling is the process where the capacity of treatment of a database is obtained by upscaling the capacity of the server managing the database (more memory, more computing power, more storage capacity, etc.) wich is more expansive, demanding, and you can’t upscale forever (there is a physical limit, max memory or CPU, etc.)\n",
    "\n",
    "  When a database gets bigger, we may want to divides the data in smaller entities :\n",
    "    * horizontal partitioning : the records (lines) belonging to the same table can be distributed between several tables. For example a customers table could be divided between several tables, each table gathering the cutomers of a specific city (one table for Marseille, one for Paris, etc.) each table having records with the same columns. It’s easier to make an horizontal scaling in this case : you can add servers that manage determined tables. The problems is that the schema become confused (several tables with same structured records) especially when you have to write data and control constraints (reading is far simpler to deal with)\n",
    "    * vertical partitioning : a table is splitted along its columns (\"rows splitting\" : rows get splitted). For example a table customers containing customers id (Firstname, Lastname, birthday…), adress, orders, could be divided between an  id table, an address table and an orders table\n",
    "    * sharding : it is similar to horizontal partitioning, but shards (partition) go beyond that. In horizontal partitioning, there is only one schema, sharding implies that rows are distributed between several tables, but that it occurs between several instances of the schema. Each shard is totally independant and can be heberged on different servers, datacenters, etc.\n",
    "\n",
    "This lead to the idea that whe data gets big, and really big, there is a need of flexibility in the database schema. The relational model reaches its limits.\n",
    "\n",
    "### NoSQL \n",
    "\n",
    "NoSQL means \"Not only SQL\", and not \"Not SQL\"! That rather refers to \"no relational model\". Exemple of NoSQL solutions (disclaimer, the categorization is not as strict as presented, it’s just examples to fix the idea) : \n",
    "* MongoDB, CouchBase (documents - more or less complex JSON - rather than rows)\n",
    "* Redis, Amazon DynamoDB (key-values)\n",
    "* Cassandra, Big Table, Accumulo (columns)\n",
    "* Amazon Neptune, Neo4j (graphs)\n",
    "\n",
    "NoSQL deals with the limits exposed just before :\n",
    "\n",
    "* NoSQL is flexible because *it just does not support* relationships between tables (simple!). So it can deal with unstructured data or data whose type is not well known (or totally unknown) before we build the database. The structures in NoSQL can be :\n",
    "    * an unstructured document (JSON, BSON, XML, etc.)\n",
    "    * a pair key-value object (particularly efficient for unique but complex values)\n",
    "    * a table (columns records rather than rows : efficient if queries only use few columns)\n",
    "    * graphs\n",
    "    * time series\n",
    "    * etc.\n",
    "* NoSQL do not follow a unique concept or schema, but it covers different types of non relational databases that correspond to different usecases\n",
    "* a NoSQL database can be built dynamically : schema has not to be defined before we begin to manage data. Moreover, documents belonging to the same collection can have different types (for example, the key-value documents do not need to have the same keys). Sometimes it is static, for example if we deal with a lot of columns oriented documents (tables).\n",
    "* dealing with unstructured data makes the sharding easier, and therefore the building of distributed databases and horizontal scaling far more easier. NoSQL engines are optimized to operate in highly distributed environment (datacenters scale)\n",
    "* in fact NoSQL database are generally used to build distributed database with large amount of data. On part of this process is the replication of shards of data from one node to others (replicas). That  is really useful when a lot of clients want to access to the data at the same time, to manage the load balance. But this operation takes time. This leads to a high risk of inconsistancy if one client access to a data in a replica that has not yet been updated (that’s more a problem of distributed databases than specifically NoSQL, but NoSQL are generally distributed databases).\n",
    "*  NoSQL is not specified to be ACID compliant, and there is no definition of a guaranteed simple way of performing a JOIN operation in one single request, for exemple (as there is no relation…)\n",
    "\n",
    "Moreover be careful. Know what you’re doing. Relational databases can also be dynamic, distributed, deal with JSON or exotic data structures. It’s just easier with NoSQL tools. On the contrary, as MongoDB is very easy to use, some has the reflex to use systematically a MongoDB databases, even in situations where they end-up building a NoSQL database that follows a relational model… that’s nonsense.\n",
    "\n",
    "### UnQLite\n",
    "\n",
    "UnQLite is an embedded NoSQL component comparable to SQLite (no need to install a third party server, lightweight - <1.8Mo). It was originally developped for Java, but a binding in Python can be installed with `pip`, along with Cython. \n",
    "\n",
    "Cython is a language very close to Python, to which it adds support for some instructions in C/C++. It simplify the coding of extensions for Python."
   ]
  },
  {
   "cell_type": "code",
   "execution_count": 11,
   "id": "e195a976-c75e-4c13-86aa-f17eb0a1b7ab",
   "metadata": {},
   "outputs": [
    {
     "name": "stdout",
     "output_type": "stream",
     "text": [
      "Requirement already satisfied: Cython in /home/jean/.venv/courses/lib/python3.11/site-packages (3.0.11)\n",
      "Requirement already satisfied: unqlite in /home/jean/.venv/courses/lib/python3.11/site-packages (0.9.7)\n"
     ]
    }
   ],
   "source": [
    "!pip install Cython unqlite"
   ]
  },
  {
   "cell_type": "code",
   "execution_count": 9,
   "id": "cc4b8da7-5137-4cbe-a8b3-83ed6ba92485",
   "metadata": {},
   "outputs": [],
   "source": [
    "import unqlite"
   ]
  },
  {
   "cell_type": "code",
   "execution_count": null,
   "id": "1a0b5ba6-a248-4faf-8160-bdee72a9c564",
   "metadata": {},
   "outputs": [],
   "source": []
  }
 ],
 "metadata": {
  "kernelspec": {
   "display_name": "Python 3 (ipykernel)",
   "language": "python",
   "name": "python3"
  },
  "language_info": {
   "codemirror_mode": {
    "name": "ipython",
    "version": 3
   },
   "file_extension": ".py",
   "mimetype": "text/x-python",
   "name": "python",
   "nbconvert_exporter": "python",
   "pygments_lexer": "ipython3",
   "version": "3.11.2"
  }
 },
 "nbformat": 4,
 "nbformat_minor": 5
}
